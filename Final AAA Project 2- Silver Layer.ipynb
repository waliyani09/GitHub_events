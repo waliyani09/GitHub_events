{
 "cells": [
  {
   "cell_type": "markdown",
   "metadata": {
    "application/vnd.databricks.v1+cell": {
     "cellMetadata": {
      "byteLimit": 2048000,
      "rowLimit": 10000
     },
     "inputWidgets": {},
     "nuid": "d41f9654-99fa-428a-ac0d-fe8a85908d0b",
     "showTitle": false,
     "title": ""
    }
   },
   "source": [
    "# ERD - Silver Layer"
   ]
  },
  {
   "cell_type": "markdown",
   "metadata": {
    "application/vnd.databricks.v1+cell": {
     "cellMetadata": {
      "byteLimit": 2048000,
      "rowLimit": 10000
     },
     "inputWidgets": {},
     "nuid": "1616b0f9-6f7b-4cd2-a8a7-78ffe7b4641f",
     "showTitle": false,
     "title": ""
    }
   },
   "source": [
    "Original ERD"
   ]
  },
  {
   "cell_type": "markdown",
   "metadata": {
    "application/vnd.databricks.v1+cell": {
     "cellMetadata": {
      "byteLimit": 2048000,
      "rowLimit": 10000
     },
     "inputWidgets": {},
     "nuid": "de784f9a-ab92-4464-8a64-0d78bcfdd8c7",
     "showTitle": false,
     "title": ""
    }
   },
   "source": [
    "! [ERD] (\"https://lucid.app/lucidchart/8831f2d0-4179-4e75-a5b0-9993800ab551/edit?page=0_0&invitationId=inv_b615b161-c17a-4fcb-b572-66037776abbb#\")"
   ]
  },
  {
   "cell_type": "markdown",
   "metadata": {
    "application/vnd.databricks.v1+cell": {
     "cellMetadata": {
      "byteLimit": 2048000,
      "rowLimit": 10000
     },
     "inputWidgets": {},
     "nuid": "e41aeab8-fb19-4b2b-bf02-84f0c039a149",
     "showTitle": false,
     "title": ""
    }
   },
   "source": [
    "Final ERD"
   ]
  },
  {
   "cell_type": "markdown",
   "metadata": {
    "application/vnd.databricks.v1+cell": {
     "cellMetadata": {
      "byteLimit": 2048000,
      "rowLimit": 10000
     },
     "inputWidgets": {},
     "nuid": "3e2a73ee-88fa-488b-9dab-ea8e6c7b5991",
     "showTitle": false,
     "title": ""
    }
   },
   "source": [
    "! [ERD] (\"https://lucid.app/lucidchart/aa4c3cdf-140b-4200-ace7-d76f1aeec0da/edit?page=0_0&invitationId=inv_054df077-327a-40b4-87f6-0a5f18269530\")"
   ]
  },
  {
   "cell_type": "markdown",
   "metadata": {
    "application/vnd.databricks.v1+cell": {
     "cellMetadata": {
      "byteLimit": 2048000,
      "rowLimit": 10000
     },
     "inputWidgets": {},
     "nuid": "fa57c883-71b1-43e6-9561-03f03694b709",
     "showTitle": false,
     "title": ""
    }
   },
   "source": [
    "###imports"
   ]
  },
  {
   "cell_type": "code",
   "execution_count": null,
   "metadata": {
    "application/vnd.databricks.v1+cell": {
     "cellMetadata": {
      "byteLimit": 2048000,
      "rowLimit": 10000
     },
     "inputWidgets": {},
     "nuid": "66752b40-3fda-43b0-b59e-4f7cd441cf9d",
     "showTitle": false,
     "title": ""
    }
   },
   "outputs": [],
   "source": [
    "from pyspark.sql.types import StructType, StructField, IntegerType, LongType\n",
    "from pyspark.sql.functions import cast, col, to_timestamp, when, explode,size\n",
    "from pyspark.sql import DataFrame\n",
    "from pyspark.sql.functions import broadcast\n",
    "import os"
   ]
  },
  {
   "cell_type": "markdown",
   "metadata": {
    "application/vnd.databricks.v1+cell": {
     "cellMetadata": {
      "byteLimit": 2048000,
      "rowLimit": 10000
     },
     "inputWidgets": {},
     "nuid": "ba4618ef-04a5-4b0b-be15-13df81b1cdf2",
     "showTitle": false,
     "title": ""
    }
   },
   "source": [
    "###functions"
   ]
  },
  {
   "cell_type": "markdown",
   "metadata": {
    "application/vnd.databricks.v1+cell": {
     "cellMetadata": {},
     "inputWidgets": {},
     "nuid": "59858d4a-3a0e-4a77-89a7-0a4a7c5f9975",
     "showTitle": false,
     "title": ""
    }
   },
   "source": [
    "# Highlights of our functions\n",
    "1. Rename payload Columns:\n",
    "    * Input: given_df -> DataFrame, title -> String\n",
    "    * Renames the column with the following pattern: parent_child_grandchild\n",
    "    * Output: return_df -> DataFrame\n",
    "\n",
    "2. subDF\n",
    "    * Input: df, title (string)\n",
    "    * Returns a new DataFrame for the specified column name\n",
    "    * Output: df\n",
    "\n",
    "3. subDFWithMasterID / subDFWithoutMasterID / subDFWithMasterID2:\n",
    "    * Input: df\n",
    "    * Creates a new df and preserves the specified columns + event_id\n",
    "    * Output: df\n",
    "\n",
    "4. add_index:\n",
    "    * Converts a df into an RDD, creates an index, and outputs the df"
   ]
  },
  {
   "cell_type": "code",
   "execution_count": null,
   "metadata": {
    "application/vnd.databricks.v1+cell": {
     "cellMetadata": {
      "byteLimit": 2048000,
      "rowLimit": 10000
     },
     "inputWidgets": {},
     "nuid": "fc269035-9fe8-4b06-be7b-1db3c9d17e8c",
     "showTitle": false,
     "title": ""
    }
   },
   "outputs": [],
   "source": [
    "# rename_cols(df.filter(col('payload.issue').isNotNull()), 'issue').display()\n",
    "\n",
    "def rename_payload_cols(given_df, title):\n",
    "\n",
    "    # Get the list of all columns under the specified nested column\n",
    "    nested_columns = given_df.select(f'payload.{title}.*').columns\n",
    "\n",
    "    # Start with a DataFrame containing the non-nested columns\n",
    "    new_columns = [f'payload.{title}.{col}' for col in nested_columns]\n",
    "    return_df = given_df.select('event_id', 'type', *new_columns)\n",
    "\n",
    "    for column in nested_columns:\n",
    "        return_df = return_df.withColumnRenamed(column, f'{title}_{column}')\n",
    "\n",
    "    return return_df\n",
    "\n",
    "\n",
    "def subDF(given_df, title):\n",
    "    nested_columns = given_df.select(f'{title}.*').columns\n",
    "    new_columns = [f'{title}.{col}' for col in nested_columns]\n",
    "    return_df = given_df.select('event_id', *new_columns)\n",
    "\n",
    "    for column in nested_columns:\n",
    "        return_df = return_df.withColumnRenamed(column, f'{title}_{column}')\n",
    "\n",
    "    return return_df\n",
    "\n",
    "\n",
    "def subDFWithoutMasterID(given_df, target_table, id_column):\n",
    "    nested_columns = given_df.select(f'{target_table}.*').columns\n",
    "    new_columns = [f'{target_table}.{col}' for col in nested_columns]\n",
    "    return_df = given_df.select('event_id', *new_columns)\n",
    "\n",
    "def subDFWithMasterID(given_df, target_table, id_column):\n",
    "    nested_columns = given_df.select(f'{target_table}.*').columns\n",
    "    new_columns = [f'{target_table}.{col}' for col in nested_columns]\n",
    "    return_df = given_df.select('event_id', f'master_{id_column}_id', *new_columns)\n",
    "\n",
    "    for column in nested_columns:\n",
    "        return_df = return_df.withColumnRenamed(column, f'{target_table}_{column}')\n",
    "\n",
    "    return return_df\n",
    "\n",
    "\n",
    "def add_index(df, event_type, start_index = 1):\n",
    "    df_with_index = df.rdd.zipWithIndex().map(lambda x: (x[1]+start_index, *x[0]))\n",
    "\n",
    "    schema = StructType([\n",
    "        StructField(f\"{event_type}_id\", IntegerType(), False),\n",
    "        *df.schema.fields\n",
    "    ])\n",
    "\n",
    "    df_with_index = df_with_index.toDF(schema=schema)\n",
    "\n",
    "    return df_with_index\n",
    "\n",
    "\n",
    "def drop_null_columns(df: DataFrame) -> DataFrame:\n",
    "    null_columns = [col_name for col_name in df.columns if df.filter(col(col_name).isNotNull()).count() == 0]\n",
    "    df = df.drop(*null_columns)\n",
    "    return df\n",
    "\n",
    "\n",
    "def subDFWithMasterID2(given_df, target_table,*args):\n",
    "    nested_columns = given_df.select(f'{target_table}.*').columns\n",
    "    new_columns = [f'{target_table}.{col}' for col in nested_columns]\n",
    "    return_df = given_df.select('event_id', *new_columns,*args)\n",
    "    for column in nested_columns:\n",
    "        return_df = return_df.withColumnRenamed(column, f'{target_table}_{column}')\n",
    "    return (return_df)\n"
   ]
  },
  {
   "cell_type": "markdown",
   "metadata": {
    "application/vnd.databricks.v1+cell": {
     "cellMetadata": {},
     "inputWidgets": {},
     "nuid": "4883041d-7c1d-424e-8b79-efca412833b4",
     "showTitle": false,
     "title": ""
    }
   },
   "source": [
    "# ADLS Configuration Settings and write to adls function"
   ]
  },
  {
   "cell_type": "code",
   "execution_count": null,
   "metadata": {
    "application/vnd.databricks.v1+cell": {
     "cellMetadata": {
      "byteLimit": 2048000,
      "rowLimit": 10000
     },
     "inputWidgets": {},
     "nuid": "0d1907e1-4177-4919-a7d1-6efcfeac3d72",
     "showTitle": false,
     "title": ""
    }
   },
   "outputs": [],
   "source": [
    "adls_container = os.getenv('ADLS_CONTAINER') #azure storage account container\n",
    "adls_account_name = os.getenv('ADLS_ACCOUNT_NAME')\n",
    "client_id = os.getenv('ADLS_CLIENT_ID') #aka: app id\n",
    "tenant_id = os.getenv('ADLS_TENANT_ID') #aka: directory id\n",
    "\n",
    "service_credential = dbutils.secrets.get(scope=\"databricks-app-kv\",key=\"databricks-application\")\n",
    "\n",
    "spark.conf.set(f\"fs.azure.account.auth.type.{adls_account_name}.dfs.core.windows.net\", \"OAuth\")\n",
    "spark.conf.set(f\"fs.azure.account.oauth.provider.type.{adls_account_name}.dfs.core.windows.net\", \"org.apache.hadoop.fs.azurebfs.oauth2.ClientCredsTokenProvider\")\n",
    "spark.conf.set(f\"fs.azure.account.oauth2.client.id.{adls_account_name}.dfs.core.windows.net\", f\"{client_id}\")\n",
    "spark.conf.set(f\"fs.azure.account.oauth2.client.secret.{adls_account_name}.dfs.core.windows.net\", service_credential)\n",
    "spark.conf.set(f\"fs.azure.account.oauth2.client.endpoint.{adls_account_name}.dfs.core.windows.net\", f\"https://login.microsoftonline.com/{tenant_id}/oauth2/token\")\n",
    "\n",
    "def write_df_to_adls(df, numPartitions, partitionByCol, folder_name , overwrite=False): \n",
    "    # Write the DataFrame to ADLS\n",
    "    df.repartition(numPartitions).write.mode(\"overwrite\" if overwrite else \"append\").parquet(f'abfss://{contname}@{storage_acct_name}.dfs.core.windows.net/SilverLayer/{folder_name}')\n"
   ]
  },
  {
   "cell_type": "markdown",
   "metadata": {
    "application/vnd.databricks.v1+cell": {
     "cellMetadata": {},
     "inputWidgets": {},
     "nuid": "bc66f178-748c-42e3-a40d-44613fc7eb40",
     "showTitle": false,
     "title": ""
    }
   },
   "source": [
    "### event_df"
   ]
  },
  {
   "cell_type": "code",
   "execution_count": null,
   "metadata": {
    "application/vnd.databricks.v1+cell": {
     "cellMetadata": {
      "byteLimit": 2048000,
      "rowLimit": 10000
     },
     "inputWidgets": {},
     "nuid": "c2c472a4-f21d-4144-9dcc-299827081406",
     "showTitle": false,
     "title": ""
    }
   },
   "outputs": [],
   "source": [
    "contname = 'team4-project2' #azure storage account container\n",
    "storage_acct_name = '20230821desa'\n",
    "\n",
    "file_pattern = f\"abfss://{contname}@{storage_acct_name}.dfs.core.windows.net/BronzeLayer/\"\n",
    "df = spark.read.format('parquet').load(f'{file_pattern}').withColumnRenamed('id', 'event_id')"
   ]
  },
  {
   "cell_type": "markdown",
   "metadata": {
    "application/vnd.databricks.v1+cell": {
     "cellMetadata": {
      "byteLimit": 2048000,
      "rowLimit": 10000
     },
     "inputWidgets": {},
     "nuid": "6c95503e-0cdb-441d-a670-ee67e763f9d7",
     "showTitle": false,
     "title": ""
    }
   },
   "source": [
    "###actor_df"
   ]
  },
  {
   "cell_type": "markdown",
   "metadata": {
    "application/vnd.databricks.v1+cell": {
     "cellMetadata": {},
     "inputWidgets": {},
     "nuid": "aecc3682-b9e6-4bc1-9504-3f283a8655e4",
     "showTitle": false,
     "title": ""
    }
   },
   "source": [
    "* Collecting all the actor information from main df\n",
    "* Converting the created at to a timestamp, this will give us the newest user login for each actor id\n",
    "* Resetting the column names"
   ]
  },
  {
   "cell_type": "code",
   "execution_count": null,
   "metadata": {
    "application/vnd.databricks.v1+cell": {
     "cellMetadata": {
      "byteLimit": 2048000,
      "rowLimit": 10000
     },
     "inputWidgets": {},
     "nuid": "9b9b3f45-12a5-493c-9aa6-fb2d25763a3f",
     "showTitle": false,
     "title": ""
    }
   },
   "outputs": [
    {
     "data": {
      "text/plain": [
       "\u001b[0;31m---------------------------------------------------------------------------\u001b[0m\n",
       "\u001b[0;31mNameError\u001b[0m                                 Traceback (most recent call last)\n",
       "File \u001b[0;32m<command-173403117478135>:2\u001b[0m\n",
       "\u001b[1;32m      1\u001b[0m \u001b[38;5;66;03m# selecting actor columns from df\u001b[39;00m\n",
       "\u001b[0;32m----> 2\u001b[0m actor_cols \u001b[38;5;241m=\u001b[39m [col \u001b[38;5;28;01mfor\u001b[39;00m col \u001b[38;5;129;01min\u001b[39;00m df\u001b[38;5;241m.\u001b[39mcolumns \u001b[38;5;28;01mif\u001b[39;00m col\u001b[38;5;241m.\u001b[39mstartswith(\u001b[38;5;124m\"\u001b[39m\u001b[38;5;124mactor\u001b[39m\u001b[38;5;124m\"\u001b[39m)]\n",
       "\u001b[1;32m      3\u001b[0m actor_df \u001b[38;5;241m=\u001b[39m df\u001b[38;5;241m.\u001b[39mselect(\u001b[38;5;241m*\u001b[39mactor_cols ,\u001b[38;5;124m\"\u001b[39m\u001b[38;5;124mcreated_at\u001b[39m\u001b[38;5;124m\"\u001b[39m)\n",
       "\u001b[1;32m      5\u001b[0m \u001b[38;5;66;03m# casting created_at to timestamp\u001b[39;00m\n",
       "\n",
       "\u001b[0;31mNameError\u001b[0m: name 'df' is not defined"
      ]
     },
     "metadata": {
      "application/vnd.databricks.v1+output": {
       "arguments": {},
       "data": "\u001b[0;31m---------------------------------------------------------------------------\u001b[0m\n\u001b[0;31mNameError\u001b[0m                                 Traceback (most recent call last)\nFile \u001b[0;32m<command-173403117478135>:2\u001b[0m\n\u001b[1;32m      1\u001b[0m \u001b[38;5;66;03m# selecting actor columns from df\u001b[39;00m\n\u001b[0;32m----> 2\u001b[0m actor_cols \u001b[38;5;241m=\u001b[39m [col \u001b[38;5;28;01mfor\u001b[39;00m col \u001b[38;5;129;01min\u001b[39;00m df\u001b[38;5;241m.\u001b[39mcolumns \u001b[38;5;28;01mif\u001b[39;00m col\u001b[38;5;241m.\u001b[39mstartswith(\u001b[38;5;124m\"\u001b[39m\u001b[38;5;124mactor\u001b[39m\u001b[38;5;124m\"\u001b[39m)]\n\u001b[1;32m      3\u001b[0m actor_df \u001b[38;5;241m=\u001b[39m df\u001b[38;5;241m.\u001b[39mselect(\u001b[38;5;241m*\u001b[39mactor_cols ,\u001b[38;5;124m\"\u001b[39m\u001b[38;5;124mcreated_at\u001b[39m\u001b[38;5;124m\"\u001b[39m)\n\u001b[1;32m      5\u001b[0m \u001b[38;5;66;03m# casting created_at to timestamp\u001b[39;00m\n\n\u001b[0;31mNameError\u001b[0m: name 'df' is not defined",
       "errorSummary": "<span class='ansi-red-fg'>NameError</span>: name 'df' is not defined",
       "errorTraceType": "ansi",
       "metadata": {},
       "type": "ipynbError"
      }
     },
     "output_type": "display_data"
    }
   ],
   "source": [
    "# selecting actor columns from df\n",
    "actor_cols = [col for col in df.columns if col.startswith(\"actor\")]\n",
    "actor_df = df.select(*actor_cols ,\"created_at\")\n",
    "\n",
    "# casting created_at to timestamp\n",
    "actor_df = actor_df.withColumn('created_at', to_timestamp('created_at'))\n",
    "\n",
    "# I seleting most updated info per actor_id\n",
    "new_actor_cols = [col for col in actor_df.columns if col.startswith(\"actor\")]\n",
    "\n",
    "actor_df = actor_df.groupBy('actor_id').agg({str(new_actor_cols[0]): 'max', str(new_actor_cols[1]): 'max', str(new_actor_cols[2]): 'max', str(new_actor_cols[3]): 'max', str(new_actor_cols[4]): 'max', str(new_actor_cols[5]): 'max', \"created_at\": \"max\"}).drop('actor_id', 'max(created_at)')\n",
    "\n",
    "# renameing max columns\n",
    "max_actor_cols = [col for col in actor_df.columns if col.startswith(\"max\")]\n",
    "\n",
    "actor_df = actor_df.withColumnRenamed('max(actor_avatar_url)', 'actor_avatar_url').withColumnRenamed('max(actor_display_login)', 'actor_display_login').withColumnRenamed('max(actor_gravatar_id)', 'actor_gravatar_id').withColumnRenamed('max(actor_url)', 'actor_url').withColumnRenamed('max(actor_id)', 'actor_id').withColumnRenamed('max(actor_login)', 'actor_login')\n",
    "\n",
    "actor_df = actor_df.select('actor_id', 'actor_login', 'actor_display_login', 'actor_avatar_url', 'actor_url')\n",
    "\n",
    "actor_df.printSchema()\n",
    "\n",
    "write_df_to_adls(actor_df, 7, 'actor_id', 'actors' , True)"
   ]
  },
  {
   "cell_type": "markdown",
   "metadata": {
    "application/vnd.databricks.v1+cell": {
     "cellMetadata": {
      "byteLimit": 2048000,
      "rowLimit": 10000
     },
     "inputWidgets": {},
     "nuid": "8dbcc34c-bc96-4335-9170-2d382ce1c8c7",
     "showTitle": false,
     "title": ""
    }
   },
   "source": [
    "### org_df"
   ]
  },
  {
   "cell_type": "markdown",
   "metadata": {
    "application/vnd.databricks.v1+cell": {
     "cellMetadata": {},
     "inputWidgets": {},
     "nuid": "3ca367f7-bc6b-4d21-9935-c401a0d28e65",
     "showTitle": false,
     "title": ""
    }
   },
   "source": [
    "* Collecting all the organization information from main df\n",
    "* Converting the created at to a timestamp, this will give us the newest organization login for each org id\n",
    "* Resetting the column names"
   ]
  },
  {
   "cell_type": "code",
   "execution_count": null,
   "metadata": {
    "application/vnd.databricks.v1+cell": {
     "cellMetadata": {
      "byteLimit": 2048000,
      "rowLimit": 10000
     },
     "inputWidgets": {},
     "nuid": "72417eeb-63f2-4174-8678-23b829fe20b6",
     "showTitle": false,
     "title": ""
    }
   },
   "outputs": [
    {
     "name": "stdout",
     "output_type": "stream",
     "text": [
      "root\n",
      " |-- org_id: long (nullable = true)\n",
      " |-- org_login: string (nullable = true)\n",
      " |-- org_url: string (nullable = true)\n",
      " |-- org_avatar_url: string (nullable = true)\n",
      "\n"
     ]
    }
   ],
   "source": [
    "# selecting org columns from df\n",
    "org_cols = [col for col in df.columns if col.startswith(\"org\")]\n",
    "org_df = df.select(\"event_id\", *org_cols ,\"created_at\").where(df.org_id.isNotNull())\n",
    "\n",
    "# casting created_at to timestamp\n",
    "org_df = org_df.withColumn('created_at', to_timestamp('created_at'))\n",
    "\n",
    "# I seleting most updated info per actor_id\n",
    "org_df = org_df.groupBy('org_id').agg({str(org_cols[0]): 'max', str(org_cols[1]): 'max', str(org_cols[2]): 'max', str(org_cols[3]): 'max', str(org_cols[4]): 'max'}).drop('org_id', 'max(created_at)')\n",
    "\n",
    "# renameing max columns\n",
    "max_org_cols = [col for col in org_df.columns if col.startswith(\"max\")]\n",
    "\n",
    "org_df = org_df.withColumnRenamed('max(org_avatar_url)', 'org_avatar_url').withColumnRenamed('max(org_gravatar_id)', 'org_gravatar_id').withColumnRenamed('max(org_id)', 'org_id').withColumnRenamed('max(org_login)', 'org_login').withColumnRenamed('max(org_url)', 'org_url')\n",
    "\n",
    "org_df = org_df.select('org_id', 'org_login', 'org_url', 'org_avatar_url')\n",
    "\n",
    "org_df.printSchema()\n",
    "\n",
    "write_df_to_adls(org_df, 1, 'org_id', 'orgs' , True)"
   ]
  },
  {
   "cell_type": "markdown",
   "metadata": {
    "application/vnd.databricks.v1+cell": {
     "cellMetadata": {
      "byteLimit": 2048000,
      "rowLimit": 10000
     },
     "inputWidgets": {},
     "nuid": "641eaab5-d348-4853-9865-51595e38fdcc",
     "showTitle": false,
     "title": ""
    }
   },
   "source": [
    "###repo_df"
   ]
  },
  {
   "cell_type": "markdown",
   "metadata": {
    "application/vnd.databricks.v1+cell": {
     "cellMetadata": {},
     "inputWidgets": {},
     "nuid": "07eccaf3-8d4a-44b7-bc59-c22a81737afc",
     "showTitle": false,
     "title": ""
    }
   },
   "source": [
    "* Collecting all the repository information from main df\n",
    "* Converting the created at to a timestamp, this will give us the newest repo login for each repo id\n",
    "* Resetting the column names"
   ]
  },
  {
   "cell_type": "code",
   "execution_count": null,
   "metadata": {
    "application/vnd.databricks.v1+cell": {
     "cellMetadata": {
      "byteLimit": 2048000,
      "rowLimit": 10000
     },
     "inputWidgets": {},
     "nuid": "201fcec2-5e5f-4efc-a4f2-4e91bbb505a0",
     "showTitle": false,
     "title": ""
    }
   },
   "outputs": [
    {
     "name": "stdout",
     "output_type": "stream",
     "text": [
      "root\n",
      " |-- repo_id: long (nullable = true)\n",
      " |-- repo_name: string (nullable = true)\n",
      " |-- repo_url: string (nullable = true)\n",
      "\n"
     ]
    }
   ],
   "source": [
    "# selecting org columns from df\n",
    "repo_cols = [col for col in df.columns if col.startswith(\"repo\")]\n",
    "repo_df = df.select(\"event_id\", *repo_cols ,\"created_at\").where(df.repo_id.isNotNull())\n",
    "\n",
    "# casting created_at to timestamp\n",
    "repo_df = repo_df.withColumn('created_at', to_timestamp('created_at'))\n",
    "\n",
    "# I seleting most updated info per actor_id\n",
    "repo_df = repo_df.groupBy('repo_id').agg({str(repo_cols[0]): 'max', str(repo_cols[1]): 'max', str(repo_cols[2]): 'max', 'event_id': 'max'}).drop('repo_id', 'max(created_at)')\n",
    "\n",
    "# renameing max columns\n",
    "max_repo_cols = [col for col in repo_df.columns if col.startswith(\"max\")]\n",
    "\n",
    "repo_df = repo_df.withColumnRenamed('max(repo_id)', 'repo_id').withColumnRenamed('max(repo_name)', 'repo_name').withColumnRenamed('max(repo_url)', 'repo_url').withColumnRenamed('max(event_id)', 'event_id')\n",
    "\n",
    "repo_df = repo_df.select('repo_id', 'repo_name', 'repo_url')\n",
    "\n",
    "repo_df.printSchema()\n",
    "\n",
    "write_df_to_adls(repo_df, 9, 'repo_id', 'repo' , True)"
   ]
  },
  {
   "cell_type": "code",
   "execution_count": null,
   "metadata": {
    "application/vnd.databricks.v1+cell": {
     "cellMetadata": {
      "byteLimit": 2048000,
      "rowLimit": 10000
     },
     "inputWidgets": {},
     "nuid": "54f3306e-1cdb-429b-99db-a335b89aefdb",
     "showTitle": false,
     "title": ""
    }
   },
   "outputs": [],
   "source": [
    "df = df.drop('actor_login', 'actor_avatar_url', 'actor_display_login', 'actor_gravatar_id', 'actor_login', 'actor_url' , 'repo_name', 'repo_url', 'org_avatar_url', 'org_gravatar_id', 'org_login', 'org_url')"
   ]
  },
  {
   "cell_type": "markdown",
   "metadata": {
    "application/vnd.databricks.v1+cell": {
     "cellMetadata": {
      "byteLimit": 2048000,
      "rowLimit": 10000
     },
     "inputWidgets": {},
     "nuid": "1f83881a-57d4-4e81-a4b4-a09b6364a16a",
     "showTitle": false,
     "title": ""
    }
   },
   "source": [
    "### master_issues"
   ]
  },
  {
   "cell_type": "code",
   "execution_count": null,
   "metadata": {
    "application/vnd.databricks.v1+cell": {
     "cellMetadata": {
      "byteLimit": 2048000,
      "rowLimit": 10000
     },
     "inputWidgets": {},
     "nuid": "6a32f408-414e-420a-9f0f-96337f617c55",
     "showTitle": false,
     "title": ""
    }
   },
   "outputs": [],
   "source": [
    "master_issues = df.filter(col('payload.issue').isNotNull())\n",
    "master_issues = rename_payload_cols(master_issues, 'issue')\n",
    "master_issues = add_index(master_issues, 'master_issue')"
   ]
  },
  {
   "cell_type": "markdown",
   "metadata": {
    "application/vnd.databricks.v1+cell": {
     "cellMetadata": {},
     "inputWidgets": {},
     "nuid": "12329878-02e0-4485-95af-1864a6d231ac",
     "showTitle": false,
     "title": ""
    }
   },
   "source": [
    "### issue_milestone"
   ]
  },
  {
   "cell_type": "code",
   "execution_count": null,
   "metadata": {
    "application/vnd.databricks.v1+cell": {
     "cellMetadata": {
      "byteLimit": 2048000,
      "rowLimit": 10000
     },
     "inputWidgets": {},
     "nuid": "196e78a0-1cd4-4fa2-9ea5-547479195ac0",
     "showTitle": false,
     "title": ""
    }
   },
   "outputs": [],
   "source": [
    "# new milestone logic for issues\n",
    "\n",
    "issue_milestone = master_issues.filter(col('issue_milestone').isNotNull())\n",
    "issue_milestone = subDFWithMasterID(issue_milestone, 'issue_milestone', 'issue')\n",
    "\n",
    "issue_milestone = issue_milestone.drop('issue_milestone_creator')\n",
    "\n",
    "write_df_to_adls(issue_milestone, 1, 'master_issue_id', 'issue_milestone', overwrite= True)\n"
   ]
  },
  {
   "cell_type": "markdown",
   "metadata": {
    "application/vnd.databricks.v1+cell": {
     "cellMetadata": {},
     "inputWidgets": {},
     "nuid": "bc4fb0e3-d299-4af2-b03c-fae2426fb725",
     "showTitle": false,
     "title": ""
    }
   },
   "source": [
    "### issue_pull_request"
   ]
  },
  {
   "cell_type": "code",
   "execution_count": null,
   "metadata": {
    "application/vnd.databricks.v1+cell": {
     "cellMetadata": {
      "byteLimit": 2048000,
      "rowLimit": 10000
     },
     "inputWidgets": {},
     "nuid": "3afb23dc-f67d-485e-a95b-8a06ed562c82",
     "showTitle": false,
     "title": ""
    }
   },
   "outputs": [],
   "source": [
    "issue_pull_requests = master_issues.filter(col('issue_pull_request').isNotNull())\n",
    "\n",
    "issue_pull_requests = subDFWithMasterID(issue_pull_requests, 'issue_pull_request', 'issue')\n",
    "\n",
    "write_df_to_adls(issue_pull_requests, 4, 'master_issue_id', 'issue_pull_requests', overwrite= True)\n"
   ]
  },
  {
   "cell_type": "markdown",
   "metadata": {
    "application/vnd.databricks.v1+cell": {
     "cellMetadata": {},
     "inputWidgets": {},
     "nuid": "36ac2bd6-29bd-4250-89a4-f37918f8c6d4",
     "showTitle": false,
     "title": ""
    }
   },
   "source": [
    "### issue_pvga"
   ]
  },
  {
   "cell_type": "code",
   "execution_count": null,
   "metadata": {
    "application/vnd.databricks.v1+cell": {
     "cellMetadata": {
      "byteLimit": 2048000,
      "rowLimit": 10000
     },
     "inputWidgets": {},
     "nuid": "cd486d39-1ec7-41c2-a723-6771cdf7f6f1",
     "showTitle": false,
     "title": ""
    }
   },
   "outputs": [],
   "source": [
    "issue_pvga = master_issues.filter(col('issue_performed_via_github_app').isNotNull())\n",
    "issue_pvga = subDFWithMasterID(issue_pvga, 'issue_performed_via_github_app', 'issue')\n",
    "\n",
    "# create pvga's owner tables and links that with pvga table\n",
    "issue_pvga = issue_pvga.drop('issue_performed_via_github_app_owner')\n",
    "\n",
    "\n",
    "\n",
    "# 2 columns in issue PVGA - one is for issue events and the other is for comment events- they can all be diff numbers bc in different columns "
   ]
  },
  {
   "cell_type": "markdown",
   "metadata": {
    "application/vnd.databricks.v1+cell": {
     "cellMetadata": {},
     "inputWidgets": {},
     "nuid": "2f7e7883-b64f-4aea-84a4-ebd02591c69e",
     "showTitle": false,
     "title": ""
    }
   },
   "source": [
    "### issue_pvga_permission"
   ]
  },
  {
   "cell_type": "code",
   "execution_count": null,
   "metadata": {
    "application/vnd.databricks.v1+cell": {
     "cellMetadata": {
      "byteLimit": 2048000,
      "rowLimit": 10000
     },
     "inputWidgets": {},
     "nuid": "049a427e-1cea-4996-85f4-93613f4ff5ff",
     "showTitle": false,
     "title": ""
    }
   },
   "outputs": [],
   "source": [
    "# issue_pvga_permissions = subDF(issue_pvga, 'issue_performed_via_github_app_permissions')\n",
    "\n",
    "issue_pvga = add_index(issue_pvga, 'master_issue_pvga')\n",
    "\n",
    "issue_pvga_permissions = issue_pvga.filter(col('issue_performed_via_github_app_permissions').isNotNull())\n",
    "\n",
    "issue_pvga_permissions = subDFWithMasterID(issue_pvga_permissions, 'issue_performed_via_github_app_permissions', 'issue_pvga')\n",
    "\n",
    "# # Use these to srater the counts for the next thing ie) pvga in the pull_requests table \n",
    "\n",
    "issue_pvga = issue_pvga.drop('issue_performed_via_github_app_permissions')"
   ]
  },
  {
   "cell_type": "markdown",
   "metadata": {
    "application/vnd.databricks.v1+cell": {
     "cellMetadata": {},
     "inputWidgets": {},
     "nuid": "bdae007b-81d8-4091-be71-8a6458194f12",
     "showTitle": false,
     "title": ""
    }
   },
   "source": [
    "### issue_pvga_events"
   ]
  },
  {
   "cell_type": "code",
   "execution_count": null,
   "metadata": {
    "application/vnd.databricks.v1+cell": {
     "cellMetadata": {
      "byteLimit": 2048000,
      "rowLimit": 10000
     },
     "inputWidgets": {},
     "nuid": "b2964043-9392-45ae-929b-c6d349f2d7b4",
     "showTitle": false,
     "title": ""
    }
   },
   "outputs": [],
   "source": [
    "# This is the new issues pvga events setup \n",
    "issue_pvga_events = issue_pvga.filter(size(col('issue_performed_via_github_app_events')) > 0)\n",
    "issue_pvga_events = issue_pvga_events.select('*', explode('issue_performed_via_github_app_events').alias('issue_pvga_events'))\n",
    "\n",
    "issue_pvga_events = issue_pvga_events.select('issue_pvga_events', 'master_issue_pvga_id')\n",
    "\n",
    "issue_pvga = issue_pvga.drop('issue_performed_via_github_app_events')\n",
    "\n",
    "\n",
    "write_df_to_adls(issue_pvga, 1, 'master_issue_id', 'issue_pvga', overwrite= True)\n",
    "write_df_to_adls(issue_pvga_events, 1, 'master_issue_pvga_id', 'issue_pvga_events', overwrite= True)\n",
    "write_df_to_adls(issue_pvga_permissions, 1, 'master_issue_pvga_id', 'issue_pvga_permissions', overwrite= True)\n",
    "\n"
   ]
  },
  {
   "cell_type": "markdown",
   "metadata": {
    "application/vnd.databricks.v1+cell": {
     "cellMetadata": {},
     "inputWidgets": {},
     "nuid": "51fbb4a3-1b73-41aa-9960-023c89ad0332",
     "showTitle": false,
     "title": ""
    }
   },
   "source": [
    "### issue_labels"
   ]
  },
  {
   "cell_type": "code",
   "execution_count": null,
   "metadata": {
    "application/vnd.databricks.v1+cell": {
     "cellMetadata": {
      "byteLimit": 2048000,
      "rowLimit": 10000
     },
     "inputWidgets": {},
     "nuid": "8182edd6-db8a-47c9-ae72-2da452b4482d",
     "showTitle": false,
     "title": ""
    }
   },
   "outputs": [],
   "source": [
    "issue_labels = master_issues.filter(size(col('issue_labels')) > 0).select('*', explode('issue_labels').alias('issue_label'))\n",
    "\n",
    "issue_labels = subDFWithMasterID(issue_labels, 'issue_label', 'issue')\n",
    "\n",
    "write_df_to_adls(issue_labels, 4, 'master_issue_id', 'issue_labels', overwrite= True)\n"
   ]
  },
  {
   "cell_type": "markdown",
   "metadata": {
    "application/vnd.databricks.v1+cell": {
     "cellMetadata": {},
     "inputWidgets": {},
     "nuid": "8a53ac31-ca1c-4802-8e8e-c206521a69a1",
     "showTitle": false,
     "title": ""
    }
   },
   "source": [
    "### dropping uneeded cols"
   ]
  },
  {
   "cell_type": "code",
   "execution_count": null,
   "metadata": {
    "application/vnd.databricks.v1+cell": {
     "cellMetadata": {
      "byteLimit": 2048000,
      "rowLimit": 10000
     },
     "inputWidgets": {},
     "nuid": "8fd1f5e2-2bc5-4d2e-b96b-d435495fb446",
     "showTitle": false,
     "title": ""
    }
   },
   "outputs": [],
   "source": [
    "master_issues = master_issues.drop('issue_labels', 'issue_pull_request', 'issue_milestone', 'issue_performed_via_github_app', 'issue_reactions', 'issue_assignees', 'issue_user', 'issue_active_lock_reason', 'issue_assignee')\n",
    "\n"
   ]
  },
  {
   "cell_type": "markdown",
   "metadata": {
    "application/vnd.databricks.v1+cell": {
     "cellMetadata": {
      "byteLimit": 2048000,
      "rowLimit": 10000
     },
     "inputWidgets": {},
     "nuid": "36064c58-c917-435c-8009-0f56c4292383",
     "showTitle": false,
     "title": ""
    }
   },
   "source": [
    "\n",
    "### Comments_master"
   ]
  },
  {
   "cell_type": "code",
   "execution_count": null,
   "metadata": {
    "application/vnd.databricks.v1+cell": {
     "cellMetadata": {
      "byteLimit": 2048000,
      "rowLimit": 10000
     },
     "inputWidgets": {},
     "nuid": "ee5ffd4d-87d1-49d7-bc0f-c33985b511b4",
     "showTitle": false,
     "title": ""
    }
   },
   "outputs": [],
   "source": [
    "comments_master = df.filter(col('payload.comment').isNotNull())\n",
    "comments_master = rename_payload_cols(comments_master, 'comment')\n",
    "comments_master = add_index(comments_master, 'master_comment')"
   ]
  },
  {
   "cell_type": "markdown",
   "metadata": {
    "application/vnd.databricks.v1+cell": {
     "cellMetadata": {},
     "inputWidgets": {},
     "nuid": "5a2853f1-6380-4679-9359-a04dc02082f2",
     "showTitle": false,
     "title": ""
    }
   },
   "source": [
    "### drop comments_user"
   ]
  },
  {
   "cell_type": "code",
   "execution_count": null,
   "metadata": {
    "application/vnd.databricks.v1+cell": {
     "cellMetadata": {
      "byteLimit": 2048000,
      "rowLimit": 10000
     },
     "inputWidgets": {},
     "nuid": "ded8233b-92dc-481a-85c7-643ddc319844",
     "showTitle": false,
     "title": ""
    }
   },
   "outputs": [],
   "source": [
    "\n",
    "comments_master = comments_master.drop('comment_user')\n",
    "\n"
   ]
  },
  {
   "cell_type": "markdown",
   "metadata": {
    "application/vnd.databricks.v1+cell": {
     "cellMetadata": {},
     "inputWidgets": {},
     "nuid": "8c08739b-43d1-439f-94a1-0ab18f253cc7",
     "showTitle": false,
     "title": ""
    }
   },
   "source": [
    "### comments_pvga"
   ]
  },
  {
   "cell_type": "code",
   "execution_count": null,
   "metadata": {
    "application/vnd.databricks.v1+cell": {
     "cellMetadata": {
      "byteLimit": 2048000,
      "rowLimit": 10000
     },
     "inputWidgets": {},
     "nuid": "068f596e-4835-49df-ba1a-4c16fbb96718",
     "showTitle": false,
     "title": ""
    }
   },
   "outputs": [],
   "source": [
    "# comments \n",
    "comments_pvga = comments_master.filter(col('comment_performed_via_github_app').isNotNull())\n",
    "\n",
    "comments_pvga = subDFWithMasterID(comments_pvga, 'comment_performed_via_github_app', 'comment')\n",
    "\n",
    "# create pvga's owner tables and links that with pvga table\n",
    "\n",
    "\n",
    "\n",
    "comments_pvga = comments_pvga.drop('comment_performed_via_github_app_owner')\n",
    "\n",
    "\n"
   ]
  },
  {
   "cell_type": "markdown",
   "metadata": {
    "application/vnd.databricks.v1+cell": {
     "cellMetadata": {},
     "inputWidgets": {},
     "nuid": "7c18b671-f3c2-486b-a88b-264fc798bd57",
     "showTitle": false,
     "title": ""
    }
   },
   "source": [
    "### comments_pvga_permissions"
   ]
  },
  {
   "cell_type": "code",
   "execution_count": null,
   "metadata": {
    "application/vnd.databricks.v1+cell": {
     "cellMetadata": {
      "byteLimit": 2048000,
      "rowLimit": 10000
     },
     "inputWidgets": {},
     "nuid": "e22c3f3f-e0f0-4bcf-819f-c584974e27c7",
     "showTitle": false,
     "title": ""
    }
   },
   "outputs": [],
   "source": [
    "# doing pvga permissions for the comments table\n",
    "\n",
    "comments_pvga = add_index(comments_pvga, 'master_comments_pvga')\n",
    "\n",
    "comments_pvga_permissions = comments_pvga.filter(col('comment_performed_via_github_app_permissions').isNotNull())\n",
    "\n",
    "comments_pvga_permissions = subDFWithMasterID(comments_pvga_permissions, 'comment_performed_via_github_app_permissions', 'comments_pvga')\n",
    "\n",
    "# merging two permissions tables and setting up the count on permissions\n",
    "\n",
    "# Use these to srater the counts for the next thing ie) pvga in the pull_requests table \n",
    "\n",
    "comments_pvga = comments_pvga.drop('comment_performed_via_github_app_permissions')\n",
    "\n",
    "write_df_to_adls(comments_pvga_permissions, 1, 'master_comments_pvga_id', 'comments_pvga_permissions', overwrite= True)\n",
    "write_df_to_adls(comments_pvga, 1, 'master_comment_id', 'comments_pvga', overwrite= True)\n",
    "\n"
   ]
  },
  {
   "cell_type": "markdown",
   "metadata": {
    "application/vnd.databricks.v1+cell": {
     "cellMetadata": {},
     "inputWidgets": {},
     "nuid": "6ab75f24-6207-460a-a759-e282ccdb6ac4",
     "showTitle": false,
     "title": ""
    }
   },
   "source": [
    "### comments_pvga_events"
   ]
  },
  {
   "cell_type": "code",
   "execution_count": null,
   "metadata": {
    "application/vnd.databricks.v1+cell": {
     "cellMetadata": {
      "byteLimit": 2048000,
      "rowLimit": 10000
     },
     "inputWidgets": {},
     "nuid": "352ddb50-e64c-4480-b953-84ae920f551b",
     "showTitle": false,
     "title": ""
    }
   },
   "outputs": [],
   "source": [
    "comments_pvga_events = comments_pvga.filter(size(col('comment_performed_via_github_app_events')) > 0)\n",
    "comments_pvga_events = comments_pvga_events.select('*', explode('comment_performed_via_github_app_events').alias('comment_pvga_events'))\n",
    "\n",
    "comments_pvga_events = comments_pvga_events.select('comment_pvga_events', 'master_comments_pvga_id')\n",
    "\n",
    "comments_pvga = comments_pvga.drop('comment_performed_via_github_app_events')\n",
    "\n",
    "\n",
    "write_df_to_adls(comments_pvga_events, 1, 'master_comments_pvga_id', 'comments_pvga_events', overwrite= True)\n",
    "\n",
    "\n",
    "\n"
   ]
  },
  {
   "cell_type": "markdown",
   "metadata": {
    "application/vnd.databricks.v1+cell": {
     "cellMetadata": {},
     "inputWidgets": {},
     "nuid": "3fb41102-573c-45f4-8292-17d577054224",
     "showTitle": false,
     "title": ""
    }
   },
   "source": [
    "### comments_links \n",
    "- pulling out the nested comment__links into master comments table"
   ]
  },
  {
   "cell_type": "code",
   "execution_count": null,
   "metadata": {
    "application/vnd.databricks.v1+cell": {
     "cellMetadata": {
      "byteLimit": 2048000,
      "rowLimit": 10000
     },
     "inputWidgets": {},
     "nuid": "e6af6f3f-b3d7-4543-83a6-429a8928570c",
     "showTitle": false,
     "title": ""
    }
   },
   "outputs": [],
   "source": [
    "comments_master = (\n",
    "    comments_master.withColumn('comments_link_html', comments_master.comment__links.html.href).withColumn('comments_link_pull_request', comments_master.comment__links.pull_request.href).withColumn('comments_link_self', comments_master.comment__links.self.href).drop('comment__links')\n",
    "    )"
   ]
  },
  {
   "cell_type": "code",
   "execution_count": null,
   "metadata": {
    "application/vnd.databricks.v1+cell": {
     "cellMetadata": {
      "byteLimit": 2048000,
      "rowLimit": 10000
     },
     "inputWidgets": {},
     "nuid": "7f554d56-17bb-49e5-ad74-603a6ba01f58",
     "showTitle": false,
     "title": ""
    }
   },
   "outputs": [],
   "source": [
    "comments_master = comments_master.drop('comment_performed_via_github_app', 'comment_reactions')\n"
   ]
  },
  {
   "cell_type": "markdown",
   "metadata": {
    "application/vnd.databricks.v1+cell": {
     "cellMetadata": {
      "byteLimit": 2048000,
      "rowLimit": 10000
     },
     "inputWidgets": {},
     "nuid": "e3fd7072-35c6-4da3-b67e-c1c590935300",
     "showTitle": false,
     "title": ""
    }
   },
   "source": [
    "\n",
    "### Pull Requests"
   ]
  },
  {
   "cell_type": "code",
   "execution_count": null,
   "metadata": {
    "application/vnd.databricks.v1+cell": {
     "cellMetadata": {
      "byteLimit": 2048000,
      "rowLimit": 10000
     },
     "inputWidgets": {},
     "nuid": "e9e0e20e-1ca3-40ac-a408-b8a27277c846",
     "showTitle": false,
     "title": ""
    }
   },
   "outputs": [],
   "source": [
    "# pull request assignees and table creation with master_id\n",
    "\n",
    "master_pull_requests = df.filter(col('payload.pull_request').isNotNull())\n",
    "master_pull_requests = rename_payload_cols(master_pull_requests, 'pull_request')\n",
    "master_pull_requests = add_index(master_pull_requests, 'master_pull_request')\n",
    "\n"
   ]
  },
  {
   "cell_type": "code",
   "execution_count": null,
   "metadata": {
    "application/vnd.databricks.v1+cell": {
     "cellMetadata": {
      "byteLimit": 2048000,
      "rowLimit": 10000
     },
     "inputWidgets": {},
     "nuid": "ee85f257-9a06-4022-b94e-638fd5f66b4a",
     "showTitle": false,
     "title": ""
    }
   },
   "outputs": [],
   "source": [
    "master_pull_requests = master_pull_requests.drop('pull_request_user', 'pull_request_merged_by', 'pull_request_requested_reviewers', 'pull_request_assignee', 'pull_request_assignees')"
   ]
  },
  {
   "cell_type": "markdown",
   "metadata": {
    "application/vnd.databricks.v1+cell": {
     "cellMetadata": {},
     "inputWidgets": {},
     "nuid": "77044aaa-b8c2-4e8b-9154-e22d9d88b415",
     "showTitle": false,
     "title": ""
    }
   },
   "source": [
    "\n",
    "#### Pull Request Milestone"
   ]
  },
  {
   "cell_type": "code",
   "execution_count": null,
   "metadata": {
    "application/vnd.databricks.v1+cell": {
     "cellMetadata": {
      "byteLimit": 2048000,
      "rowLimit": 10000
     },
     "inputWidgets": {},
     "nuid": "18280d1b-9bfa-493e-9fe8-4c1bfb11269a",
     "showTitle": false,
     "title": ""
    }
   },
   "outputs": [],
   "source": [
    "# new milestone logic for issues\n",
    "\n",
    "\n",
    "\n",
    "pull_request_milestone = master_pull_requests.filter(col('pull_request_milestone').isNotNull())\n",
    "pull_request_milestone = subDFWithMasterID(pull_request_milestone, 'pull_request_milestone', 'pull_request')\n",
    "# pull_request_milestone = pull_request_milestone.withColumn('issue_milestone_id', lit(0))\n",
    "\n",
    "\n",
    "pull_request_milestone = pull_request_milestone.drop('pull_request_milestone_creator')\n",
    "\n",
    "\n",
    "\n",
    "write_df_to_adls(pull_request_milestone, 1, 'master_pull_request_id', 'pull_request_milestone', overwrite= True)\n",
    "\n",
    "\n"
   ]
  },
  {
   "cell_type": "markdown",
   "metadata": {
    "application/vnd.databricks.v1+cell": {
     "cellMetadata": {},
     "inputWidgets": {},
     "nuid": "0500359a-8ab7-401c-b9a7-11622f0ee863",
     "showTitle": false,
     "title": ""
    }
   },
   "source": [
    "\n",
    "#### Pull Request Labels"
   ]
  },
  {
   "cell_type": "code",
   "execution_count": null,
   "metadata": {
    "application/vnd.databricks.v1+cell": {
     "cellMetadata": {
      "byteLimit": 2048000,
      "rowLimit": 10000
     },
     "inputWidgets": {},
     "nuid": "dee6717a-eff4-4b7d-a9b1-62744b5a0931",
     "showTitle": false,
     "title": ""
    }
   },
   "outputs": [],
   "source": [
    "# labels logic for pull_request_labels\n",
    "\n",
    "pull_request_labels = master_pull_requests.filter(size(col('pull_request_labels')) > 0).select('*', explode('pull_request_labels').alias('pull_request_label'))\n",
    "\n",
    "\n",
    "\n",
    "pull_request_labels = subDFWithMasterID(pull_request_labels, 'pull_request_label', 'pull_request')\n",
    "\n",
    "write_df_to_adls(pull_request_labels, 4, 'master_pull_request_id', 'pull_request_labels', overwrite= True)\n",
    "\n"
   ]
  },
  {
   "cell_type": "markdown",
   "metadata": {
    "application/vnd.databricks.v1+cell": {
     "cellMetadata": {},
     "inputWidgets": {},
     "nuid": "c7cca159-6bb3-41ea-9808-2ecd55055a46",
     "showTitle": false,
     "title": ""
    }
   },
   "source": [
    "\n",
    "#### Pull Request Links"
   ]
  },
  {
   "cell_type": "code",
   "execution_count": null,
   "metadata": {
    "application/vnd.databricks.v1+cell": {
     "cellMetadata": {
      "byteLimit": 2048000,
      "rowLimit": 10000
     },
     "inputWidgets": {},
     "nuid": "d3f6bd91-2086-4281-bbd2-72b5ad1de16d",
     "showTitle": false,
     "title": ""
    }
   },
   "outputs": [],
   "source": [
    "# dealing with the links \n",
    "\n",
    "master_pull_requests = (\n",
    "    master_pull_requests.withColumn('pull_request_link_comments', col('pull_request__links.comments.href'))\n",
    "    .withColumn('pull_request_link_commits', col('pull_request__links.commits.href'))\n",
    "    .withColumn('pull_request_link_html', col('pull_request__links.html.href'))\n",
    "    .withColumn('pull_request_link_issue', col('pull_request__links.issue.href'))\n",
    "    .withColumn('pull_request_link_review_comment', col('pull_request__links.review_comment.href'))\n",
    "    .withColumn('pull_request_link_review', col('pull_request__links.review_comments.href'))\n",
    "    .withColumn('pull_request_link_self', col('pull_request__links.self.href'))\n",
    "    .withColumn('pull_request_link_statuses', col('pull_request__links.statuses.href')).drop('pull_request__links')\n",
    ")"
   ]
  },
  {
   "cell_type": "markdown",
   "metadata": {
    "application/vnd.databricks.v1+cell": {
     "cellMetadata": {},
     "inputWidgets": {},
     "nuid": "3db64d4d-960f-4ff7-a514-9054021dae9c",
     "showTitle": false,
     "title": ""
    }
   },
   "source": [
    "\n",
    "#### Pull Request Auto Merge"
   ]
  },
  {
   "cell_type": "code",
   "execution_count": null,
   "metadata": {
    "application/vnd.databricks.v1+cell": {
     "cellMetadata": {
      "byteLimit": 2048000,
      "rowLimit": 10000
     },
     "inputWidgets": {},
     "nuid": "6158a080-ec8e-4185-9c09-d939ee6b6f01",
     "showTitle": false,
     "title": ""
    }
   },
   "outputs": [],
   "source": [
    "\n",
    "pull_request_auto_merge = master_pull_requests.filter(col('pull_request_auto_merge').isNotNull())\n",
    "pull_request_auto_merge = subDFWithMasterID(pull_request_auto_merge, 'pull_request_auto_merge', 'pull_request')\n",
    "\n",
    "pull_request_auto_merge= pull_request_auto_merge.drop('pull_request_auto_merge_enabled_by')\n",
    "\n",
    "\n",
    "write_df_to_adls(pull_request_auto_merge, 1, 'master_pull_request_id', 'pull_request_auto_merge', overwrite= True)\n",
    "\n",
    "\n"
   ]
  },
  {
   "cell_type": "markdown",
   "metadata": {
    "application/vnd.databricks.v1+cell": {
     "cellMetadata": {},
     "inputWidgets": {},
     "nuid": "3eb6dc2e-a643-4bb6-92d5-0f9547b39ec5",
     "showTitle": false,
     "title": ""
    }
   },
   "source": [
    "\n",
    "#### Pull Request Base"
   ]
  },
  {
   "cell_type": "code",
   "execution_count": null,
   "metadata": {
    "application/vnd.databricks.v1+cell": {
     "cellMetadata": {
      "byteLimit": 2048000,
      "rowLimit": 10000
     },
     "inputWidgets": {},
     "nuid": "8b64cc3d-ffcb-4ee3-9c39-3170030224e5",
     "showTitle": false,
     "title": ""
    }
   },
   "outputs": [],
   "source": [
    "pull_request_base = master_pull_requests.filter(col('pull_request_base').isNotNull())\n",
    "pull_request_base = subDFWithMasterID(pull_request_base, 'pull_request_base', 'pull_request')\n",
    "\n",
    "pull_request_base = add_index(pull_request_base, 'master_pull_request_base')\n",
    "\n",
    "\n"
   ]
  },
  {
   "cell_type": "markdown",
   "metadata": {
    "application/vnd.databricks.v1+cell": {
     "cellMetadata": {},
     "inputWidgets": {},
     "nuid": "fc15e59b-c439-4f06-b0f0-0b234e7f0f61",
     "showTitle": false,
     "title": ""
    }
   },
   "source": [
    "\n",
    "#### Pull Request Repo"
   ]
  },
  {
   "cell_type": "code",
   "execution_count": null,
   "metadata": {
    "application/vnd.databricks.v1+cell": {
     "cellMetadata": {
      "byteLimit": 2048000,
      "rowLimit": 10000
     },
     "inputWidgets": {},
     "nuid": "573c7b6f-cae7-41e4-892c-05d4eb0023aa",
     "showTitle": false,
     "title": ""
    }
   },
   "outputs": [],
   "source": [
    "# create milestone's creator tables and links that with milestone table\n",
    "pull_request_base_repo = pull_request_base.filter(col('pull_request_base_repo').isNotNull())\n",
    "pull_request_base_repo = subDFWithMasterID(pull_request_base_repo, 'pull_request_base_repo', 'pull_request_base')\n",
    "pull_request_base_repo = add_index(pull_request_base_repo, 'master_pull_request_repo_base')\n",
    "\n",
    "pull_request_base_repo= pull_request_base_repo.drop('pull_request_base_repo_owner')\n",
    "\n"
   ]
  },
  {
   "cell_type": "markdown",
   "metadata": {
    "application/vnd.databricks.v1+cell": {
     "cellMetadata": {},
     "inputWidgets": {},
     "nuid": "9833bb13-ef9f-4a59-a5bd-6bc7c0e3dda1",
     "showTitle": false,
     "title": ""
    }
   },
   "source": [
    "\n",
    "#### Pull Request Topics"
   ]
  },
  {
   "cell_type": "code",
   "execution_count": null,
   "metadata": {
    "application/vnd.databricks.v1+cell": {
     "cellMetadata": {
      "byteLimit": 2048000,
      "rowLimit": 10000
     },
     "inputWidgets": {},
     "nuid": "f6cc5868-30bf-4b01-a524-a034acd8e4d3",
     "showTitle": false,
     "title": ""
    }
   },
   "outputs": [],
   "source": [
    "pull_request_base_repo_topics = pull_request_base_repo.filter(size(col('pull_request_base_repo_topics')) > 0)\n",
    "pull_request_base_repo_topics = pull_request_base_repo_topics.select('*', explode('pull_request_base_repo_topics').alias('pull_request_base_repo_topic'))\n",
    "\n",
    "pull_request_base_repo_topics = pull_request_base_repo_topics.select('master_pull_request_base_id', 'pull_request_base_repo_topic')\n",
    "\n",
    "pull_request_base_repo = pull_request_base_repo.drop('pull_request_base_repo_topics')\n",
    "pull_request_base = pull_request_base_repo.drop('pull_request_base_repo')\n"
   ]
  },
  {
   "cell_type": "markdown",
   "metadata": {
    "application/vnd.databricks.v1+cell": {
     "cellMetadata": {},
     "inputWidgets": {},
     "nuid": "0c065c29-3236-4b3f-86b7-375f50e70e4b",
     "showTitle": false,
     "title": ""
    }
   },
   "source": [
    "\n",
    "#### Pull Request Base Links"
   ]
  },
  {
   "cell_type": "code",
   "execution_count": null,
   "metadata": {
    "application/vnd.databricks.v1+cell": {
     "cellMetadata": {
      "byteLimit": 2048000,
      "rowLimit": 10000
     },
     "inputWidgets": {},
     "nuid": "b8af4d72-492b-4481-b7ac-431d73b8df05",
     "showTitle": false,
     "title": ""
    }
   },
   "outputs": [],
   "source": [
    "\n",
    "pull_request_base_repo = (\n",
    "    pull_request_base_repo.withColumn('pull_request_base_repo_license_key', col('pull_request_base_repo_license.key')).withColumn('pull_request_base_repo_license_name', col('pull_request_base_repo_license.name')).withColumn('pull_request_base_repo_license_node_id', col('pull_request_base_repo_license.node_id')).withColumn('pull_request_base_repo_license_spdx_id', col('pull_request_base_repo_license.spdx_id')).withColumn('pull_request_base_repo_license_url', col('pull_request_base_repo_license.url')).drop('pull_request_base_repo_license')\n",
    ")\n",
    "\n",
    "\n",
    "\n"
   ]
  },
  {
   "cell_type": "markdown",
   "metadata": {
    "application/vnd.databricks.v1+cell": {
     "cellMetadata": {},
     "inputWidgets": {},
     "nuid": "a4af1fe4-315f-44ea-b2f7-4f18fe58653e",
     "showTitle": false,
     "title": ""
    }
   },
   "source": [
    "\n",
    "#### Writitng Pull Request Base Tables"
   ]
  },
  {
   "cell_type": "code",
   "execution_count": null,
   "metadata": {
    "application/vnd.databricks.v1+cell": {
     "cellMetadata": {},
     "inputWidgets": {},
     "nuid": "3253c429-2b5a-4e44-8c9a-59753ac49287",
     "showTitle": false,
     "title": ""
    }
   },
   "outputs": [],
   "source": [
    "\n",
    "write_df_to_adls(pull_request_base, 122, 'master_pull_request_id', 'pull_request_base', overwrite= True)\n",
    "write_df_to_adls(pull_request_base_repo, 122, 'master_pull_request_base_id', 'pull_request_base_repo', overwrite= True)\n",
    "write_df_to_adls(pull_request_base_repo_topics, 1, 'master_pull_request_repo_base_id', 'pull_request_base_repo_topics', overwrite= True)"
   ]
  },
  {
   "cell_type": "markdown",
   "metadata": {
    "application/vnd.databricks.v1+cell": {
     "cellMetadata": {},
     "inputWidgets": {},
     "nuid": "bf7e350f-43e8-47d7-93f9-240777a8e4fb",
     "showTitle": false,
     "title": ""
    }
   },
   "source": [
    "\n",
    "#### Pull Request Head"
   ]
  },
  {
   "cell_type": "code",
   "execution_count": null,
   "metadata": {
    "application/vnd.databricks.v1+cell": {
     "cellMetadata": {
      "byteLimit": 2048000,
      "rowLimit": 10000
     },
     "inputWidgets": {},
     "nuid": "e4c26b79-b208-4fdf-88e5-e922853d03e9",
     "showTitle": false,
     "title": ""
    }
   },
   "outputs": [],
   "source": [
    "pull_request_head = master_pull_requests.filter(col('pull_request_head').isNotNull())\n",
    "pull_request_head = subDFWithMasterID(pull_request_head, 'pull_request_head', 'pull_request')\n",
    "pull_request_head = add_index(pull_request_head, 'master_pull_request_head')"
   ]
  },
  {
   "cell_type": "markdown",
   "metadata": {
    "application/vnd.databricks.v1+cell": {
     "cellMetadata": {},
     "inputWidgets": {},
     "nuid": "cfe36124-c0d8-44f3-87dd-3ec10b822437",
     "showTitle": false,
     "title": ""
    }
   },
   "source": [
    "\n",
    "#### Pull Request Head Repo"
   ]
  },
  {
   "cell_type": "code",
   "execution_count": null,
   "metadata": {
    "application/vnd.databricks.v1+cell": {
     "cellMetadata": {
      "byteLimit": 2048000,
      "rowLimit": 10000
     },
     "inputWidgets": {},
     "nuid": "6f49a9f4-251c-4951-ac5b-bdc0db26d45b",
     "showTitle": false,
     "title": ""
    }
   },
   "outputs": [],
   "source": [
    "# create milestone's creator tables and links that with milestone table\n",
    "pull_request_head_repo = pull_request_head.filter(col('pull_request_head_repo').isNotNull())\n",
    "pull_request_head_repo = subDFWithMasterID(pull_request_head_repo, 'pull_request_head_repo', 'pull_request')\n",
    "pull_request_head_repo = add_index(pull_request_head_repo, 'master_pull_request_head_repo')\n",
    "\n",
    "pull_request_head_repo = pull_request_head_repo.drop('pull_request_head_repo_owner')\n",
    "\n"
   ]
  },
  {
   "cell_type": "markdown",
   "metadata": {
    "application/vnd.databricks.v1+cell": {
     "cellMetadata": {},
     "inputWidgets": {},
     "nuid": "bcaca63d-c5be-476e-93d0-118b5b9ffb2f",
     "showTitle": false,
     "title": ""
    }
   },
   "source": [
    "\n",
    "#### Pull Request Head Topics"
   ]
  },
  {
   "cell_type": "code",
   "execution_count": null,
   "metadata": {
    "application/vnd.databricks.v1+cell": {
     "cellMetadata": {
      "byteLimit": 2048000,
      "rowLimit": 10000
     },
     "inputWidgets": {},
     "nuid": "c4b3104a-970b-4329-baaf-36bfc8182f02",
     "showTitle": false,
     "title": ""
    }
   },
   "outputs": [],
   "source": [
    "pull_request_head_repo_topics = pull_request_head_repo.filter(size(col('pull_request_head_repo_topics')) > 0)\n",
    "pull_request_head_repo_topics = pull_request_head_repo_topics.select('*', explode('pull_request_head_repo_topics').alias('pull_request_head_repo_topic'))\n",
    "\n",
    "pull_request_head_repo_topics = pull_request_head_repo_topics.select('master_pull_request_head_repo_id', 'pull_request_head_repo_topic')\n",
    "\n",
    "pull_request_head_repo = pull_request_head_repo.drop('pull_request_head_repo_topics')\n",
    "pull_request_head = pull_request_head_repo.drop('pull_request_head_repo')\n"
   ]
  },
  {
   "cell_type": "markdown",
   "metadata": {
    "application/vnd.databricks.v1+cell": {
     "cellMetadata": {},
     "inputWidgets": {},
     "nuid": "51803ab5-2cd4-478f-9668-1642ef079b82",
     "showTitle": false,
     "title": ""
    }
   },
   "source": [
    "\n",
    "#### Pull Request Head Repo License"
   ]
  },
  {
   "cell_type": "code",
   "execution_count": null,
   "metadata": {
    "application/vnd.databricks.v1+cell": {
     "cellMetadata": {
      "byteLimit": 2048000,
      "rowLimit": 10000
     },
     "inputWidgets": {},
     "nuid": "59f4e92f-c851-4473-b45a-7c11c52d8e36",
     "showTitle": false,
     "title": ""
    }
   },
   "outputs": [],
   "source": [
    "\n",
    "pull_request_head_repo = (\n",
    "    pull_request_head_repo.withColumn('pull_request_head_repo_license_key', col('pull_request_head_repo_license.key')).withColumn('pull_request_head_repo_license_name', col('pull_request_head_repo_license.name')).withColumn('pull_request_head_repo_license_node_id', col('pull_request_head_repo_license.node_id')).withColumn('pull_request_head_repo_license_spdx_id', col('pull_request_head_repo_license.spdx_id')).withColumn('pull_request_head_repo_license_url', col('pull_request_head_repo_license.url')).drop('pull_request_head_repo_license')\n",
    ")\n"
   ]
  },
  {
   "cell_type": "markdown",
   "metadata": {
    "application/vnd.databricks.v1+cell": {
     "cellMetadata": {},
     "inputWidgets": {},
     "nuid": "dd25e6cb-9ac0-4c3b-a3ba-92c860fe6145",
     "showTitle": false,
     "title": ""
    }
   },
   "source": [
    "\n",
    "#### Writing Pull Request Head Tables"
   ]
  },
  {
   "cell_type": "code",
   "execution_count": null,
   "metadata": {
    "application/vnd.databricks.v1+cell": {
     "cellMetadata": {},
     "inputWidgets": {},
     "nuid": "52970863-5868-4128-9e87-58e439c0806c",
     "showTitle": false,
     "title": ""
    }
   },
   "outputs": [],
   "source": [
    "\n",
    "write_df_to_adls(pull_request_head, 122, 'master_pull_request_id', 'pull_request_head', overwrite= True)\n",
    "write_df_to_adls(pull_request_head_repo, 122, 'master_pull_request_head_id', 'pull_request_head_repo', overwrite= True)\n",
    "write_df_to_adls(pull_request_head_repo_topics, 1, 'master_pull_request_repo_head_id', 'pull_request_head_repo_topics', overwrite= True)"
   ]
  },
  {
   "cell_type": "markdown",
   "metadata": {
    "application/vnd.databricks.v1+cell": {
     "cellMetadata": {},
     "inputWidgets": {},
     "nuid": "d27e2519-3540-4eae-af77-d9dc9200bf93",
     "showTitle": false,
     "title": ""
    }
   },
   "source": [
    "\n",
    "#### Pull Request Requested Teams"
   ]
  },
  {
   "cell_type": "code",
   "execution_count": null,
   "metadata": {
    "application/vnd.databricks.v1+cell": {
     "cellMetadata": {
      "byteLimit": 2048000,
      "rowLimit": 10000
     },
     "inputWidgets": {},
     "nuid": "dc732e64-5a07-4a84-b5ab-2d6b3f7db9b1",
     "showTitle": false,
     "title": ""
    }
   },
   "outputs": [],
   "source": [
    "pull_request_requested_teams = master_pull_requests.filter(size(col('pull_request_requested_teams')) > 0)\n",
    "pull_request_requested_teams = pull_request_requested_teams.select('*', explode('pull_request_requested_teams').alias('pull_request_requested_team'))\n",
    "\n",
    "pull_request_requested_teams = subDFWithMasterID(pull_request_requested_teams, 'pull_request_requested_team', 'pull_request')\n",
    "\n",
    "pull_request_requested_teams = add_index(pull_request_requested_teams, 'master_pull_request_requested_teams')\n",
    "\n",
    "pull_request_requested_teams_parent = pull_request_requested_teams.filter(col('pull_request_requested_team_parent').isNotNull())\n",
    "# pull_request_requested_teams_parent = subDFWithMasterID(pull_request_requested_teams, 'pull_request_requested_team_parent', 'pull_request')\n",
    "\n",
    "pull_request_requested_teams_parent= subDFWithMasterID(pull_request_requested_teams, 'pull_request_requested_team_parent', 'pull_request_requested_teams')\n",
    "\n",
    "pull_request_requested_teams = pull_request_requested_teams.drop('pull_request_requested_team_parent')\n",
    "\n",
    "write_df_to_adls(pull_request_requested_teams, 1, 'master_pull_request_id', 'pull_request_requested_teams', overwrite= True)\n",
    "write_df_to_adls(pull_request_requested_teams_parent, 1, 'master_pull_request_requested_teams_id', 'pull_request_requested_teams_parent', overwrite= True)\n"
   ]
  },
  {
   "cell_type": "markdown",
   "metadata": {
    "application/vnd.databricks.v1+cell": {
     "cellMetadata": {},
     "inputWidgets": {},
     "nuid": "f64c9a37-8cd4-4b1d-ac6c-91f8c8ed70b6",
     "showTitle": false,
     "title": ""
    }
   },
   "source": [
    "\n",
    "#### Dropping Unecessary Cols in Pull Requests"
   ]
  },
  {
   "cell_type": "code",
   "execution_count": null,
   "metadata": {
    "application/vnd.databricks.v1+cell": {
     "cellMetadata": {
      "byteLimit": 2048000,
      "rowLimit": 10000
     },
     "inputWidgets": {},
     "nuid": "2d655d2e-ce41-4bc5-bcc8-9c2f4a97ffb0",
     "showTitle": false,
     "title": ""
    }
   },
   "outputs": [],
   "source": [
    "\n",
    "master_pull_requests = master_pull_requests.drop('pull_request_requested_teams', 'pull_request_head', 'pull_request_base', 'pull_request_auto_merge', 'pull_request_requested_reviewers', 'pull_request_labels', 'pull_request_milestone', 'pull_request_assignees', 'pull_request_reactions', 'pull_request__links')\n"
   ]
  },
  {
   "cell_type": "markdown",
   "metadata": {
    "application/vnd.databricks.v1+cell": {
     "cellMetadata": {
      "byteLimit": 2048000,
      "rowLimit": 10000
     },
     "inputWidgets": {},
     "nuid": "34dd2f30-07ea-401d-a81f-47da1a0a3646",
     "showTitle": false,
     "title": ""
    }
   },
   "source": [
    "\n",
    "### Master_reviews"
   ]
  },
  {
   "cell_type": "code",
   "execution_count": null,
   "metadata": {
    "application/vnd.databricks.v1+cell": {
     "cellMetadata": {
      "byteLimit": 2048000,
      "rowLimit": 10000
     },
     "inputWidgets": {},
     "nuid": "98e16ba3-292e-486f-91ec-5510fc13b962",
     "showTitle": false,
     "title": ""
    }
   },
   "outputs": [],
   "source": [
    "master_reviews = df.filter(col('payload.review').isNotNull())\n",
    "master_reviews = rename_payload_cols(master_reviews, 'review')\n",
    "master_reviews = add_index(master_reviews, 'master_reviews')"
   ]
  },
  {
   "cell_type": "markdown",
   "metadata": {
    "application/vnd.databricks.v1+cell": {
     "cellMetadata": {},
     "inputWidgets": {},
     "nuid": "5b58d69c-5840-4363-b397-f0c5b94bce84",
     "showTitle": false,
     "title": ""
    }
   },
   "source": [
    "\n",
    "### Renaming license table and dropping cols"
   ]
  },
  {
   "cell_type": "code",
   "execution_count": null,
   "metadata": {
    "application/vnd.databricks.v1+cell": {
     "cellMetadata": {
      "byteLimit": 2048000,
      "rowLimit": 10000
     },
     "inputWidgets": {},
     "nuid": "715802fd-2b7f-478f-ab66-f41a3b0e1957",
     "showTitle": false,
     "title": ""
    }
   },
   "outputs": [],
   "source": [
    "\n",
    "master_reviews = master_reviews.withColumn('review_link_html', col('review__links.html.href')).withColumn('review_link_pull_request', col('review__links.pull_request.href')).drop('review__links')\n",
    "\n",
    "master_reviews = master_reviews.drop('review_reactions', 'review_user')\n"
   ]
  },
  {
   "cell_type": "markdown",
   "metadata": {
    "application/vnd.databricks.v1+cell": {
     "cellMetadata": {
      "byteLimit": 2048000,
      "rowLimit": 10000
     },
     "inputWidgets": {},
     "nuid": "86e8401a-c92b-4130-9d60-1229f420563d",
     "showTitle": false,
     "title": ""
    }
   },
   "source": [
    "\n",
    "### Writing issues, comments, review and pull_request tables "
   ]
  },
  {
   "cell_type": "code",
   "execution_count": null,
   "metadata": {
    "application/vnd.databricks.v1+cell": {
     "cellMetadata": {
      "byteLimit": 2048000,
      "rowLimit": 10000
     },
     "inputWidgets": {},
     "nuid": "4697e73e-e008-4d5b-90b1-3fa80b84b8d3",
     "showTitle": false,
     "title": ""
    }
   },
   "outputs": [],
   "source": [
    "# todo \n",
    "\n",
    "\n",
    "write_df_to_adls(master_issues, 86, 'master_issues_id', 'master_issues', overwrite= True)\n",
    "write_df_to_adls(comments_master, 37, 'comment_master_id', 'comments_master', overwrite= True)\n",
    "write_df_to_adls(master_pull_requests, 166, 'master_pull_requests_id', 'master_pull_requests', overwrite= True)\n",
    "write_df_to_adls(master_reviews, 5, 'master_reviews_id', 'master_reviews', overwrite= True)\n",
    "\n",
    "\n",
    "\n"
   ]
  },
  {
   "cell_type": "code",
   "execution_count": null,
   "metadata": {
    "application/vnd.databricks.v1+cell": {
     "cellMetadata": {},
     "inputWidgets": {},
     "nuid": "e3d8f82e-88ee-43e3-92d3-0578623eca53",
     "showTitle": false,
     "title": ""
    }
   },
   "outputs": [],
   "source": [
    "\n",
    "# Original Logic\n",
    "\n",
    "# issue_users = master_issues.filter(col('issue_user').isNotNull())\n",
    "# issue_users = subDF(issue_users, 'issue_user')\n",
    "\n",
    "# issue_users = add_index(issue_users, 'user', master_users_count).withColumnRenamed('event_id', 'issue_event_id')\n",
    "\n",
    "\n",
    "# # Linking the issue_users with the master user's table and addding new values to the count\n",
    "# master_users = master_users.union(issue_users).drop_duplicates(subset = ['issue_assignee_id'])\n",
    "\n",
    "\n",
    "# master_users_count = master_users.count()\n",
    "\n",
    "# # linking user_issues with master_issues table and setting null values to 0 \n",
    "# master_issues = (\n",
    "#             master_issues.join(broadcast(master_users), master_issues.issue_user.id \n",
    "#             == master_users.issue_assignee_id, how= 'left')\n",
    "#  )\n",
    "\n",
    "# master_issues.cache()\n",
    "\n",
    "# master_issues = master_issues.withColumnRenamed('user_id', 'users_id').drop(*master_users.columns)\n",
    "# master_issues = master_issues.fillna(0, subset = ['users_id'])\n",
    "\n",
    "# master_issues.unpersist()"
   ]
  },
  {
   "cell_type": "markdown",
   "metadata": {
    "application/vnd.databricks.v1+cell": {
     "cellMetadata": {
      "byteLimit": 2048000,
      "rowLimit": 10000
     },
     "inputWidgets": {},
     "nuid": "8711c929-b2fe-45eb-9971-9e2e7702df99",
     "showTitle": false,
     "title": ""
    }
   },
   "source": [
    "\n",
    "### Fork Event"
   ]
  },
  {
   "cell_type": "code",
   "execution_count": null,
   "metadata": {
    "application/vnd.databricks.v1+cell": {
     "cellMetadata": {
      "byteLimit": 2048000,
      "rowLimit": 10000
     },
     "inputWidgets": {},
     "nuid": "48e30d21-69e7-43f6-9f96-31ce09b2389d",
     "showTitle": false,
     "title": ""
    }
   },
   "outputs": [],
   "source": [
    "fork_event_df = df.where(df.type == 'ForkEvent')\n",
    "fork_event_df = rename_payload_cols(fork_event_df, 'forkee')\n",
    "\n",
    "fork_event_df = df.select('event_id', 'payload.forkee').where(df.type == 'ForkEvent')\n",
    "\n",
    "# unnesting reviews object\n",
    "fork_event_df = subDF(fork_event_df, 'forkee')\n",
    "\n",
    "# setting FK for other tables\n",
    "fork_event_df = fork_event_df.withColumn('forkee_license', fork_event_df.forkee_license.node_id).withColumn('forkee_owner', fork_event_df.forkee_owner.id).withColumn('forkee_topics_count', size(col('forkee_topics'))).drop('forkee_topics')\n",
    "\n",
    "# fork_event_df.display()"
   ]
  },
  {
   "cell_type": "markdown",
   "metadata": {
    "application/vnd.databricks.v1+cell": {
     "cellMetadata": {
      "byteLimit": 2048000,
      "rowLimit": 10000
     },
     "inputWidgets": {},
     "nuid": "df5f21b7-f203-4d83-b58a-300702d56300",
     "showTitle": false,
     "title": ""
    }
   },
   "source": [
    "### Fork License"
   ]
  },
  {
   "cell_type": "code",
   "execution_count": null,
   "metadata": {
    "application/vnd.databricks.v1+cell": {
     "cellMetadata": {
      "byteLimit": 2048000,
      "rowLimit": 10000
     },
     "inputWidgets": {},
     "nuid": "5602a0ba-2061-4fcf-a392-4245911c182e",
     "showTitle": false,
     "title": ""
    }
   },
   "outputs": [],
   "source": [
    "# selecting fork event rows\n",
    "fork_license_df = df.select('event_id', 'payload.forkee.license').where(df.type == 'ForkEvent')\n",
    "fork_license_df = subDF(fork_license_df, 'license').drop('event_id').dropDuplicates(['license_node_id']).dropna(how='all')\n",
    "fork_license_df = add_index(fork_license_df, 'license')\n",
    "\n",
    "fork_license_mapper = fork_license_df.select('license_node_id')\n",
    "fork_license_mapper = add_index(fork_license_mapper, 'forkee_license')\n",
    "\n",
    "fork_event_df = fork_event_df.join(fork_license_mapper, fork_event_df.forkee_license == fork_license_mapper.license_node_id, 'left')\n",
    "\n",
    "#write_df_to_adls(fork_license_df, 1, 'license_id', 'fork_license', True)\n",
    "fork_events_df = fork_event_df.drop('license_node_id', 'forkee_license')\n",
    "\n",
    "# fork_license_df.printSchema()"
   ]
  },
  {
   "cell_type": "code",
   "execution_count": null,
   "metadata": {
    "application/vnd.databricks.v1+cell": {
     "cellMetadata": {
      "byteLimit": 2048000,
      "rowLimit": 10000
     },
     "inputWidgets": {},
     "nuid": "f198cd07-4cd9-4f75-91c6-a58804827c22",
     "showTitle": false,
     "title": ""
    }
   },
   "outputs": [],
   "source": [
    "# fork_events_df.printSchema()"
   ]
  },
  {
   "cell_type": "markdown",
   "metadata": {
    "application/vnd.databricks.v1+cell": {
     "cellMetadata": {
      "byteLimit": 2048000,
      "rowLimit": 10000
     },
     "inputWidgets": {},
     "nuid": "5e348609-4a76-42f3-b919-09b64f67aae4",
     "showTitle": false,
     "title": ""
    }
   },
   "source": [
    "### Fork Owner"
   ]
  },
  {
   "cell_type": "code",
   "execution_count": null,
   "metadata": {
    "application/vnd.databricks.v1+cell": {
     "cellMetadata": {
      "byteLimit": 2048000,
      "rowLimit": 10000
     },
     "inputWidgets": {},
     "nuid": "b2a3f200-b6fb-4132-b2ea-a3dc42fbd13b",
     "showTitle": false,
     "title": ""
    }
   },
   "outputs": [],
   "source": [
    "# selecting fork event rows\n",
    "fork_owner_df = df.select('event_id', 'payload.forkee.owner').where(df.type == 'ForkEvent')\n",
    "fork_owner_df = subDF(fork_owner_df, 'owner').drop('event_id')\n",
    "\n",
    "# fork_owner_df.printSchema()"
   ]
  },
  {
   "cell_type": "code",
   "execution_count": null,
   "metadata": {
    "application/vnd.databricks.v1+cell": {
     "cellMetadata": {
      "byteLimit": 2048000,
      "rowLimit": 10000
     },
     "inputWidgets": {},
     "nuid": "e3a747c5-bdbc-4797-bce6-d48827cc8ecb",
     "showTitle": false,
     "title": ""
    }
   },
   "outputs": [],
   "source": [
    "write_df_to_adls(fork_event_df, 23, 'event_id', 'fork_event', True)\n",
    "write_df_to_adls(fork_owner_df, 23, 'owner_id', 'fork_owner', True)\n",
    "write_df_to_adls(fork_license_df, 1, 'forkee_license_id', 'fork_license', True)"
   ]
  },
  {
   "cell_type": "markdown",
   "metadata": {
    "application/vnd.databricks.v1+cell": {
     "cellMetadata": {
      "byteLimit": 2048000,
      "rowLimit": 10000
     },
     "inputWidgets": {},
     "nuid": "3cc10123-fb8e-4137-8abb-5c774f581462",
     "showTitle": false,
     "title": ""
    }
   },
   "source": [
    "\n",
    "### Watch Event"
   ]
  },
  {
   "cell_type": "code",
   "execution_count": null,
   "metadata": {
    "application/vnd.databricks.v1+cell": {
     "cellMetadata": {
      "byteLimit": 2048000,
      "rowLimit": 10000
     },
     "inputWidgets": {},
     "nuid": "80bea500-7d3e-42d9-8f37-4128344b785b",
     "showTitle": false,
     "title": ""
    }
   },
   "outputs": [],
   "source": [
    "watch_events = df.select('event_id', 'payload.action').where(df.type == 'WatchEvent').withColumn('event_id', df.event_id.cast(LongType()))\n",
    "\n",
    "# watch_events.printSchema()\n",
    "\n",
    "write_df_to_adls(watch_events, 4, 'event_id', 'watch_event', True)"
   ]
  },
  {
   "cell_type": "markdown",
   "metadata": {
    "application/vnd.databricks.v1+cell": {
     "cellMetadata": {
      "byteLimit": 2048000,
      "rowLimit": 10000
     },
     "inputWidgets": {},
     "nuid": "42ecb30b-ea88-4459-b983-149ed9032f9c",
     "showTitle": false,
     "title": ""
    }
   },
   "source": [
    "\n",
    "### Member Events"
   ]
  },
  {
   "cell_type": "code",
   "execution_count": null,
   "metadata": {
    "application/vnd.databricks.v1+cell": {
     "cellMetadata": {
      "byteLimit": 2048000,
      "rowLimit": 10000
     },
     "inputWidgets": {},
     "nuid": "ef2f7040-97f8-4d7f-86f5-12d2ed98a9ed",
     "showTitle": false,
     "title": ""
    }
   },
   "outputs": [],
   "source": [
    "member_event_df = df.select('event_id', 'payload.action', 'payload.member.id').where(df.type == 'MemberEvent').withColumnRenamed('id', 'member_id')\n",
    "\n",
    "write_df_to_adls(member_event_df, 1, 'event_id', 'member_event', True)\n",
    "\n",
    "# member_event_df.printSchema()"
   ]
  },
  {
   "cell_type": "markdown",
   "metadata": {
    "application/vnd.databricks.v1+cell": {
     "cellMetadata": {
      "byteLimit": 2048000,
      "rowLimit": 10000
     },
     "inputWidgets": {},
     "nuid": "39f5cc17-6121-4441-a176-b3753e0818e0",
     "showTitle": false,
     "title": ""
    }
   },
   "source": [
    "### Member Users\n"
   ]
  },
  {
   "cell_type": "code",
   "execution_count": null,
   "metadata": {
    "application/vnd.databricks.v1+cell": {
     "cellMetadata": {
      "byteLimit": 2048000,
      "rowLimit": 10000
     },
     "inputWidgets": {},
     "nuid": "f4d61d5e-2abf-4374-a609-bd58acbb79f6",
     "showTitle": false,
     "title": ""
    }
   },
   "outputs": [],
   "source": [
    "# selecting member event rows\n",
    "member_users = df.select('event_id', 'payload.member').where(df.type == 'MemberEvent')\n",
    "member_users = subDF(member_users, 'member').drop('event_id')\n",
    "\n",
    "# member_users.printSchema()\n",
    "\n",
    "write_df_to_adls(member_event_df, 10, 'event_id', 'member_user', True) # need to determine partitions num"
   ]
  },
  {
   "cell_type": "markdown",
   "metadata": {
    "application/vnd.databricks.v1+cell": {
     "cellMetadata": {
      "byteLimit": 2048000,
      "rowLimit": 10000
     },
     "inputWidgets": {},
     "nuid": "57d45ce8-02b1-483c-bb6c-94851f549da9",
     "showTitle": false,
     "title": ""
    }
   },
   "source": [
    "# Azim's "
   ]
  },
  {
   "cell_type": "markdown",
   "metadata": {
    "application/vnd.databricks.v1+cell": {
     "cellMetadata": {
      "byteLimit": 2048000,
      "rowLimit": 10000
     },
     "inputWidgets": {},
     "nuid": "878ac423-3d53-4519-9ba6-76d1ea499039",
     "showTitle": false,
     "title": ""
    }
   },
   "source": [
    "### Create Event"
   ]
  },
  {
   "cell_type": "markdown",
   "metadata": {
    "application/vnd.databricks.v1+cell": {
     "cellMetadata": {},
     "inputWidgets": {},
     "nuid": "e3a4710d-797d-4e7f-b358-014237af5651",
     "showTitle": false,
     "title": ""
    }
   },
   "source": [
    "* Created a new table called Create Event.\n",
    "* Used event_id from main table from events data since there is a 1 to 1 relationship"
   ]
  },
  {
   "cell_type": "code",
   "execution_count": null,
   "metadata": {
    "application/vnd.databricks.v1+cell": {
     "cellMetadata": {
      "byteLimit": 2048000,
      "rowLimit": 10000
     },
     "inputWidgets": {},
     "nuid": "da71c046-52ad-4a95-90de-5d5d8ebbfc09",
     "showTitle": false,
     "title": ""
    }
   },
   "outputs": [],
   "source": [
    "df_ce = df.filter(df.type==\"CreateEvent\")\n",
    "df_ce = subDFWithMasterID2(df_ce,\"payload\")\n",
    "df_ce = drop_null_columns(df_ce)"
   ]
  },
  {
   "cell_type": "code",
   "execution_count": null,
   "metadata": {
    "application/vnd.databricks.v1+cell": {
     "cellMetadata": {
      "byteLimit": 2048000,
      "rowLimit": 10000
     },
     "inputWidgets": {},
     "nuid": "3b6a23ab-ab6b-4f1b-944e-d48fb0e94c1d",
     "showTitle": false,
     "title": ""
    }
   },
   "outputs": [],
   "source": [
    "df_ce.printSchema()"
   ]
  },
  {
   "cell_type": "code",
   "execution_count": null,
   "metadata": {
    "application/vnd.databricks.v1+cell": {
     "cellMetadata": {
      "byteLimit": 2048000,
      "rowLimit": 10000
     },
     "inputWidgets": {},
     "nuid": "458fa797-5e09-4bc1-b6d2-27b736661c24",
     "showTitle": false,
     "title": ""
    }
   },
   "outputs": [],
   "source": [
    "write_df_to_adls(df_ce,10,\"event_id\", 'create_event',True)\n"
   ]
  },
  {
   "cell_type": "code",
   "execution_count": null,
   "metadata": {
    "application/vnd.databricks.v1+cell": {
     "cellMetadata": {
      "byteLimit": 2048000,
      "rowLimit": 10000
     },
     "inputWidgets": {},
     "nuid": "0c414e1e-1659-48a9-a73e-06670535a103",
     "showTitle": false,
     "title": ""
    }
   },
   "outputs": [],
   "source": [
    "#dbutils.notebook.exit(\"Create Event finished\")\n",
    "print(\"Create Event finished\")"
   ]
  },
  {
   "cell_type": "markdown",
   "metadata": {
    "application/vnd.databricks.v1+cell": {
     "cellMetadata": {
      "byteLimit": 2048000,
      "rowLimit": 10000
     },
     "inputWidgets": {},
     "nuid": "51aadc13-3844-48f7-a825-fcb41952c668",
     "showTitle": false,
     "title": ""
    }
   },
   "source": [
    "### Delete Event"
   ]
  },
  {
   "cell_type": "markdown",
   "metadata": {
    "application/vnd.databricks.v1+cell": {
     "cellMetadata": {},
     "inputWidgets": {},
     "nuid": "ce8399a3-d1c6-460f-b682-f80019f5e0ab",
     "showTitle": false,
     "title": ""
    }
   },
   "source": [
    "* Created a new df called delete event\n",
    "* Used event_id from parent table to preserve 1 to 1 relationship"
   ]
  },
  {
   "cell_type": "code",
   "execution_count": null,
   "metadata": {
    "application/vnd.databricks.v1+cell": {
     "cellMetadata": {
      "byteLimit": 2048000,
      "rowLimit": 10000
     },
     "inputWidgets": {},
     "nuid": "4288f2c1-bf3d-4f22-b850-4eecaa2356fe",
     "showTitle": false,
     "title": ""
    }
   },
   "outputs": [],
   "source": [
    "df_del = df.filter(df.type==\"DeleteEvent\")\n",
    "df_del = drop_null_columns(subDFWithMasterID2(df_del,\"payload\"))"
   ]
  },
  {
   "cell_type": "code",
   "execution_count": null,
   "metadata": {
    "application/vnd.databricks.v1+cell": {
     "cellMetadata": {
      "byteLimit": 2048000,
      "rowLimit": 10000
     },
     "inputWidgets": {},
     "nuid": "863dc0c0-00b4-40f7-af53-cf6133e3ad03",
     "showTitle": false,
     "title": ""
    }
   },
   "outputs": [],
   "source": [
    "df_del.printSchema()"
   ]
  },
  {
   "cell_type": "code",
   "execution_count": null,
   "metadata": {
    "application/vnd.databricks.v1+cell": {
     "cellMetadata": {
      "byteLimit": 2048000,
      "rowLimit": 10000
     },
     "inputWidgets": {},
     "nuid": "332fa98a-8e72-4647-adde-9babf8eed349",
     "showTitle": false,
     "title": ""
    }
   },
   "outputs": [],
   "source": [
    "write_df_to_adls(df_del,10,\"event_id\",'delete_event',True)"
   ]
  },
  {
   "cell_type": "code",
   "execution_count": null,
   "metadata": {
    "application/vnd.databricks.v1+cell": {
     "cellMetadata": {
      "byteLimit": 2048000,
      "rowLimit": 10000
     },
     "inputWidgets": {},
     "nuid": "2a3ca05b-ba13-406d-a6ae-9250524a2fd7",
     "showTitle": false,
     "title": ""
    }
   },
   "outputs": [],
   "source": [
    "#TODO\n",
    "# Save the df_del to the parquet file. This has details about all the DeleteEvents\n",
    "#dbutils.notebook.exit(\"Delete Event finished\")\n",
    "print(\"Delete Event finished\")"
   ]
  },
  {
   "cell_type": "markdown",
   "metadata": {
    "application/vnd.databricks.v1+cell": {
     "cellMetadata": {
      "byteLimit": 2048000,
      "rowLimit": 10000
     },
     "inputWidgets": {},
     "nuid": "bbf2bc6b-2e14-413b-a548-865a81802ee0",
     "showTitle": false,
     "title": ""
    }
   },
   "source": [
    "### Gollum Event"
   ]
  },
  {
   "cell_type": "markdown",
   "metadata": {
    "application/vnd.databricks.v1+cell": {
     "cellMetadata": {},
     "inputWidgets": {},
     "nuid": "6d50607d-81a4-4e02-8baa-9dc0a6248b40",
     "showTitle": false,
     "title": ""
    }
   },
   "source": [
    "* Broken down the pages information and assigned unique id to each page\n",
    "* Preserved event_id to have the 1 to many relationship"
   ]
  },
  {
   "cell_type": "code",
   "execution_count": null,
   "metadata": {
    "application/vnd.databricks.v1+cell": {
     "cellMetadata": {
      "byteLimit": 2048000,
      "rowLimit": 10000
     },
     "inputWidgets": {},
     "nuid": "8182daec-8cb7-419d-a5eb-6063744127b2",
     "showTitle": false,
     "title": ""
    }
   },
   "outputs": [],
   "source": [
    "df_gol = df.filter(df.type==\"GollumEvent\")\n",
    "df_gol = subDFWithMasterID2(df_gol,\"payload\")\n",
    "df_gol = drop_null_columns(df_gol)\n",
    "df_pages_gol = df_gol.select(\"event_id\",explode(\"payload_pages\").alias(\"payload_pages\"))\n",
    "df_pages_gol = add_index(df_pages_gol,\"gollum_page\")\n",
    "df_pages_gol = subDFWithMasterID2(df_pages_gol,\"payload_pages\",\"gollum_page_id\")"
   ]
  },
  {
   "cell_type": "code",
   "execution_count": null,
   "metadata": {
    "application/vnd.databricks.v1+cell": {
     "cellMetadata": {
      "byteLimit": 2048000,
      "rowLimit": 10000
     },
     "inputWidgets": {},
     "nuid": "d6d6af7e-c769-4543-a466-8f91f5e8759a",
     "showTitle": false,
     "title": ""
    }
   },
   "outputs": [],
   "source": [
    "df_gol.printSchema()"
   ]
  },
  {
   "cell_type": "code",
   "execution_count": null,
   "metadata": {
    "application/vnd.databricks.v1+cell": {
     "cellMetadata": {
      "byteLimit": 2048000,
      "rowLimit": 10000
     },
     "inputWidgets": {},
     "nuid": "86923c4c-3b92-42c9-94af-159766deefad",
     "showTitle": false,
     "title": ""
    }
   },
   "outputs": [],
   "source": [
    "df_pages_gol.printSchema()"
   ]
  },
  {
   "cell_type": "code",
   "execution_count": null,
   "metadata": {
    "application/vnd.databricks.v1+cell": {
     "cellMetadata": {
      "byteLimit": 2048000,
      "rowLimit": 10000
     },
     "inputWidgets": {},
     "nuid": "5fa23c9b-2cf1-491a-9167-bad541cc5d13",
     "showTitle": false,
     "title": ""
    }
   },
   "outputs": [],
   "source": [
    "write_df_to_adls(df_pages_gol,1,\"gollum_page_id\",\"gollum_page\",True)"
   ]
  },
  {
   "cell_type": "code",
   "execution_count": null,
   "metadata": {
    "application/vnd.databricks.v1+cell": {
     "cellMetadata": {
      "byteLimit": 2048000,
      "rowLimit": 10000
     },
     "inputWidgets": {},
     "nuid": "fab074dc-e079-4ba0-a9aa-7b034aabae28",
     "showTitle": false,
     "title": ""
    }
   },
   "outputs": [],
   "source": [
    "#TODO\n",
    "#Save the df df_pages_gol to a parquet file\n",
    "#dbutils.notebook.exit(\"Gollum Event finished\")\n",
    "print(\"Gollum Event finished\")"
   ]
  },
  {
   "cell_type": "markdown",
   "metadata": {
    "application/vnd.databricks.v1+cell": {
     "cellMetadata": {
      "byteLimit": 2048000,
      "rowLimit": 10000
     },
     "inputWidgets": {},
     "nuid": "18a4d611-fba1-4e52-bceb-2383854deccd",
     "showTitle": false,
     "title": ""
    }
   },
   "source": [
    "### Release Event"
   ]
  },
  {
   "cell_type": "markdown",
   "metadata": {
    "application/vnd.databricks.v1+cell": {
     "cellMetadata": {},
     "inputWidgets": {},
     "nuid": "d0adc2d1-f2f2-4c9d-8365-d96485715c73",
     "showTitle": false,
     "title": ""
    }
   },
   "source": [
    "* Preserves the event_id to have the one on one relationship with main events table\n",
    "* breaks down the author payload data into its different df. Subs author id instead of author information for normalization\n",
    "* Breaks down assets into its own df and leaves the asset id information to preserve the 1 to many relationship"
   ]
  },
  {
   "cell_type": "code",
   "execution_count": null,
   "metadata": {
    "application/vnd.databricks.v1+cell": {
     "cellMetadata": {
      "byteLimit": 2048000,
      "rowLimit": 10000
     },
     "inputWidgets": {},
     "nuid": "cd5c30a9-cdb5-43e1-ad5e-6ff8ec4c0dd4",
     "showTitle": false,
     "title": ""
    }
   },
   "outputs": [],
   "source": [
    "df_release = df.filter(df.type==\"ReleaseEvent\")\n",
    "df_release = drop_null_columns(subDFWithMasterID2(df_release,\"payload\"))\n",
    "df_release = subDFWithMasterID2(df_release,\"payload_release\",\"payload_action\")\n",
    "payload_release_assets = df_release.select(\"event_id\",explode(\"payload_release_assets\").alias(\"payload_release_assets\"))\n",
    "payload_release_assets = subDFWithMasterID2(payload_release_assets,\"payload_release_assets\")\n",
    "df_release = df_release.withColumn(\"payload_release_assets_id\",col(\"payload_release_assets.id\"))\n",
    "df_release = df_release.drop(\"payload_release_assets\")\n",
    "payload_release_author = subDFWithMasterID2(df_release,\"payload_release_author\")\n",
    "df_release = df_release.withColumn(\"payload_release_author_id\",col(\"payload_release_author.id\"))\n",
    "df_release = df_release.drop(\"payload_release_author\")\n",
    "col = \"event_id\"\n",
    "if col in payload_release_assets.columns:\n",
    "    payload_release_assets = payload_release_assets.drop(col)\n",
    "\n",
    "if col in payload_release_author.columns:\n",
    "    payload_release_author = payload_release_author.drop(col)"
   ]
  },
  {
   "cell_type": "code",
   "execution_count": null,
   "metadata": {
    "application/vnd.databricks.v1+cell": {
     "cellMetadata": {
      "byteLimit": 2048000,
      "rowLimit": 10000
     },
     "inputWidgets": {},
     "nuid": "b0e6dfbb-f5ba-4a87-a540-17e330f40b87",
     "showTitle": false,
     "title": ""
    }
   },
   "outputs": [],
   "source": [
    "#TODO\n",
    "#df_release write parquet\n",
    "write_df_to_adls(df_release,10,\"event_id\", 'release_event',True)\n",
    "#payload_release_assets write parquet\n",
    "write_df_to_adls(payload_release_assets,10,\"event_id\", 'payload_release_assets',True)\n",
    "#payload_release_assets_uploader write parque\n",
    "#payload_release_author write parquet\n",
    "write_df_to_adls(payload_release_author,10,\"event_id\", 'release_author',True)\n"
   ]
  },
  {
   "cell_type": "code",
   "execution_count": null,
   "metadata": {
    "application/vnd.databricks.v1+cell": {
     "cellMetadata": {
      "byteLimit": 2048000,
      "rowLimit": 10000
     },
     "inputWidgets": {},
     "nuid": "f15f96cf-f785-4f61-8e31-b8015dca4156",
     "showTitle": false,
     "title": ""
    }
   },
   "outputs": [
    {
     "name": "stdout",
     "output_type": "stream",
     "text": [
      "root\n",
      " |-- event_id: string (nullable = true)\n",
      " |-- payload_release_assets_url: string (nullable = true)\n",
      " |-- payload_release_body: string (nullable = true)\n",
      " |-- payload_release_created_at: string (nullable = true)\n",
      " |-- payload_release_discussion_url: string (nullable = true)\n",
      " |-- payload_release_draft: boolean (nullable = true)\n",
      " |-- payload_release_html_url: string (nullable = true)\n",
      " |-- payload_release_id: long (nullable = true)\n",
      " |-- payload_release_is_short_description_html_truncated: boolean (nullable = true)\n",
      " |-- payload_release_mentions: array (nullable = true)\n",
      " |    |-- element: struct (containsNull = true)\n",
      " |    |    |-- avatar_url: string (nullable = true)\n",
      " |    |    |-- avatar_user_actor: boolean (nullable = true)\n",
      " |    |    |-- login: string (nullable = true)\n",
      " |    |    |-- profile_name: string (nullable = true)\n",
      " |    |    |-- profile_url: string (nullable = true)\n",
      " |-- payload_release_mentions_count: long (nullable = true)\n",
      " |-- payload_release_name: string (nullable = true)\n",
      " |-- payload_release_node_id: string (nullable = true)\n",
      " |-- payload_release_prerelease: boolean (nullable = true)\n",
      " |-- payload_release_published_at: string (nullable = true)\n",
      " |-- payload_release_reactions: struct (nullable = true)\n",
      " |    |-- +1: long (nullable = true)\n",
      " |    |-- -1: long (nullable = true)\n",
      " |    |-- confused: long (nullable = true)\n",
      " |    |-- eyes: long (nullable = true)\n",
      " |    |-- heart: long (nullable = true)\n",
      " |    |-- hooray: long (nullable = true)\n",
      " |    |-- laugh: long (nullable = true)\n",
      " |    |-- rocket: long (nullable = true)\n",
      " |    |-- total_count: long (nullable = true)\n",
      " |    |-- url: string (nullable = true)\n",
      " |-- payload_release_short_description_html: string (nullable = true)\n",
      " |-- payload_release_tag_name: string (nullable = true)\n",
      " |-- payload_release_tarball_url: string (nullable = true)\n",
      " |-- payload_release_target_commitish: string (nullable = true)\n",
      " |-- payload_release_upload_url: string (nullable = true)\n",
      " |-- payload_release_url: string (nullable = true)\n",
      " |-- payload_release_zipball_url: string (nullable = true)\n",
      " |-- payload_action: string (nullable = true)\n",
      " |-- payload_release_assets_id: array (nullable = true)\n",
      " |    |-- element: long (containsNull = true)\n",
      " |-- payload_release_author_id: long (nullable = true)\n",
      "\n"
     ]
    }
   ],
   "source": [
    "df_release.printSchema()"
   ]
  },
  {
   "cell_type": "code",
   "execution_count": null,
   "metadata": {
    "application/vnd.databricks.v1+cell": {
     "cellMetadata": {
      "byteLimit": 2048000,
      "rowLimit": 10000
     },
     "inputWidgets": {},
     "nuid": "2e7e4d3a-09e7-4225-800f-5d2f31bc881c",
     "showTitle": false,
     "title": ""
    }
   },
   "outputs": [
    {
     "name": "stdout",
     "output_type": "stream",
     "text": [
      "root\n",
      " |-- event_id: string (nullable = true)\n",
      " |-- payload_release_assets_browser_download_url: string (nullable = true)\n",
      " |-- payload_release_assets_content_type: string (nullable = true)\n",
      " |-- payload_release_assets_created_at: string (nullable = true)\n",
      " |-- payload_release_assets_download_count: long (nullable = true)\n",
      " |-- payload_release_assets_id: long (nullable = true)\n",
      " |-- payload_release_assets_label: string (nullable = true)\n",
      " |-- payload_release_assets_name: string (nullable = true)\n",
      " |-- payload_release_assets_node_id: string (nullable = true)\n",
      " |-- payload_release_assets_size: long (nullable = true)\n",
      " |-- payload_release_assets_state: string (nullable = true)\n",
      " |-- payload_release_assets_updated_at: string (nullable = true)\n",
      " |-- payload_release_assets_uploader: struct (nullable = true)\n",
      " |    |-- avatar_url: string (nullable = true)\n",
      " |    |-- events_url: string (nullable = true)\n",
      " |    |-- followers_url: string (nullable = true)\n",
      " |    |-- following_url: string (nullable = true)\n",
      " |    |-- gists_url: string (nullable = true)\n",
      " |    |-- gravatar_id: string (nullable = true)\n",
      " |    |-- html_url: string (nullable = true)\n",
      " |    |-- id: long (nullable = true)\n",
      " |    |-- login: string (nullable = true)\n",
      " |    |-- node_id: string (nullable = true)\n",
      " |    |-- organizations_url: string (nullable = true)\n",
      " |    |-- received_events_url: string (nullable = true)\n",
      " |    |-- repos_url: string (nullable = true)\n",
      " |    |-- site_admin: boolean (nullable = true)\n",
      " |    |-- starred_url: string (nullable = true)\n",
      " |    |-- subscriptions_url: string (nullable = true)\n",
      " |    |-- type: string (nullable = true)\n",
      " |    |-- url: string (nullable = true)\n",
      " |-- payload_release_assets_url: string (nullable = true)\n",
      "\n"
     ]
    }
   ],
   "source": [
    "payload_release_assets.printSchema()"
   ]
  },
  {
   "cell_type": "code",
   "execution_count": null,
   "metadata": {
    "application/vnd.databricks.v1+cell": {
     "cellMetadata": {
      "byteLimit": 2048000,
      "rowLimit": 10000
     },
     "inputWidgets": {},
     "nuid": "e9b3dc94-a647-465c-912d-d8cc38b3f1e9",
     "showTitle": false,
     "title": ""
    }
   },
   "outputs": [
    {
     "name": "stdout",
     "output_type": "stream",
     "text": [
      "root\n",
      " |-- event_id: string (nullable = true)\n",
      " |-- payload_release_author_avatar_url: string (nullable = true)\n",
      " |-- payload_release_author_events_url: string (nullable = true)\n",
      " |-- payload_release_author_followers_url: string (nullable = true)\n",
      " |-- payload_release_author_following_url: string (nullable = true)\n",
      " |-- payload_release_author_gists_url: string (nullable = true)\n",
      " |-- payload_release_author_gravatar_id: string (nullable = true)\n",
      " |-- payload_release_author_html_url: string (nullable = true)\n",
      " |-- payload_release_author_id: long (nullable = true)\n",
      " |-- payload_release_author_login: string (nullable = true)\n",
      " |-- payload_release_author_node_id: string (nullable = true)\n",
      " |-- payload_release_author_organizations_url: string (nullable = true)\n",
      " |-- payload_release_author_received_events_url: string (nullable = true)\n",
      " |-- payload_release_author_repos_url: string (nullable = true)\n",
      " |-- payload_release_author_site_admin: boolean (nullable = true)\n",
      " |-- payload_release_author_starred_url: string (nullable = true)\n",
      " |-- payload_release_author_subscriptions_url: string (nullable = true)\n",
      " |-- payload_release_author_type: string (nullable = true)\n",
      " |-- payload_release_author_url: string (nullable = true)\n",
      "\n"
     ]
    }
   ],
   "source": [
    "payload_release_author.printSchema()"
   ]
  },
  {
   "cell_type": "markdown",
   "metadata": {
    "application/vnd.databricks.v1+cell": {
     "cellMetadata": {
      "byteLimit": 2048000,
      "rowLimit": 10000
     },
     "inputWidgets": {},
     "nuid": "3d81d757-8173-4573-9cac-c55c96c05212",
     "showTitle": false,
     "title": ""
    }
   },
   "source": [
    "\n",
    "### Push Event "
   ]
  },
  {
   "cell_type": "markdown",
   "metadata": {
    "application/vnd.databricks.v1+cell": {
     "cellMetadata": {},
     "inputWidgets": {},
     "nuid": "58ede778-43c6-4b58-9bde-52d7a3aa74d3",
     "showTitle": false,
     "title": ""
    }
   },
   "source": [
    "* Breaks down the push event by filter\n",
    "* breaks the commit down in its own table\n",
    "* Preserves the one to many relationship in commit vs main table"
   ]
  },
  {
   "cell_type": "code",
   "execution_count": null,
   "metadata": {
    "application/vnd.databricks.v1+cell": {
     "cellMetadata": {
      "byteLimit": 2048000,
      "rowLimit": 10000
     },
     "inputWidgets": {},
     "nuid": "4abc9b6d-3367-41e7-b8a4-78002165f288",
     "showTitle": false,
     "title": ""
    }
   },
   "outputs": [
    {
     "data": {
      "text/plain": [
       "DataFrame[commits_author_email: string, commits_author_name: string, push_commit_id: int, commits_distinct: boolean, commits_message: string, commits_sha: string, commits_url: string]"
      ]
     },
     "execution_count": 23,
     "metadata": {},
     "output_type": "execute_result"
    }
   ],
   "source": [
    "df_push = df.filter(df.type==\"PushEvent\")\n",
    "df_push = subDFWithMasterID2(df_push,\"payload\")\n",
    "df_push = drop_null_columns(df_push)\n",
    "df_commits = df_push.select(\"event_id\",explode(\"payload_commits\").alias(\"commits\"))\n",
    "df_commits = add_index(df_commits,\"push_commit\")\n",
    "df_commits = subDFWithMasterID2(df_commits,\"commits\",\"push_commit_id\")\n",
    "df_commits = subDFWithMasterID2(df_commits,\"commits_author\",\"push_commit_id\",\"commits_distinct\",\"commits_message\",\"commits_sha\",\"commits_url\")\n",
    "df_push = df_push.drop(\"commits\",\"distinct_size\")\n",
    "df_commits.drop(\"event_id\")"
   ]
  },
  {
   "cell_type": "code",
   "execution_count": null,
   "metadata": {
    "application/vnd.databricks.v1+cell": {
     "cellMetadata": {},
     "inputWidgets": {},
     "nuid": "4bc76b44-dfaa-42be-bcea-d012c48b02f4",
     "showTitle": false,
     "title": ""
    }
   },
   "outputs": [],
   "source": [
    "df_push.printSchema"
   ]
  },
  {
   "cell_type": "code",
   "execution_count": null,
   "metadata": {
    "application/vnd.databricks.v1+cell": {
     "cellMetadata": {
      "byteLimit": 2048000,
      "rowLimit": 10000
     },
     "inputWidgets": {},
     "nuid": "ee2033df-0bab-44be-9bf2-eca7040d7f05",
     "showTitle": false,
     "title": ""
    }
   },
   "outputs": [],
   "source": [
    "write_df_to_adls(df_push,13,\"event_id\",\"push_event\",True)\n",
    "write_df_to_adls(df_commits,7,\"push_commit_id\",\"push_commits\",True)"
   ]
  },
  {
   "cell_type": "markdown",
   "metadata": {
    "application/vnd.databricks.v1+cell": {
     "cellMetadata": {
      "byteLimit": 2048000,
      "rowLimit": 10000
     },
     "inputWidgets": {},
     "nuid": "e9198f67-27ba-4a56-bbce-169624e5099c",
     "showTitle": false,
     "title": ""
    }
   },
   "source": [
    "# Commit Comment Event"
   ]
  },
  {
   "cell_type": "markdown",
   "metadata": {
    "application/vnd.databricks.v1+cell": {
     "cellMetadata": {},
     "inputWidgets": {},
     "nuid": "7c268f0d-ede2-4104-9d8a-9ed36e9fa502",
     "showTitle": false,
     "title": ""
    }
   },
   "source": [
    "* filters out the payload Comments\n",
    "* Breaks down the comment users in its own tables \n",
    "* Preserves the relationship by the user id"
   ]
  },
  {
   "cell_type": "code",
   "execution_count": null,
   "metadata": {
    "application/vnd.databricks.v1+cell": {
     "cellMetadata": {
      "byteLimit": 2048000,
      "rowLimit": 10000
     },
     "inputWidgets": {},
     "nuid": "55adacbc-9b24-492f-93eb-47291a7ea8fc",
     "showTitle": false,
     "title": ""
    }
   },
   "outputs": [],
   "source": [
    "df_cce = df.filter(df.type==\"CommitCommentEvent\")\n",
    "df_cce = drop_null_columns(subDFWithMasterID2(df_cce,\"payload\"))\n",
    "df_cce = subDFWithMasterID2(df_cce,\"payload_comment\")\n",
    "df_cce = drop_null_columns(df_cce)\n",
    "df_cce_users = subDFWithMasterID2(df_cce,\"payload_comment_user\")\n",
    "df_cce = df_cce.withColumn(\"payload_comment_user_id\",col(\"payload_comment_user.id\"))\n",
    "df_cce = df_cce.drop(\"payload_comment_user\")"
   ]
  },
  {
   "cell_type": "code",
   "execution_count": null,
   "metadata": {
    "application/vnd.databricks.v1+cell": {
     "cellMetadata": {
      "byteLimit": 2048000,
      "rowLimit": 10000
     },
     "inputWidgets": {},
     "nuid": "c3b4cce1-3ada-47db-9457-a19d2a2781db",
     "showTitle": false,
     "title": ""
    }
   },
   "outputs": [],
   "source": [
    "#TODO\n",
    "#df_cce_users parquet\n",
    "write_df_to_adls(df_cce,10,\"event_id\", 'commit_comment_event',True)\n",
    "write_df_to_adls(df_cce,10,\"event_id\", 'commit_comment_event_users',True)\n",
    "\n",
    "#df_cce parquet"
   ]
  },
  {
   "cell_type": "markdown",
   "metadata": {
    "application/vnd.databricks.v1+cell": {
     "cellMetadata": {
      "byteLimit": 2048000,
      "rowLimit": 10000
     },
     "inputWidgets": {},
     "nuid": "d1df3690-27c9-404a-967e-6141780ce6e8",
     "showTitle": false,
     "title": ""
    }
   },
   "source": [
    "# Public Event"
   ]
  },
  {
   "cell_type": "code",
   "execution_count": null,
   "metadata": {
    "application/vnd.databricks.v1+cell": {
     "cellMetadata": {
      "byteLimit": 2048000,
      "rowLimit": 10000
     },
     "inputWidgets": {},
     "nuid": "1aa158ab-e42c-4599-bd93-33bec9b51980",
     "showTitle": false,
     "title": ""
    }
   },
   "outputs": [],
   "source": [
    "df = df.withColumn(\"made_public_via_event\",when(col(\"type\") == \"Public Event\", True).otherwise(False))"
   ]
  },
  {
   "cell_type": "markdown",
   "metadata": {
    "application/vnd.databricks.v1+cell": {
     "cellMetadata": {
      "byteLimit": 2048000,
      "rowLimit": 10000
     },
     "inputWidgets": {},
     "nuid": "f84a97b0-10fd-4fde-b9f7-aa587a51b495",
     "showTitle": false,
     "title": ""
    }
   },
   "source": [
    "\n",
    "Saving Main Table"
   ]
  },
  {
   "cell_type": "code",
   "execution_count": null,
   "metadata": {
    "application/vnd.databricks.v1+cell": {
     "cellMetadata": {
      "byteLimit": 2048000,
      "rowLimit": 10000
     },
     "inputWidgets": {},
     "nuid": "750bdc69-c7be-4bfb-bdc1-ab05cdc3d024",
     "showTitle": false,
     "title": ""
    }
   },
   "outputs": [],
   "source": [
    "\n",
    "\n",
    "df = df.drop('payload')\n",
    "\n",
    "write_df_to_adls(df,23,\"event_id\",'master_events',True)"
   ]
  },
  {
   "cell_type": "code",
   "execution_count": null,
   "metadata": {
    "application/vnd.databricks.v1+cell": {
     "cellMetadata": {
      "byteLimit": 2048000,
      "rowLimit": 10000
     },
     "inputWidgets": {},
     "nuid": "589557ac-6f28-4b9b-9125-df27c33b38fa",
     "showTitle": false,
     "title": ""
    }
   },
   "outputs": [],
   "source": [
    "df.printSchema()"
   ]
  }
 ],
 "metadata": {
  "application/vnd.databricks.v1+notebook": {
   "dashboards": [],
   "language": "python",
   "notebookMetadata": {
    "pythonIndentUnit": 4
   },
   "notebookName": "Final AAA Project 2- Silver Layer",
   "widgets": {}
  },
  "language_info": {
   "name": "python"
  }
 },
 "nbformat": 4,
 "nbformat_minor": 0
}
