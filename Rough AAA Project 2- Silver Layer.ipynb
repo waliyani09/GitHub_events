{
 "cells": [
  {
   "cell_type": "markdown",
   "metadata": {
    "application/vnd.databricks.v1+cell": {
     "cellMetadata": {
      "byteLimit": 2048000,
      "rowLimit": 10000
     },
     "inputWidgets": {},
     "nuid": "710fe65d-e031-4f0d-94bf-a573fb049bf5",
     "showTitle": false,
     "title": ""
    }
   },
   "source": [
    "### df"
   ]
  },
  {
   "cell_type": "code",
   "execution_count": 0,
   "metadata": {
    "application/vnd.databricks.v1+cell": {
     "cellMetadata": {
      "byteLimit": 2048000,
      "rowLimit": 10000
     },
     "inputWidgets": {},
     "nuid": "91930124-3b9a-46e4-9941-afa633ef62c7",
     "showTitle": false,
     "title": ""
    }
   },
   "outputs": [],
   "source": [
    "contname = 'team4-project2' #azure storage account container\n",
    "storage_acct_name = '20230821desa'\n",
    "\n",
    "file_pattern = f\"abfss://{contname}@{storage_acct_name}.dfs.core.windows.net/BronzeLayer/day_of_the_month=10/\"\n",
    "\n",
    "df = spark.read.format('parquet').load(f'{file_pattern}').withColumnRenamed('id', 'event_id')"
   ]
  },
  {
   "cell_type": "markdown",
   "metadata": {
    "application/vnd.databricks.v1+cell": {
     "cellMetadata": {
      "byteLimit": 2048000,
      "rowLimit": 10000
     },
     "inputWidgets": {},
     "nuid": "fa57c883-71b1-43e6-9561-03f03694b709",
     "showTitle": false,
     "title": ""
    }
   },
   "source": [
    "###imports"
   ]
  },
  {
   "cell_type": "code",
   "execution_count": 0,
   "metadata": {
    "application/vnd.databricks.v1+cell": {
     "cellMetadata": {
      "byteLimit": 2048000,
      "rowLimit": 10000
     },
     "inputWidgets": {},
     "nuid": "66752b40-3fda-43b0-b59e-4f7cd441cf9d",
     "showTitle": false,
     "title": ""
    }
   },
   "outputs": [],
   "source": [
    "from pyspark.sql.types import StructType, StructField, IntegerType, LongType\n",
    "from pyspark.sql.functions import cast, col, to_timestamp, when, explode,size\n",
    "from pyspark.sql import DataFrame\n",
    "from pyspark.sql.functions import broadcast"
   ]
  },
  {
   "cell_type": "markdown",
   "metadata": {
    "application/vnd.databricks.v1+cell": {
     "cellMetadata": {
      "byteLimit": 2048000,
      "rowLimit": 10000
     },
     "inputWidgets": {},
     "nuid": "ba4618ef-04a5-4b0b-be15-13df81b1cdf2",
     "showTitle": false,
     "title": ""
    }
   },
   "source": [
    "###functions"
   ]
  },
  {
   "cell_type": "code",
   "execution_count": 0,
   "metadata": {
    "application/vnd.databricks.v1+cell": {
     "cellMetadata": {
      "byteLimit": 2048000,
      "rowLimit": 10000
     },
     "inputWidgets": {},
     "nuid": "fc269035-9fe8-4b06-be7b-1db3c9d17e8c",
     "showTitle": false,
     "title": ""
    }
   },
   "outputs": [],
   "source": [
    "# rename_cols(df.filter(col('payload.issue').isNotNull()), 'issue').display()\n",
    "\n",
    "def rename_payload_cols(given_df, title):\n",
    "\n",
    "    # Get the list of all columns under the specified nested column\n",
    "    nested_columns = given_df.select(f'payload.{title}.*').columns\n",
    "\n",
    "    # Start with a DataFrame containing the non-nested columns\n",
    "    new_columns = [f'payload.{title}.{col}' for col in nested_columns]\n",
    "    return_df = given_df.select('event_id', 'type', *new_columns)\n",
    "\n",
    "    for column in nested_columns:\n",
    "        return_df = return_df.withColumnRenamed(column, f'{title}_{column}')\n",
    "\n",
    "    return return_df\n",
    "\n",
    "\n",
    "def subDF(given_df, title):\n",
    "    nested_columns = given_df.select(f'{title}.*').columns\n",
    "    new_columns = [f'{title}.{col}' for col in nested_columns]\n",
    "    return_df = given_df.select('event_id', *new_columns)\n",
    "\n",
    "    for column in nested_columns:\n",
    "        return_df = return_df.withColumnRenamed(column, f'{title}_{column}')\n",
    "\n",
    "    return return_df\n",
    "\n",
    "\n",
    "def subDFWithMasterID(given_df, target_table, id_column):\n",
    "    nested_columns = given_df.select(f'{target_table}.*').columns\n",
    "    new_columns = [f'{target_table}.{col}' for col in nested_columns]\n",
    "    return_df = given_df.select('event_id', f'master_{id_column}_id', *new_columns)\n",
    "\n",
    "    for column in nested_columns:\n",
    "        return_df = return_df.withColumnRenamed(column, f'{target_table}_{column}')\n",
    "\n",
    "    return return_df\n",
    "\n",
    "\n",
    "def add_index(df, event_type, start_index = 1):\n",
    "    df_with_index = df.rdd.zipWithIndex().map(lambda x: (x[1]+start_index, *x[0]))\n",
    "\n",
    "    schema = StructType([\n",
    "        StructField(f\"{event_type}_id\", IntegerType(), False),\n",
    "        *df.schema.fields\n",
    "    ])\n",
    "\n",
    "    df_with_index = df_with_index.toDF(schema=schema)\n",
    "\n",
    "    return df_with_index\n",
    "\n",
    "\n",
    "def drop_null_columns(df: DataFrame) -> DataFrame:\n",
    "    null_columns = [col_name for col_name in df.columns if df.filter(col(col_name).isNotNull()).count() == 0]\n",
    "    df = df.drop(*null_columns)\n",
    "    return df\n",
    "\n",
    "\n",
    "def subDFWithMasterID2(given_df, target_table, id_column,*args):\n",
    "    nested_columns = given_df.select(f'{target_table}.*').columns\n",
    "    new_columns = [f'{target_table}.{col}' for col in nested_columns]\n",
    "    return_df = given_df.select('event_id', f'{id_column}', *new_columns,*args)\n",
    "    for column in nested_columns:\n",
    "        return_df = return_df.withColumnRenamed(column, f'{target_table}_{column}')\n",
    "    return (return_df)\n"
   ]
  },
  {
   "cell_type": "code",
   "execution_count": 0,
   "metadata": {
    "application/vnd.databricks.v1+cell": {
     "cellMetadata": {
      "byteLimit": 2048000,
      "rowLimit": 10000
     },
     "inputWidgets": {},
     "nuid": "0d1907e1-4177-4919-a7d1-6efcfeac3d72",
     "showTitle": false,
     "title": ""
    }
   },
   "outputs": [],
   "source": [
    "adls_container = 'team4-project2' #azure storage account container\n",
    "adls_account_name = '20230821desa'\n",
    "client_id = 'de4ff859-02b1-4e2f-9d16-b578fa03df4f' #aka: app id\n",
    "tenant_id = '33da9f3f-4c1a-4640-8ce1-3f63024aea1d' #aka: directory id\n",
    "\n",
    "service_credential = dbutils.secrets.get(scope=\"databricks-app-kv\",key=\"databricks-application\")\n",
    "\n",
    "spark.conf.set(f\"fs.azure.account.auth.type.{adls_account_name}.dfs.core.windows.net\", \"OAuth\")\n",
    "spark.conf.set(f\"fs.azure.account.oauth.provider.type.{adls_account_name}.dfs.core.windows.net\", \"org.apache.hadoop.fs.azurebfs.oauth2.ClientCredsTokenProvider\")\n",
    "spark.conf.set(f\"fs.azure.account.oauth2.client.id.{adls_account_name}.dfs.core.windows.net\", f\"{client_id}\")\n",
    "spark.conf.set(f\"fs.azure.account.oauth2.client.secret.{adls_account_name}.dfs.core.windows.net\", service_credential)\n",
    "spark.conf.set(f\"fs.azure.account.oauth2.client.endpoint.{adls_account_name}.dfs.core.windows.net\", f\"https://login.microsoftonline.com/{tenant_id}/oauth2/token\")\n",
    "\n",
    "def write_df_to_adls(df, numPartitions, partitionByCol, folder_name , overwrite=False): \n",
    "    # Write the DataFrame to ADLS\n",
    "    df.repartition(1).write.mode(\"overwrite\" if overwrite else \"append\").parquet(f'abfss://{contname}@{storage_acct_name}.dfs.core.windows.net/SilverLayer/{folder_name}')\n"
   ]
  },
  {
   "cell_type": "markdown",
   "metadata": {
    "application/vnd.databricks.v1+cell": {
     "cellMetadata": {
      "byteLimit": 2048000,
      "rowLimit": 10000
     },
     "inputWidgets": {},
     "nuid": "6c95503e-0cdb-441d-a670-ee67e763f9d7",
     "showTitle": false,
     "title": ""
    }
   },
   "source": [
    "###actor_df"
   ]
  },
  {
   "cell_type": "code",
   "execution_count": 0,
   "metadata": {
    "application/vnd.databricks.v1+cell": {
     "cellMetadata": {
      "byteLimit": 2048000,
      "rowLimit": 10000
     },
     "inputWidgets": {},
     "nuid": "9b9b3f45-12a5-493c-9aa6-fb2d25763a3f",
     "showTitle": false,
     "title": ""
    }
   },
   "outputs": [],
   "source": [
    "# selecting actor columns from df\n",
    "actor_cols = [col for col in df.columns if col.startswith(\"actor\")]\n",
    "actor_df = df.select(*actor_cols ,\"created_at\")\n",
    "\n",
    "# casting created_at to timestamp\n",
    "actor_df = actor_df.withColumn('created_at', to_timestamp('created_at'))\n",
    "\n",
    "# I seleting most updated info per actor_id\n",
    "new_actor_cols = [col for col in actor_df.columns if col.startswith(\"actor\")]\n",
    "\n",
    "actor_df = actor_df.groupBy('actor_id').agg({str(new_actor_cols[0]): 'max', str(new_actor_cols[1]): 'max', str(new_actor_cols[2]): 'max', str(new_actor_cols[3]): 'max', str(new_actor_cols[4]): 'max', str(new_actor_cols[5]): 'max', \"created_at\": \"max\"}).drop('actor_id', 'max(created_at)')\n",
    "\n",
    "# renameing max columns\n",
    "max_actor_cols = [col for col in actor_df.columns if col.startswith(\"max\")]\n",
    "\n",
    "actor_df = actor_df.withColumnRenamed('max(actor_avatar_url)', 'actor_avatar_url').withColumnRenamed('max(actor_display_login)', 'actor_display_login').withColumnRenamed('max(actor_gravatar_id)', 'actor_gravatar_id').withColumnRenamed('max(actor_url)', 'actor_url').withColumnRenamed('max(actor_id)', 'actor_id').withColumnRenamed('max(actor_login)', 'actor_login')\n",
    "\n",
    "actor_df = actor_df.select('actor_id', 'actor_login', 'actor_display_login', 'actor_avatar_url', 'actor_url')\n",
    "\n",
    "write_df_to_adls(actor_df, 7, 'actor_id', 'actors' , True)"
   ]
  },
  {
   "cell_type": "markdown",
   "metadata": {
    "application/vnd.databricks.v1+cell": {
     "cellMetadata": {
      "byteLimit": 2048000,
      "rowLimit": 10000
     },
     "inputWidgets": {},
     "nuid": "8dbcc34c-bc96-4335-9170-2d382ce1c8c7",
     "showTitle": false,
     "title": ""
    }
   },
   "source": [
    "### org_df"
   ]
  },
  {
   "cell_type": "code",
   "execution_count": 0,
   "metadata": {
    "application/vnd.databricks.v1+cell": {
     "cellMetadata": {
      "byteLimit": 2048000,
      "rowLimit": 10000
     },
     "inputWidgets": {},
     "nuid": "72417eeb-63f2-4174-8678-23b829fe20b6",
     "showTitle": false,
     "title": ""
    }
   },
   "outputs": [],
   "source": [
    "# selecting org columns from df\n",
    "org_cols = [col for col in df.columns if col.startswith(\"org\")]\n",
    "org_df = df.select(\"event_id\", *org_cols ,\"created_at\").where(df.org_id.isNotNull())\n",
    "\n",
    "# casting created_at to timestamp\n",
    "org_df = org_df.withColumn('created_at', to_timestamp('created_at'))\n",
    "\n",
    "# I seleting most updated info per actor_id\n",
    "org_df = org_df.groupBy('org_id').agg({str(org_cols[0]): 'max', str(org_cols[1]): 'max', str(org_cols[2]): 'max', str(org_cols[3]): 'max', str(org_cols[4]): 'max'}).drop('org_id', 'max(created_at)')\n",
    "\n",
    "# renameing max columns\n",
    "max_org_cols = [col for col in org_df.columns if col.startswith(\"max\")]\n",
    "\n",
    "org_df = org_df.withColumnRenamed('max(org_avatar_url)', 'org_avatar_url').withColumnRenamed('max(org_gravatar_id)', 'org_gravatar_id').withColumnRenamed('max(org_id)', 'org_id').withColumnRenamed('max(org_login)', 'org_login').withColumnRenamed('max(org_url)', 'org_url')\n",
    "\n",
    "org_df = org_df.select('org_id', 'org_login', 'org_url', 'org_avatar_url')\n",
    "\n",
    "\n",
    "write_df_to_adls(org_df, 1, 'org_id', 'orgs' , True)"
   ]
  },
  {
   "cell_type": "markdown",
   "metadata": {
    "application/vnd.databricks.v1+cell": {
     "cellMetadata": {
      "byteLimit": 2048000,
      "rowLimit": 10000
     },
     "inputWidgets": {},
     "nuid": "641eaab5-d348-4853-9865-51595e38fdcc",
     "showTitle": false,
     "title": ""
    }
   },
   "source": [
    "###repo_df"
   ]
  },
  {
   "cell_type": "code",
   "execution_count": 0,
   "metadata": {
    "application/vnd.databricks.v1+cell": {
     "cellMetadata": {
      "byteLimit": 2048000,
      "rowLimit": 10000
     },
     "inputWidgets": {},
     "nuid": "201fcec2-5e5f-4efc-a4f2-4e91bbb505a0",
     "showTitle": false,
     "title": ""
    }
   },
   "outputs": [],
   "source": [
    "# selecting org columns from df\n",
    "repo_cols = [col for col in df.columns if col.startswith(\"repo\")]\n",
    "repo_df = df.select(\"event_id\", *repo_cols ,\"created_at\").where(df.repo_id.isNotNull())\n",
    "\n",
    "# casting created_at to timestamp\n",
    "repo_df = repo_df.withColumn('created_at', to_timestamp('created_at'))\n",
    "\n",
    "# I seleting most updated info per actor_id\n",
    "repo_df = repo_df.groupBy('repo_id').agg({str(repo_cols[0]): 'max', str(repo_cols[1]): 'max', str(repo_cols[2]): 'max', 'event_id': 'max'}).drop('repo_id', 'max(created_at)')\n",
    "\n",
    "# renameing max columns\n",
    "max_repo_cols = [col for col in repo_df.columns if col.startswith(\"max\")]\n",
    "\n",
    "repo_df = repo_df.withColumnRenamed('max(repo_id)', 'repo_id').withColumnRenamed('max(repo_name)', 'repo_name').withColumnRenamed('max(repo_url)', 'repo_url').withColumnRenamed('max(event_id)', 'event_id')\n",
    "\n",
    "repo_df = repo_df.select('repo_id', 'repo_name', 'repo_url')\n",
    "\n",
    "write_df_to_adls(repo_df, 1, 'repo_id', 'repo' , True)"
   ]
  },
  {
   "cell_type": "code",
   "execution_count": 0,
   "metadata": {
    "application/vnd.databricks.v1+cell": {
     "cellMetadata": {
      "byteLimit": 2048000,
      "rowLimit": 10000
     },
     "inputWidgets": {},
     "nuid": "54f3306e-1cdb-429b-99db-a335b89aefdb",
     "showTitle": false,
     "title": ""
    }
   },
   "outputs": [],
   "source": [
    "df = df.drop('actor_loin', 'actor_avatar_url', 'actor_display_login', 'actor_gravatar_id', 'actor_login', 'actor_url' , 'repo_name', 'repo_url', 'org_avatar_url', 'org_gravatar_id', 'org_login', 'org_url')"
   ]
  },
  {
   "cell_type": "markdown",
   "metadata": {
    "application/vnd.databricks.v1+cell": {
     "cellMetadata": {
      "byteLimit": 2048000,
      "rowLimit": 10000
     },
     "inputWidgets": {},
     "nuid": "1f83881a-57d4-4e81-a4b4-a09b6364a16a",
     "showTitle": false,
     "title": ""
    }
   },
   "source": [
    "### master_issues"
   ]
  },
  {
   "cell_type": "code",
   "execution_count": 0,
   "metadata": {
    "application/vnd.databricks.v1+cell": {
     "cellMetadata": {
      "byteLimit": 2048000,
      "rowLimit": 10000
     },
     "inputWidgets": {},
     "nuid": "6a32f408-414e-420a-9f0f-96337f617c55",
     "showTitle": false,
     "title": ""
    }
   },
   "outputs": [],
   "source": [
    "master_issues = df.filter(col('payload.issue').isNotNull())\n",
    "master_issues = rename_payload_cols(master_issues, 'issue')\n",
    "master_issues = add_index(master_issues, 'master_issue')"
   ]
  },
  {
   "cell_type": "markdown",
   "metadata": {
    "application/vnd.databricks.v1+cell": {
     "cellMetadata": {},
     "inputWidgets": {},
     "nuid": "b11f2718-2e70-4803-b7c9-dfae014fde0c",
     "showTitle": false,
     "title": ""
    }
   },
   "source": [
    "### issue_assignees"
   ]
  },
  {
   "cell_type": "code",
   "execution_count": 0,
   "metadata": {
    "application/vnd.databricks.v1+cell": {
     "cellMetadata": {
      "byteLimit": 2048000,
      "rowLimit": 10000
     },
     "inputWidgets": {},
     "nuid": "588fa7e0-d0ec-4c62-90d1-2d3f58e9ad62",
     "showTitle": false,
     "title": ""
    }
   },
   "outputs": [],
   "source": [
    "# issue assignees \n",
    "\n",
    "master_issues = master_issues.drop('issue_assignee')\n",
    "\n",
    "issue_assignees = master_issues.filter(size(col('issue_assignees')) > 0).select('*', explode('issue_assignees').alias('issue_assignee'))\n",
    "\n",
    "issue_assignees = subDFWithMasterID(issue_assignees, 'issue_assignee', 'issue')\n",
    "\n",
    "issue_assignees = add_index(issue_assignees, 'user').withColumnRenamed('event_id', 'issue_event_id')\n",
    "\n",
    "issue_assignees_temp = issue_assignees.drop('master_issue_id')\n",
    "# Creating null value in the master_users dataframe\n",
    "\n",
    "master_users = spark.createDataFrame([(0,  None, None, None, None, None, None, None, None,  None, None, None, None, None, None, None, None, None,None, None)], issue_assignees_temp.schema)\n",
    "\n",
    "master_users_count = master_users.count()\n",
    "\n",
    "master_users = master_users.union(issue_assignees_temp)\n",
    "\n",
    "master_users = master_users.drop_duplicates(subset = ['user_id'])\n",
    "\n",
    "\n",
    "issue_assignees = issue_assignees.withColumnRenamed('user_id', 'assignee_id').drop(*issue_assignees_temp.columns)\n",
    "\n",
    "# now have issues_assignees table with master event_id from the issues table\n",
    "# We have dropped all columns expect assinee id created for the master_users table and the master_issue_id\n",
    "\n",
    "write_df_to_adls(issue_assignees, 1, 'master_issue_id', 'issue_assignees', True)\n"
   ]
  },
  {
   "cell_type": "markdown",
   "metadata": {
    "application/vnd.databricks.v1+cell": {
     "cellMetadata": {},
     "inputWidgets": {},
     "nuid": "39554ef6-16b0-4cea-92eb-b2904e82b715",
     "showTitle": false,
     "title": ""
    }
   },
   "source": [
    "### issue_users"
   ]
  },
  {
   "cell_type": "code",
   "execution_count": 0,
   "metadata": {
    "application/vnd.databricks.v1+cell": {
     "cellMetadata": {
      "byteLimit": 2048000,
      "rowLimit": 10000
     },
     "inputWidgets": {},
     "nuid": "c875125a-7697-4be1-9f51-bb7200fad0ac",
     "showTitle": false,
     "title": ""
    }
   },
   "outputs": [
    {
     "output_type": "execute_result",
     "data": {
      "text/plain": [
       "DataFrame[master_issue_id: int, event_id: string, type: string, issue_active_lock_reason: string, issue_assignees: array<struct<avatar_url:string,events_url:string,followers_url:string,following_url:string,gists_url:string,gravatar_id:string,html_url:string,id:bigint,login:string,node_id:string,organizations_url:string,received_events_url:string,repos_url:string,site_admin:boolean,starred_url:string,subscriptions_url:string,type:string,url:string>>, issue_author_association: string, issue_body: string, issue_closed_at: string, issue_comments: bigint, issue_comments_url: string, issue_created_at: string, issue_draft: boolean, issue_events_url: string, issue_html_url: string, issue_id: bigint, issue_labels: array<struct<color:string,default:boolean,description:string,id:bigint,name:string,node_id:string,url:string>>, issue_labels_url: string, issue_locked: boolean, issue_milestone: struct<closed_at:string,closed_issues:bigint,created_at:string,creator:struct<avatar_url:string,events_url:string,followers_url:string,following_url:string,gists_url:string,gravatar_id:string,html_url:string,id:bigint,login:string,node_id:string,organizations_url:string,received_events_url:string,repos_url:string,site_admin:boolean,starred_url:string,subscriptions_url:string,type:string,url:string>,description:string,due_on:string,html_url:string,id:bigint,labels_url:string,node_id:string,number:bigint,open_issues:bigint,state:string,title:string,updated_at:string,url:string>, issue_node_id: string, issue_number: bigint, issue_performed_via_github_app: struct<created_at:string,description:string,events:array<string>,external_url:string,html_url:string,id:bigint,name:string,node_id:string,owner:struct<avatar_url:string,events_url:string,followers_url:string,following_url:string,gists_url:string,gravatar_id:string,html_url:string,id:bigint,login:string,node_id:string,organizations_url:string,received_events_url:string,repos_url:string,site_admin:boolean,starred_url:string,subscriptions_url:string,type:string,url:string>,permissions:struct<actions:string,administration:string,checks:string,codespace_metadata:string,content_references:string,contents:string,deployments:string,discussions:string,emails:string,followers:string,gists:string,issues:string,keys:string,members:string,metadata:string,organization_hooks:string,organization_packages:string,organization_projects:string,organization_user_blocking:string,packages:string,pull_requests:string,pull_requests_comment_only_reviews:string,pull_requests_from_forks:string,repository_hooks:string,repository_projects:string,single_file:string,starring:string,statuses:string,team_discussions:string,watching:string,workflows:string>,slug:string,updated_at:string>, issue_pull_request: struct<diff_url:string,html_url:string,merged_at:string,patch_url:string,url:string>, issue_reactions: struct<+1:bigint,-1:bigint,confused:bigint,eyes:bigint,heart:bigint,hooray:bigint,laugh:bigint,rocket:bigint,total_count:bigint,url:string>, issue_repository_url: string, issue_state: string, issue_timeline_url: string, issue_title: string, issue_updated_at: string, issue_url: string, issue_user: struct<avatar_url:string,events_url:string,followers_url:string,following_url:string,gists_url:string,gravatar_id:string,html_url:string,id:bigint,login:string,node_id:string,organizations_url:string,received_events_url:string,repos_url:string,site_admin:boolean,starred_url:string,subscriptions_url:string,type:string,url:string>, users_id: int]"
      ]
     },
     "execution_count": 53,
     "metadata": {},
     "output_type": "execute_result"
    }
   ],
   "source": [
    "# Seperates Issues Users tables from the main issues table and joins to the master Users \n",
    "# and back to the master_issues table\n",
    "\n",
    "issue_users = master_issues.filter(col('issue_user').isNotNull())\n",
    "issue_users = subDF(issue_users, 'issue_user')\n",
    "\n",
    "issue_users = add_index(issue_users, 'user', master_users_count).withColumnRenamed('event_id', 'issue_event_id')\n",
    "\n",
    "\n",
    "# Linking the issue_users with the master user's table and addding new values to the count\n",
    "master_users = master_users.union(issue_users).drop_duplicates(subset = ['issue_assignee_id'])\n",
    "\n",
    "\n",
    "master_users_count = master_users.count()\n",
    "\n",
    "# linking user_issues with master_issues table and setting null values to 0 \n",
    "master_issues = (\n",
    "            master_issues.join(broadcast(master_users), master_issues.issue_user.id \n",
    "            == master_users.issue_assignee_id, how= 'left')\n",
    " )\n",
    "\n",
    "master_issues.cache()\n",
    "\n",
    "master_issues = master_issues.withColumnRenamed('user_id', 'users_id').drop(*master_users.columns)\n",
    "master_issues = master_issues.fillna(0, subset = ['users_id'])\n",
    "\n",
    "master_issues.unpersist()"
   ]
  },
  {
   "cell_type": "markdown",
   "metadata": {
    "application/vnd.databricks.v1+cell": {
     "cellMetadata": {},
     "inputWidgets": {},
     "nuid": "8a4c937c-cfae-41d9-987d-af00ef72a9fa",
     "showTitle": false,
     "title": ""
    }
   },
   "source": [
    "### issue_milestone"
   ]
  },
  {
   "cell_type": "code",
   "execution_count": 0,
   "metadata": {
    "application/vnd.databricks.v1+cell": {
     "cellMetadata": {
      "byteLimit": 2048000,
      "rowLimit": 10000
     },
     "inputWidgets": {},
     "nuid": "196e78a0-1cd4-4fa2-9ea5-547479195ac0",
     "showTitle": false,
     "title": ""
    }
   },
   "outputs": [],
   "source": [
    "# new milestone logic for issues\n",
    "\n",
    "issue_milestone = master_issues.filter(col('issue_milestone').isNotNull())\n",
    "# issue_milestone = issue_milestone.withColumn('pull_request_milestone_id', lit(0))\n",
    "issue_milestone = subDFWithMasterID(issue_milestone, 'issue_milestone', 'issue')\n",
    "\n",
    "# create milestone's creator tables and links that with milestone table\n",
    "issue_milestone_creator = issue_milestone.filter(col('issue_milestone_creator').isNotNull())\n",
    "issue_milestone_creator = subDF(issue_milestone, 'issue_milestone_creator')\n",
    "\n",
    "issue_milestone_creator = add_index(issue_milestone_creator, 'interm', master_users_count).withColumnRenamed('event_id', 'issue_milestone_event_id')\n",
    "\n",
    "master_users = master_users.union(issue_milestone_creator).drop_duplicates(subset = ['issue_assignee_id'])\n",
    "master_users_count = master_users.count()\n",
    "\n",
    "# linking user_issues with master_issues table and setting null values to 0 \n",
    "issue_milestone = (\n",
    "            issue_milestone.join(broadcast(master_users), issue_milestone.issue_milestone_creator.id\n",
    "            == master_users.issue_assignee_id, how= 'left')\n",
    ")\n",
    "\n",
    "issue_milestone.cache()\n",
    "\n",
    "issue_milestone = issue_milestone.withColumnRenamed('user_id', 'creator_id').drop(*master_users.columns,'issue_milestone_creator').fillna(0, subset = ['creator_id'])\n",
    "\n",
    "issue_milestone.unpersist()\n",
    "\n",
    "write_df_to_adls(issue_milestone, 1, 'master_issue_id', 'issue_milestone', overwrite= True)\n"
   ]
  },
  {
   "cell_type": "markdown",
   "metadata": {
    "application/vnd.databricks.v1+cell": {
     "cellMetadata": {},
     "inputWidgets": {},
     "nuid": "fa9d3ade-1fc5-476f-a958-b406a2e39243",
     "showTitle": false,
     "title": ""
    }
   },
   "source": [
    "### issue_pull_requests"
   ]
  },
  {
   "cell_type": "code",
   "execution_count": 0,
   "metadata": {
    "application/vnd.databricks.v1+cell": {
     "cellMetadata": {
      "byteLimit": 2048000,
      "rowLimit": 10000
     },
     "inputWidgets": {},
     "nuid": "3afb23dc-f67d-485e-a95b-8a06ed562c82",
     "showTitle": false,
     "title": ""
    }
   },
   "outputs": [],
   "source": [
    "issue_pull_requests = master_issues.filter(col('issue_pull_request').isNotNull())\n",
    "\n",
    "issue_pull_requests = subDFWithMasterID(issue_pull_requests, 'issue_pull_request', 'issue')\n",
    "\n",
    "write_df_to_adls(issue_pull_requests, 10, 'master_issue_id', 'issue_pull_requests', overwrite= True)\n"
   ]
  },
  {
   "cell_type": "markdown",
   "metadata": {
    "application/vnd.databricks.v1+cell": {
     "cellMetadata": {},
     "inputWidgets": {},
     "nuid": "5df5e137-60d5-4072-8e93-ddbb159e8c33",
     "showTitle": false,
     "title": ""
    }
   },
   "source": [
    "### issue_pvga"
   ]
  },
  {
   "cell_type": "code",
   "execution_count": 0,
   "metadata": {
    "application/vnd.databricks.v1+cell": {
     "cellMetadata": {
      "byteLimit": 2048000,
      "rowLimit": 10000
     },
     "inputWidgets": {},
     "nuid": "cd486d39-1ec7-41c2-a723-6771cdf7f6f1",
     "showTitle": false,
     "title": ""
    }
   },
   "outputs": [
    {
     "output_type": "execute_result",
     "data": {
      "text/plain": [
       "DataFrame[owner_id: int, event_id: string, master_issue_id: int, issue_performed_via_github_app_created_at: string, issue_performed_via_github_app_description: string, issue_performed_via_github_app_events: array<string>, issue_performed_via_github_app_external_url: string, issue_performed_via_github_app_html_url: string, issue_performed_via_github_app_id: bigint, issue_performed_via_github_app_name: string, issue_performed_via_github_app_node_id: string, issue_performed_via_github_app_permissions: struct<actions:string,administration:string,checks:string,codespace_metadata:string,content_references:string,contents:string,deployments:string,discussions:string,emails:string,followers:string,gists:string,issues:string,keys:string,members:string,metadata:string,organization_hooks:string,organization_packages:string,organization_projects:string,organization_user_blocking:string,packages:string,pull_requests:string,pull_requests_comment_only_reviews:string,pull_requests_from_forks:string,repository_hooks:string,repository_projects:string,single_file:string,starring:string,statuses:string,team_discussions:string,watching:string,workflows:string>, issue_performed_via_github_app_slug: string, issue_performed_via_github_app_updated_at: string]"
      ]
     },
     "execution_count": 56,
     "metadata": {},
     "output_type": "execute_result"
    }
   ],
   "source": [
    "issue_pvga = master_issues.filter(col('issue_performed_via_github_app').isNotNull())\n",
    "issue_pvga = subDFWithMasterID(issue_pvga, 'issue_performed_via_github_app', 'issue')\n",
    "\n",
    "# create pvga's owner tables and links that with pvga table\n",
    "issue_pvga_owner = issue_pvga.filter(col('issue_performed_via_github_app_owner').isNotNull())\n",
    "issue_pvga_owner = subDF(issue_pvga, 'issue_performed_via_github_app_owner')\n",
    "\n",
    "issue_pvga_owner = add_index(issue_pvga_owner, 'interm', master_users_count).withColumnRenamed('event_id', 'issue_pvga_event_id')\n",
    "\n",
    "master_users = master_users.union(issue_pvga_owner).drop_duplicates(subset = ['issue_assignee_id'])\n",
    "master_users_count = master_users.count()\n",
    "\n",
    "issue_pvga = (\n",
    "            master_users.join(broadcast(issue_pvga), issue_pvga.issue_performed_via_github_app_owner.id \n",
    "            == master_users.issue_assignee_id, how= 'right')\n",
    " )\n",
    "\n",
    "issue_pvga.cache()\n",
    "\n",
    "issue_pvga = issue_pvga.withColumnRenamed('user_id', 'owner_id').drop(*master_users.columns, 'issue_performed_via_github_app_owner').fillna(0, subset= ['owner_id'])\n",
    "\n",
    "issue_pvga.unpersist()\n",
    "\n",
    "\n",
    "# 2 columns in issue PVGA - one is for issue events and the other is for comment events- they can all be diff numbers bc in different columns "
   ]
  },
  {
   "cell_type": "markdown",
   "metadata": {
    "application/vnd.databricks.v1+cell": {
     "cellMetadata": {},
     "inputWidgets": {},
     "nuid": "881c1f2b-4285-4f29-adb4-a876b6fc086a",
     "showTitle": false,
     "title": ""
    }
   },
   "source": [
    "### issue_pvga_permission"
   ]
  },
  {
   "cell_type": "code",
   "execution_count": 0,
   "metadata": {
    "application/vnd.databricks.v1+cell": {
     "cellMetadata": {
      "byteLimit": 2048000,
      "rowLimit": 10000
     },
     "inputWidgets": {},
     "nuid": "049a427e-1cea-4996-85f4-93613f4ff5ff",
     "showTitle": false,
     "title": ""
    }
   },
   "outputs": [],
   "source": [
    "# issue_pvga_permissions = subDF(issue_pvga, 'issue_performed_via_github_app_permissions')\n",
    "\n",
    "issue_pvga = add_index(issue_pvga, 'master_issue_pvga')\n",
    "\n",
    "issue_pvga_permissions = issue_pvga.filter(col('issue_performed_via_github_app_permissions').isNotNull())\n",
    "\n",
    "issue_pvga_permissions = subDFWithMasterID(issue_pvga_permissions, 'issue_performed_via_github_app_permissions', 'issue_pvga')\n",
    "\n",
    "# # Use these to srater the counts for the next thing ie) pvga in the pull_requests table \n",
    "\n",
    "issue_pvga = issue_pvga.drop('issue_performed_via_github_app_permissions')"
   ]
  },
  {
   "cell_type": "markdown",
   "metadata": {
    "application/vnd.databricks.v1+cell": {
     "cellMetadata": {},
     "inputWidgets": {},
     "nuid": "b05df272-e17c-4952-863f-ce618cb447b9",
     "showTitle": false,
     "title": ""
    }
   },
   "source": [
    "### issue_pvga_events"
   ]
  },
  {
   "cell_type": "code",
   "execution_count": 0,
   "metadata": {
    "application/vnd.databricks.v1+cell": {
     "cellMetadata": {
      "byteLimit": 2048000,
      "rowLimit": 10000
     },
     "inputWidgets": {},
     "nuid": "b2964043-9392-45ae-929b-c6d349f2d7b4",
     "showTitle": false,
     "title": ""
    }
   },
   "outputs": [],
   "source": [
    "# This is the new issues pvga events setup \n",
    "issue_pvga_events = issue_pvga.filter(size(col('issue_performed_via_github_app_events')) > 0)\n",
    "issue_pvga_events = issue_pvga_events.select('*', explode('issue_performed_via_github_app_events').alias('issue_pvga_events'))\n",
    "\n",
    "issue_pvga_events = issue_pvga_events.select('issue_pvga_events', 'master_issue_pvga_id')\n",
    "\n",
    "issue_pvga = issue_pvga.drop('issue_performed_via_github_app_events')\n",
    "\n",
    "\n",
    "write_df_to_adls(issue_pvga, 1, 'master_issue_id', 'issue_pvga', overwrite= True)\n",
    "write_df_to_adls(issue_pvga_events, 1, 'master_issue_pvga_id', 'issue_pvga_events', overwrite= True)\n",
    "write_df_to_adls(issue_pvga_permissions, 1, 'master_issue_pvga_id', 'issue_pvga_permissions', overwrite= True)\n",
    "\n"
   ]
  },
  {
   "cell_type": "markdown",
   "metadata": {
    "application/vnd.databricks.v1+cell": {
     "cellMetadata": {},
     "inputWidgets": {},
     "nuid": "04b93991-94eb-4765-be2c-b5cb9309832c",
     "showTitle": false,
     "title": ""
    }
   },
   "source": [
    "### issue_labels"
   ]
  },
  {
   "cell_type": "code",
   "execution_count": 0,
   "metadata": {
    "application/vnd.databricks.v1+cell": {
     "cellMetadata": {
      "byteLimit": 2048000,
      "rowLimit": 10000
     },
     "inputWidgets": {},
     "nuid": "8182edd6-db8a-47c9-ae72-2da452b4482d",
     "showTitle": false,
     "title": ""
    }
   },
   "outputs": [],
   "source": [
    "issue_labels = master_issues.filter(size(col('issue_labels')) > 0).select('*', explode('issue_labels').alias('issue_label'))\n",
    "\n",
    "issue_labels = subDFWithMasterID(issue_labels, 'issue_label', 'issue')\n",
    "\n",
    "write_df_to_adls(issue_labels, 4, 'master_issue_id', 'issue_labels', overwrite= True)\n"
   ]
  },
  {
   "cell_type": "markdown",
   "metadata": {
    "application/vnd.databricks.v1+cell": {
     "cellMetadata": {},
     "inputWidgets": {},
     "nuid": "795992f2-65b3-4da2-8c94-8d6bbfb4dd07",
     "showTitle": false,
     "title": ""
    }
   },
   "source": [
    "### drop issue cols"
   ]
  },
  {
   "cell_type": "code",
   "execution_count": 0,
   "metadata": {
    "application/vnd.databricks.v1+cell": {
     "cellMetadata": {
      "byteLimit": 2048000,
      "rowLimit": 10000
     },
     "inputWidgets": {},
     "nuid": "8fd1f5e2-2bc5-4d2e-b96b-d435495fb446",
     "showTitle": false,
     "title": ""
    }
   },
   "outputs": [],
   "source": [
    "master_issues = master_issues.drop('issue_labels', 'issue_pull_request', 'issue_milestone', 'issue_performed_via_github_app', 'issue_reactions', 'issue_assignees', 'issue_user', 'issue_active_lock_reason')\n",
    "\n"
   ]
  },
  {
   "cell_type": "markdown",
   "metadata": {
    "application/vnd.databricks.v1+cell": {
     "cellMetadata": {
      "byteLimit": 2048000,
      "rowLimit": 10000
     },
     "inputWidgets": {},
     "nuid": "36064c58-c917-435c-8009-0f56c4292383",
     "showTitle": false,
     "title": ""
    }
   },
   "source": [
    "\n",
    "### Comments_master"
   ]
  },
  {
   "cell_type": "code",
   "execution_count": 0,
   "metadata": {
    "application/vnd.databricks.v1+cell": {
     "cellMetadata": {
      "byteLimit": 2048000,
      "rowLimit": 10000
     },
     "inputWidgets": {},
     "nuid": "ee5ffd4d-87d1-49d7-bc0f-c33985b511b4",
     "showTitle": false,
     "title": ""
    }
   },
   "outputs": [],
   "source": [
    "comments_master = df.filter(col('payload.comment').isNotNull())\n",
    "comments_master = rename_payload_cols(comments_master, 'comment')\n",
    "comments_master = add_index(comments_master, 'master_comment')"
   ]
  },
  {
   "cell_type": "markdown",
   "metadata": {
    "application/vnd.databricks.v1+cell": {
     "cellMetadata": {},
     "inputWidgets": {},
     "nuid": "aa98d3ae-e08a-423e-b885-b12e5d1fc798",
     "showTitle": false,
     "title": ""
    }
   },
   "source": [
    "### comments_user"
   ]
  },
  {
   "cell_type": "code",
   "execution_count": 0,
   "metadata": {
    "application/vnd.databricks.v1+cell": {
     "cellMetadata": {
      "byteLimit": 2048000,
      "rowLimit": 10000
     },
     "inputWidgets": {},
     "nuid": "ded8233b-92dc-481a-85c7-643ddc319844",
     "showTitle": false,
     "title": ""
    }
   },
   "outputs": [
    {
     "output_type": "execute_result",
     "data": {
      "text/plain": [
       "DataFrame[master_comment_id: int, event_id: string, type: string, comment__links: struct<html:struct<href:string>,pull_request:struct<href:string>,self:struct<href:string>>, comment_author_association: string, comment_body: string, comment_commit_id: string, comment_created_at: string, comment_diff_hunk: string, comment_html_url: string, comment_id: bigint, comment_in_reply_to_id: bigint, comment_issue_url: string, comment_line: bigint, comment_node_id: string, comment_original_commit_id: string, comment_original_line: bigint, comment_original_position: bigint, comment_original_start_line: bigint, comment_path: string, comment_performed_via_github_app: struct<created_at:string,description:string,events:array<string>,external_url:string,html_url:string,id:bigint,name:string,node_id:string,owner:struct<avatar_url:string,events_url:string,followers_url:string,following_url:string,gists_url:string,gravatar_id:string,html_url:string,id:bigint,login:string,node_id:string,organizations_url:string,received_events_url:string,repos_url:string,site_admin:boolean,starred_url:string,subscriptions_url:string,type:string,url:string>,permissions:struct<actions:string,administration:string,checks:string,codespace_metadata:string,contents:string,deployments:string,discussions:string,emails:string,followers:string,gists:string,issues:string,members:string,metadata:string,organization_administration:string,organization_packages:string,organization_projects:string,packages:string,pages:string,profile:string,pull_requests:string,pull_requests_comment_only_reviews:string,pull_requests_from_forks:string,repository_hooks:string,repository_projects:string,single_file:string,starring:string,statuses:string,workflows:string>,slug:string,updated_at:string>, comment_position: bigint, comment_pull_request_review_id: bigint, comment_pull_request_url: string, comment_reactions: struct<+1:bigint,-1:bigint,confused:bigint,eyes:bigint,heart:bigint,hooray:bigint,laugh:bigint,rocket:bigint,total_count:bigint,url:string>, comment_side: string, comment_start_line: bigint, comment_start_side: string, comment_updated_at: string, comment_url: string, users_id: int]"
      ]
     },
     "execution_count": 62,
     "metadata": {},
     "output_type": "execute_result"
    }
   ],
   "source": [
    "# Seperates Issues Users tables from the main issues table and joins to the master Users \n",
    "# and back to the comments_master table\n",
    "\n",
    "comment_users = comments_master.filter(col('comment_user').isNotNull())\n",
    "comment_users = subDF(comment_users, 'comment_user')\n",
    "\n",
    "comment_users = add_index(comment_users, 'user', master_users_count).withColumnRenamed('event_id', 'issue_event_id')\n",
    "\n",
    "\n",
    "# Linking the comment_users with the master user's table and addding new values to the count\n",
    "master_users = master_users.union(comment_users).drop_duplicates(subset = ['issue_assignee_id'])\n",
    "\n",
    "\n",
    "master_users_count = master_users.count()\n",
    "\n",
    "# linking user_issues with master_issues table and setting null values to 0 \n",
    "comments_master = (\n",
    "            comments_master.join(broadcast(master_users), comments_master.comment_user.id \n",
    "            == master_users.issue_assignee_id, how= 'left')\n",
    " )\n",
    "\n",
    "comments_master.cache()\n",
    "\n",
    "comments_master = comments_master.withColumnRenamed('user_id', 'users_id').drop(*master_users.columns, 'comment_user').fillna(0, subset = ['users_id'])\n",
    "\n",
    "comments_master.unpersist()\n"
   ]
  },
  {
   "cell_type": "markdown",
   "metadata": {
    "application/vnd.databricks.v1+cell": {
     "cellMetadata": {},
     "inputWidgets": {},
     "nuid": "9b846e28-9355-4979-ae7f-197829f37131",
     "showTitle": false,
     "title": ""
    }
   },
   "source": [
    "### comments_pvga"
   ]
  },
  {
   "cell_type": "code",
   "execution_count": 0,
   "metadata": {
    "application/vnd.databricks.v1+cell": {
     "cellMetadata": {
      "byteLimit": 2048000,
      "rowLimit": 10000
     },
     "inputWidgets": {},
     "nuid": "068f596e-4835-49df-ba1a-4c16fbb96718",
     "showTitle": false,
     "title": ""
    }
   },
   "outputs": [],
   "source": [
    "# comments \n",
    "comments_pvga = comments_master.filter(col('comment_performed_via_github_app').isNotNull())\n",
    "\n",
    "comments_pvga = subDFWithMasterID(comments_pvga, 'comment_performed_via_github_app', 'comment')\n",
    "\n",
    "# create pvga's owner tables and links that with pvga table\n",
    "comments_pvga_owner = comments_pvga.filter(col('comment_performed_via_github_app_owner').isNotNull())\n",
    "comments_pvga_owner = subDF(comments_pvga, 'comment_performed_via_github_app_owner')\n",
    "\n",
    "comments_pvga_owner = add_index(comments_pvga_owner, 'interm', master_users_count).withColumnRenamed('event_id', 'comment_pvga_event_id')\n",
    "\n",
    "master_users = master_users.union(comments_pvga_owner).drop_duplicates(subset = ['issue_assignee_id'])\n",
    "master_users_count = master_users.count()\n",
    "\n",
    "comments_pvga = (\n",
    "            master_users.join(broadcast(comments_pvga), comments_pvga.comment_performed_via_github_app_owner.id \n",
    "            == master_users.issue_assignee_id, how= 'right')\n",
    " )\n",
    "\n",
    "comments_pvga.cache()\n",
    "\n",
    "comments_pvga = comments_pvga.withColumnRenamed('user_id', 'owner_id').drop(*master_users.columns,'comment_performed_via_github_app_owner').fillna(0, subset= ['owner_id'])\n",
    "\n",
    "comments_pvga.unpersist()\n",
    "\n",
    "write_df_to_adls(comments_pvga, 10, 'master_comment_id', 'comments_pvga', overwrite= True)\n"
   ]
  },
  {
   "cell_type": "markdown",
   "metadata": {
    "application/vnd.databricks.v1+cell": {
     "cellMetadata": {},
     "inputWidgets": {},
     "nuid": "0f9c1860-b6d3-4437-bafd-be72a70ecbcd",
     "showTitle": false,
     "title": ""
    }
   },
   "source": [
    "### comments_pvga_permission"
   ]
  },
  {
   "cell_type": "code",
   "execution_count": 0,
   "metadata": {
    "application/vnd.databricks.v1+cell": {
     "cellMetadata": {
      "byteLimit": 2048000,
      "rowLimit": 10000
     },
     "inputWidgets": {},
     "nuid": "e22c3f3f-e0f0-4bcf-819f-c584974e27c7",
     "showTitle": false,
     "title": ""
    }
   },
   "outputs": [],
   "source": [
    "# doing pvga permissions for the comments table\n",
    "\n",
    "comments_pvga = add_index(comments_pvga, 'master_comments_pvga')\n",
    "\n",
    "comments_pvga_permissions = comments_pvga.filter(col('comment_performed_via_github_app_permissions').isNotNull())\n",
    "\n",
    "comments_pvga_permissions = subDFWithMasterID(comments_pvga_permissions, 'comment_performed_via_github_app_permissions', 'comments_pvga')\n",
    "\n",
    "# merging two permissions tables and setting up the count on permissions\n",
    "\n",
    "# Use these to srater the counts for the next thing ie) pvga in the pull_requests table \n",
    "\n",
    "comments_pvga = comments_pvga.drop('comment_performed_via_github_app_permissions')\n",
    "\n",
    "write_df_to_adls(comments_pvga_permissions, 1, 'master_comments_pvga_id', 'comments_pvga_permissions', overwrite= True)\n"
   ]
  },
  {
   "cell_type": "markdown",
   "metadata": {
    "application/vnd.databricks.v1+cell": {
     "cellMetadata": {},
     "inputWidgets": {},
     "nuid": "a1921441-01e8-4c53-9bf3-241661e612d3",
     "showTitle": false,
     "title": ""
    }
   },
   "source": [
    "### comments_pvga_events"
   ]
  },
  {
   "cell_type": "code",
   "execution_count": 0,
   "metadata": {
    "application/vnd.databricks.v1+cell": {
     "cellMetadata": {
      "byteLimit": 2048000,
      "rowLimit": 10000
     },
     "inputWidgets": {},
     "nuid": "352ddb50-e64c-4480-b953-84ae920f551b",
     "showTitle": false,
     "title": ""
    }
   },
   "outputs": [],
   "source": [
    "comments_pvga_events = comments_pvga.filter(size(col('comment_performed_via_github_app_events')) > 0)\n",
    "comments_pvga_events = comments_pvga_events.select('*', explode('comment_performed_via_github_app_events').alias('comment_pvga_events'))\n",
    "\n",
    "comments_pvga_events = comments_pvga_events.select('comment_pvga_events', 'master_comments_pvga_id')\n",
    "\n",
    "comments_pvga = comments_pvga.drop('comment_performed_via_github_app_events')\n",
    "\n",
    "\n",
    "write_df_to_adls(comments_pvga_events, 1, 'master_comments_pvga_id', 'comments_pvga_events', overwrite= True)\n",
    "\n",
    "\n",
    "write_df_to_adls(comments_pvga, 1, 'master_comments_pvga_id', 'comments_pvga', overwrite= True)\n",
    "\n"
   ]
  },
  {
   "cell_type": "markdown",
   "metadata": {
    "application/vnd.databricks.v1+cell": {
     "cellMetadata": {},
     "inputWidgets": {},
     "nuid": "aa7b3a15-8be8-4ec9-9127-24aabd06d100",
     "showTitle": false,
     "title": ""
    }
   },
   "source": [
    "### comments_links\n",
    "- creatig new cols out of nested column\n",
    "- dropping unnesscary columns"
   ]
  },
  {
   "cell_type": "code",
   "execution_count": 0,
   "metadata": {
    "application/vnd.databricks.v1+cell": {
     "cellMetadata": {
      "byteLimit": 2048000,
      "rowLimit": 10000
     },
     "inputWidgets": {},
     "nuid": "e6af6f3f-b3d7-4543-83a6-429a8928570c",
     "showTitle": false,
     "title": ""
    }
   },
   "outputs": [],
   "source": [
    "comments_master = (\n",
    "    comments_master.withColumn('comments_link_html', comments_master.comment__links.html.href).withColumn('comments_link_pull_request', comments_master.comment__links.pull_request.href).withColumn('comments_link_self', comments_master.comment__links.self.href).drop('comment__links')\n",
    "    )\n",
    "\n",
    "comments_master = comments_master.drop('comment_performed_via_github_app', 'comment_reactions')\n"
   ]
  },
  {
   "cell_type": "code",
   "execution_count": 0,
   "metadata": {
    "application/vnd.databricks.v1+cell": {
     "cellMetadata": {
      "byteLimit": 2048000,
      "rowLimit": 10000
     },
     "inputWidgets": {},
     "nuid": "7f554d56-17bb-49e5-ad74-603a6ba01f58",
     "showTitle": false,
     "title": ""
    }
   },
   "outputs": [],
   "source": []
  },
  {
   "cell_type": "markdown",
   "metadata": {
    "application/vnd.databricks.v1+cell": {
     "cellMetadata": {
      "byteLimit": 2048000,
      "rowLimit": 10000
     },
     "inputWidgets": {},
     "nuid": "e3fd7072-35c6-4da3-b67e-c1c590935300",
     "showTitle": false,
     "title": ""
    }
   },
   "source": [
    "\n",
    "### Pull Requests"
   ]
  },
  {
   "cell_type": "code",
   "execution_count": 0,
   "metadata": {
    "application/vnd.databricks.v1+cell": {
     "cellMetadata": {
      "byteLimit": 2048000,
      "rowLimit": 10000
     },
     "inputWidgets": {},
     "nuid": "e9e0e20e-1ca3-40ac-a408-b8a27277c846",
     "showTitle": false,
     "title": ""
    }
   },
   "outputs": [],
   "source": [
    "# pull request assignees and table creation with master_id\n",
    "\n",
    "master_pull_requests = df.filter(col('payload.pull_request').isNotNull())\n",
    "master_pull_requests = rename_payload_cols(master_pull_requests, 'pull_request')\n",
    "master_pull_requests = add_index(master_pull_requests, 'master_pull_request')\n",
    "\n"
   ]
  },
  {
   "cell_type": "markdown",
   "metadata": {
    "application/vnd.databricks.v1+cell": {
     "cellMetadata": {},
     "inputWidgets": {},
     "nuid": "b891eeb9-0529-433e-b802-417cd51ab58a",
     "showTitle": false,
     "title": ""
    }
   },
   "source": [
    "\n",
    "### pull_request_assignees"
   ]
  },
  {
   "cell_type": "code",
   "execution_count": 0,
   "metadata": {
    "application/vnd.databricks.v1+cell": {
     "cellMetadata": {
      "byteLimit": 2048000,
      "rowLimit": 10000
     },
     "inputWidgets": {},
     "nuid": "ba97c40f-3949-4c8a-927a-df997bce670f",
     "showTitle": false,
     "title": ""
    }
   },
   "outputs": [],
   "source": [
    "master_pull_requests = master_pull_requests.drop('pull_request_assignee')\n",
    "\n",
    "pull_request_assignees = master_pull_requests.filter(size(col('pull_request_assignees')) > 0).select('*', explode('pull_request_assignees').alias('pull_request_assignee'))\n",
    "\n",
    "pull_request_assignees = subDFWithMasterID(pull_request_assignees, 'pull_request_assignee', 'pull_request')\n",
    "\n",
    "pull_request_assignees = add_index(pull_request_assignees, 'user', master_users_count).withColumnRenamed('user_id', 'user_temp_id')\n",
    "\n",
    "pull_request_assignees_temp = pull_request_assignees.drop('master_pull_request_id')\n",
    "\n",
    "# Creating null value in the master_users dataframe\n",
    "\n",
    "master_users = master_users.union(pull_request_assignees_temp).drop_duplicates(subset = ['issue_assignee_id'])\n",
    "\n",
    "master_users_count = master_users.count()\n",
    "\n",
    "# pull_request_assignees = pull_request_assignees.withColumnRenamed('user_id', 'assignee_id').drop(*master_users.columns)\n",
    "\n",
    "pull_request_assignees = (\n",
    "            master_users.join(broadcast(pull_request_assignees), pull_request_assignees.pull_request_assignee_id\n",
    "            == master_users.issue_assignee_id, how= 'right'))\n",
    "\n",
    "pull_request_assignees.cache()\n",
    "\n",
    "pull_request_assignees = pull_request_assignees.withColumnRenamed('user_id', 'assignee_id').drop(*master_users.columns, *pull_request_assignees_temp.columns).fillna(0, subset = ['assignee_id'])\n",
    "\n",
    "pull_request_assignees.unpersist()\n",
    "\n",
    "# # now have issues_assignees table with master event_id from the issues table\n",
    "# # We have dropped all columns expect assinee id created for the master_users table and the master_issue_id\n",
    "\n",
    "\n",
    "write_df_to_adls(pull_request_assignees, 1, 'master_pull_request_id', 'pull_request_assignees', overwrite= True)\n"
   ]
  },
  {
   "cell_type": "markdown",
   "metadata": {
    "application/vnd.databricks.v1+cell": {
     "cellMetadata": {},
     "inputWidgets": {},
     "nuid": "e07aabda-63ec-4cfd-8610-75124e9054f9",
     "showTitle": false,
     "title": ""
    }
   },
   "source": [
    "\n",
    "### pull_request_users"
   ]
  },
  {
   "cell_type": "code",
   "execution_count": 0,
   "metadata": {
    "application/vnd.databricks.v1+cell": {
     "cellMetadata": {
      "byteLimit": 2048000,
      "rowLimit": 10000
     },
     "inputWidgets": {},
     "nuid": "ee85f257-9a06-4022-b94e-638fd5f66b4a",
     "showTitle": false,
     "title": ""
    }
   },
   "outputs": [
    {
     "output_type": "execute_result",
     "data": {
      "text/plain": [
       "DataFrame[master_pull_request_id: int, event_id: string, type: string, pull_request__links: struct<comments:struct<href:string>,commits:struct<href:string>,html:struct<href:string>,issue:struct<href:string>,review_comment:struct<href:string>,review_comments:struct<href:string>,self:struct<href:string>,statuses:struct<href:string>>, pull_request_active_lock_reason: string, pull_request_additions: bigint, pull_request_assignees: array<struct<avatar_url:string,events_url:string,followers_url:string,following_url:string,gists_url:string,gravatar_id:string,html_url:string,id:bigint,login:string,node_id:string,organizations_url:string,received_events_url:string,repos_url:string,site_admin:boolean,starred_url:string,subscriptions_url:string,type:string,url:string>>, pull_request_author_association: string, pull_request_auto_merge: struct<commit_message:string,commit_title:string,enabled_by:struct<avatar_url:string,events_url:string,followers_url:string,following_url:string,gists_url:string,gravatar_id:string,html_url:string,id:bigint,login:string,node_id:string,organizations_url:string,received_events_url:string,repos_url:string,site_admin:boolean,starred_url:string,subscriptions_url:string,type:string,url:string>,merge_method:string>, pull_request_base: struct<label:string,ref:string,repo:struct<allow_forking:boolean,archive_url:string,archived:boolean,assignees_url:string,blobs_url:string,branches_url:string,clone_url:string,collaborators_url:string,comments_url:string,commits_url:string,compare_url:string,contents_url:string,contributors_url:string,created_at:string,default_branch:string,deployments_url:string,description:string,disabled:boolean,downloads_url:string,events_url:string,fork:boolean,forks:bigint,forks_count:bigint,forks_url:string,full_name:string,git_commits_url:string,git_refs_url:string,git_tags_url:string,git_url:string,has_downloads:boolean,has_issues:boolean,has_pages:boolean,has_projects:boolean,has_wiki:boolean,homepage:string,hooks_url:string,html_url:string,id:bigint,is_template:boolean,issue_comment_url:string,issue_events_url:string,issues_url:string,keys_url:string,labels_url:string,language:string,languages_url:string,license:struct<key:string,name:string,node_id:string,spdx_id:string,url:string>,merges_url:string,milestones_url:string,mirror_url:string,name:string,node_id:string,notifications_url:string,open_issues:bigint,open_issues_count:bigint,owner:struct<avatar_url:string,events_url:string,followers_url:string,following_url:string,gists_url:string,gravatar_id:string,html_url:string,id:bigint,login:string,node_id:string,organizations_url:string,received_events_url:string,repos_url:string,site_admin:boolean,starred_url:string,subscriptions_url:string,type:string,url:string>,private:boolean,pulls_url:string,pushed_at:string,releases_url:string,size:bigint,ssh_url:string,stargazers_count:bigint,stargazers_url:string,statuses_url:string,subscribers_url:string,subscription_url:string,svn_url:string,tags_url:string,teams_url:string,topics:array<string>,trees_url:string,updated_at:string,url:string,visibility:string,watchers:bigint,watchers_count:bigint>,sha:string,user:struct<avatar_url:string,events_url:string,followers_url:string,following_url:string,gists_url:string,gravatar_id:string,html_url:string,id:bigint,login:string,node_id:string,organizations_url:string,received_events_url:string,repos_url:string,site_admin:boolean,starred_url:string,subscriptions_url:string,type:string,url:string>>, pull_request_body: string, pull_request_changed_files: bigint, pull_request_closed_at: string, pull_request_comments: bigint, pull_request_comments_url: string, pull_request_commits: bigint, pull_request_commits_url: string, pull_request_created_at: string, pull_request_deletions: bigint, pull_request_diff_url: string, pull_request_draft: boolean, pull_request_head: struct<label:string,ref:string,repo:struct<allow_forking:boolean,archive_url:string,archived:boolean,assignees_url:string,blobs_url:string,branches_url:string,clone_url:string,collaborators_url:string,comments_url:string,commits_url:string,compare_url:string,contents_url:string,contributors_url:string,created_at:string,default_branch:string,deployments_url:string,description:string,disabled:boolean,downloads_url:string,events_url:string,fork:boolean,forks:bigint,forks_count:bigint,forks_url:string,full_name:string,git_commits_url:string,git_refs_url:string,git_tags_url:string,git_url:string,has_downloads:boolean,has_issues:boolean,has_pages:boolean,has_projects:boolean,has_wiki:boolean,homepage:string,hooks_url:string,html_url:string,id:bigint,is_template:boolean,issue_comment_url:string,issue_events_url:string,issues_url:string,keys_url:string,labels_url:string,language:string,languages_url:string,license:struct<key:string,name:string,node_id:string,spdx_id:string,url:string>,merges_url:string,milestones_url:string,mirror_url:string,name:string,node_id:string,notifications_url:string,open_issues:bigint,open_issues_count:bigint,owner:struct<avatar_url:string,events_url:string,followers_url:string,following_url:string,gists_url:string,gravatar_id:string,html_url:string,id:bigint,login:string,node_id:string,organizations_url:string,received_events_url:string,repos_url:string,site_admin:boolean,starred_url:string,subscriptions_url:string,type:string,url:string>,private:boolean,pulls_url:string,pushed_at:string,releases_url:string,size:bigint,ssh_url:string,stargazers_count:bigint,stargazers_url:string,statuses_url:string,subscribers_url:string,subscription_url:string,svn_url:string,tags_url:string,teams_url:string,topics:array<string>,trees_url:string,updated_at:string,url:string,visibility:string,watchers:bigint,watchers_count:bigint>,sha:string,user:struct<avatar_url:string,events_url:string,followers_url:string,following_url:string,gists_url:string,gravatar_id:string,html_url:string,id:bigint,login:string,node_id:string,organizations_url:string,received_events_url:string,repos_url:string,site_admin:boolean,starred_url:string,subscriptions_url:string,type:string,url:string>>, pull_request_html_url: string, pull_request_id: bigint, pull_request_issue_url: string, pull_request_labels: array<struct<color:string,default:boolean,description:string,id:bigint,name:string,node_id:string,url:string>>, pull_request_locked: boolean, pull_request_maintainer_can_modify: boolean, pull_request_merge_commit_sha: string, pull_request_mergeable: boolean, pull_request_mergeable_state: string, pull_request_merged: boolean, pull_request_merged_at: string, pull_request_merged_by: struct<avatar_url:string,events_url:string,followers_url:string,following_url:string,gists_url:string,gravatar_id:string,html_url:string,id:bigint,login:string,node_id:string,organizations_url:string,received_events_url:string,repos_url:string,site_admin:boolean,starred_url:string,subscriptions_url:string,type:string,url:string>, pull_request_milestone: struct<closed_at:string,closed_issues:bigint,created_at:string,creator:struct<avatar_url:string,events_url:string,followers_url:string,following_url:string,gists_url:string,gravatar_id:string,html_url:string,id:bigint,login:string,node_id:string,organizations_url:string,received_events_url:string,repos_url:string,site_admin:boolean,starred_url:string,subscriptions_url:string,type:string,url:string>,description:string,due_on:string,html_url:string,id:bigint,labels_url:string,node_id:string,number:bigint,open_issues:bigint,state:string,title:string,updated_at:string,url:string>, pull_request_node_id: string, pull_request_number: bigint, pull_request_patch_url: string, pull_request_rebaseable: boolean, pull_request_requested_reviewers: array<struct<avatar_url:string,events_url:string,followers_url:string,following_url:string,gists_url:string,gravatar_id:string,html_url:string,id:bigint,login:string,node_id:string,organizations_url:string,received_events_url:string,repos_url:string,site_admin:boolean,starred_url:string,subscriptions_url:string,type:string,url:string>>, pull_request_requested_teams: array<struct<description:string,html_url:string,id:bigint,members_url:string,name:string,node_id:string,parent:struct<description:string,html_url:string,id:bigint,members_url:string,name:string,node_id:string,permission:string,privacy:string,repositories_url:string,slug:string,url:string>,permission:string,privacy:string,repositories_url:string,slug:string,url:string>>, pull_request_review_comment_url: string, pull_request_review_comments: bigint, pull_request_review_comments_url: string, pull_request_state: string, pull_request_statuses_url: string, pull_request_title: string, pull_request_updated_at: string, pull_request_url: string, users_id: int]"
      ]
     },
     "execution_count": 70,
     "metadata": {},
     "output_type": "execute_result"
    }
   ],
   "source": [
    "# pull request users\n",
    "\n",
    "pull_request_users = master_pull_requests.filter(col('pull_request_user').isNotNull())\n",
    "pull_request_users = subDF(pull_request_users, 'pull_request_user')\n",
    "\n",
    "pull_request_users = add_index(pull_request_users, 'user', master_users_count).withColumnRenamed('event_id', 'pr_event_id')\n",
    "\n",
    "# Linking the pull_request_users with the master user's table and addding new values to the count\n",
    "master_users = master_users.union(pull_request_users).drop_duplicates(subset = ['issue_assignee_id'])\n",
    "master_users_count = master_users.count()\n",
    "\n",
    "# linking user_issues with master_issues table and setting null values to 0 \n",
    "master_pull_request = (\n",
    "            master_pull_requests.join(master_users, master_pull_requests.pull_request_user.id \n",
    "            == master_users.issue_assignee_id, how= 'left')\n",
    " )\n",
    "\n",
    "master_pull_request.cache()\n",
    "\n",
    "master_pull_request = master_pull_request.withColumnRenamed('user_id', 'users_id').drop(*master_users.columns,'pull_request_user').fillna(0, subset = ['users_id'])\n",
    "\n",
    "master_pull_request.unpersist()"
   ]
  },
  {
   "cell_type": "markdown",
   "metadata": {
    "application/vnd.databricks.v1+cell": {
     "cellMetadata": {},
     "inputWidgets": {},
     "nuid": "85362418-800f-44e2-8aae-43a7a1742d31",
     "showTitle": false,
     "title": ""
    }
   },
   "source": [
    "\n",
    "### pull_request_merged_by\n",
    "- master_user table logic"
   ]
  },
  {
   "cell_type": "code",
   "execution_count": 0,
   "metadata": {
    "application/vnd.databricks.v1+cell": {
     "cellMetadata": {
      "byteLimit": 2048000,
      "rowLimit": 10000
     },
     "inputWidgets": {},
     "nuid": "821c9186-5202-4bee-88b5-b6e98c8a4793",
     "showTitle": false,
     "title": ""
    }
   },
   "outputs": [
    {
     "output_type": "execute_result",
     "data": {
      "text/plain": [
       "DataFrame[master_pull_request_id: int, event_id: string, type: string, pull_request__links: struct<comments:struct<href:string>,commits:struct<href:string>,html:struct<href:string>,issue:struct<href:string>,review_comment:struct<href:string>,review_comments:struct<href:string>,self:struct<href:string>,statuses:struct<href:string>>, pull_request_active_lock_reason: string, pull_request_additions: bigint, pull_request_assignees: array<struct<avatar_url:string,events_url:string,followers_url:string,following_url:string,gists_url:string,gravatar_id:string,html_url:string,id:bigint,login:string,node_id:string,organizations_url:string,received_events_url:string,repos_url:string,site_admin:boolean,starred_url:string,subscriptions_url:string,type:string,url:string>>, pull_request_author_association: string, pull_request_auto_merge: struct<commit_message:string,commit_title:string,enabled_by:struct<avatar_url:string,events_url:string,followers_url:string,following_url:string,gists_url:string,gravatar_id:string,html_url:string,id:bigint,login:string,node_id:string,organizations_url:string,received_events_url:string,repos_url:string,site_admin:boolean,starred_url:string,subscriptions_url:string,type:string,url:string>,merge_method:string>, pull_request_base: struct<label:string,ref:string,repo:struct<allow_forking:boolean,archive_url:string,archived:boolean,assignees_url:string,blobs_url:string,branches_url:string,clone_url:string,collaborators_url:string,comments_url:string,commits_url:string,compare_url:string,contents_url:string,contributors_url:string,created_at:string,default_branch:string,deployments_url:string,description:string,disabled:boolean,downloads_url:string,events_url:string,fork:boolean,forks:bigint,forks_count:bigint,forks_url:string,full_name:string,git_commits_url:string,git_refs_url:string,git_tags_url:string,git_url:string,has_downloads:boolean,has_issues:boolean,has_pages:boolean,has_projects:boolean,has_wiki:boolean,homepage:string,hooks_url:string,html_url:string,id:bigint,is_template:boolean,issue_comment_url:string,issue_events_url:string,issues_url:string,keys_url:string,labels_url:string,language:string,languages_url:string,license:struct<key:string,name:string,node_id:string,spdx_id:string,url:string>,merges_url:string,milestones_url:string,mirror_url:string,name:string,node_id:string,notifications_url:string,open_issues:bigint,open_issues_count:bigint,owner:struct<avatar_url:string,events_url:string,followers_url:string,following_url:string,gists_url:string,gravatar_id:string,html_url:string,id:bigint,login:string,node_id:string,organizations_url:string,received_events_url:string,repos_url:string,site_admin:boolean,starred_url:string,subscriptions_url:string,type:string,url:string>,private:boolean,pulls_url:string,pushed_at:string,releases_url:string,size:bigint,ssh_url:string,stargazers_count:bigint,stargazers_url:string,statuses_url:string,subscribers_url:string,subscription_url:string,svn_url:string,tags_url:string,teams_url:string,topics:array<string>,trees_url:string,updated_at:string,url:string,visibility:string,watchers:bigint,watchers_count:bigint>,sha:string,user:struct<avatar_url:string,events_url:string,followers_url:string,following_url:string,gists_url:string,gravatar_id:string,html_url:string,id:bigint,login:string,node_id:string,organizations_url:string,received_events_url:string,repos_url:string,site_admin:boolean,starred_url:string,subscriptions_url:string,type:string,url:string>>, pull_request_body: string, pull_request_changed_files: bigint, pull_request_closed_at: string, pull_request_comments: bigint, pull_request_comments_url: string, pull_request_commits: bigint, pull_request_commits_url: string, pull_request_created_at: string, pull_request_deletions: bigint, pull_request_diff_url: string, pull_request_draft: boolean, pull_request_head: struct<label:string,ref:string,repo:struct<allow_forking:boolean,archive_url:string,archived:boolean,assignees_url:string,blobs_url:string,branches_url:string,clone_url:string,collaborators_url:string,comments_url:string,commits_url:string,compare_url:string,contents_url:string,contributors_url:string,created_at:string,default_branch:string,deployments_url:string,description:string,disabled:boolean,downloads_url:string,events_url:string,fork:boolean,forks:bigint,forks_count:bigint,forks_url:string,full_name:string,git_commits_url:string,git_refs_url:string,git_tags_url:string,git_url:string,has_downloads:boolean,has_issues:boolean,has_pages:boolean,has_projects:boolean,has_wiki:boolean,homepage:string,hooks_url:string,html_url:string,id:bigint,is_template:boolean,issue_comment_url:string,issue_events_url:string,issues_url:string,keys_url:string,labels_url:string,language:string,languages_url:string,license:struct<key:string,name:string,node_id:string,spdx_id:string,url:string>,merges_url:string,milestones_url:string,mirror_url:string,name:string,node_id:string,notifications_url:string,open_issues:bigint,open_issues_count:bigint,owner:struct<avatar_url:string,events_url:string,followers_url:string,following_url:string,gists_url:string,gravatar_id:string,html_url:string,id:bigint,login:string,node_id:string,organizations_url:string,received_events_url:string,repos_url:string,site_admin:boolean,starred_url:string,subscriptions_url:string,type:string,url:string>,private:boolean,pulls_url:string,pushed_at:string,releases_url:string,size:bigint,ssh_url:string,stargazers_count:bigint,stargazers_url:string,statuses_url:string,subscribers_url:string,subscription_url:string,svn_url:string,tags_url:string,teams_url:string,topics:array<string>,trees_url:string,updated_at:string,url:string,visibility:string,watchers:bigint,watchers_count:bigint>,sha:string,user:struct<avatar_url:string,events_url:string,followers_url:string,following_url:string,gists_url:string,gravatar_id:string,html_url:string,id:bigint,login:string,node_id:string,organizations_url:string,received_events_url:string,repos_url:string,site_admin:boolean,starred_url:string,subscriptions_url:string,type:string,url:string>>, pull_request_html_url: string, pull_request_id: bigint, pull_request_issue_url: string, pull_request_labels: array<struct<color:string,default:boolean,description:string,id:bigint,name:string,node_id:string,url:string>>, pull_request_locked: boolean, pull_request_maintainer_can_modify: boolean, pull_request_merge_commit_sha: string, pull_request_mergeable: boolean, pull_request_mergeable_state: string, pull_request_merged: boolean, pull_request_merged_at: string, pull_request_milestone: struct<closed_at:string,closed_issues:bigint,created_at:string,creator:struct<avatar_url:string,events_url:string,followers_url:string,following_url:string,gists_url:string,gravatar_id:string,html_url:string,id:bigint,login:string,node_id:string,organizations_url:string,received_events_url:string,repos_url:string,site_admin:boolean,starred_url:string,subscriptions_url:string,type:string,url:string>,description:string,due_on:string,html_url:string,id:bigint,labels_url:string,node_id:string,number:bigint,open_issues:bigint,state:string,title:string,updated_at:string,url:string>, pull_request_node_id: string, pull_request_number: bigint, pull_request_patch_url: string, pull_request_rebaseable: boolean, pull_request_requested_reviewers: array<struct<avatar_url:string,events_url:string,followers_url:string,following_url:string,gists_url:string,gravatar_id:string,html_url:string,id:bigint,login:string,node_id:string,organizations_url:string,received_events_url:string,repos_url:string,site_admin:boolean,starred_url:string,subscriptions_url:string,type:string,url:string>>, pull_request_requested_teams: array<struct<description:string,html_url:string,id:bigint,members_url:string,name:string,node_id:string,parent:struct<description:string,html_url:string,id:bigint,members_url:string,name:string,node_id:string,permission:string,privacy:string,repositories_url:string,slug:string,url:string>,permission:string,privacy:string,repositories_url:string,slug:string,url:string>>, pull_request_review_comment_url: string, pull_request_review_comments: bigint, pull_request_review_comments_url: string, pull_request_state: string, pull_request_statuses_url: string, pull_request_title: string, pull_request_updated_at: string, pull_request_url: string, pull_request_user: struct<avatar_url:string,events_url:string,followers_url:string,following_url:string,gists_url:string,gravatar_id:string,html_url:string,id:bigint,login:string,node_id:string,organizations_url:string,received_events_url:string,repos_url:string,site_admin:boolean,starred_url:string,subscriptions_url:string,type:string,url:string>, merged_by_id: int]"
      ]
     },
     "execution_count": 71,
     "metadata": {},
     "output_type": "execute_result"
    }
   ],
   "source": [
    "# pull request merged by logic \n",
    "\n",
    "pull_request_merged_by = master_pull_requests.filter(col('pull_request_merged_by').isNotNull())\n",
    "pull_request_merged_by = subDF(pull_request_merged_by, 'pull_request_merged_by')\n",
    "\n",
    "pull_request_merged_by = add_index(pull_request_merged_by, 'user', master_users_count).withColumnRenamed('event_id', 'pr_event_id')\n",
    "\n",
    "# Linking the pull_request_merged_by with the master user's table and addding new values to the count\n",
    "master_users = master_users.union(pull_request_merged_by).drop_duplicates(subset = ['issue_assignee_id'])\n",
    "master_users_count = master_users.count()\n",
    "\n",
    "# linking user_issues with master_issues table and setting null values to 0 \n",
    "master_pull_requests = (\n",
    "            master_pull_requests.join(master_users, master_pull_requests.pull_request_merged_by.id \n",
    "            == master_users.issue_assignee_id, how= 'left')\n",
    " )\n",
    "\n",
    "master_pull_requests.cache()\n",
    "master_pull_requests = master_pull_requests.withColumnRenamed('user_id', 'merged_by_id').drop(*master_users.columns,'pull_request_merged_by').fillna(0, subset = ['merged_by_id'])\n",
    "master_pull_requests.unpersist()\n"
   ]
  },
  {
   "cell_type": "markdown",
   "metadata": {
    "application/vnd.databricks.v1+cell": {
     "cellMetadata": {},
     "inputWidgets": {},
     "nuid": "8f1b5501-e15f-4080-b359-6789a2d79b99",
     "showTitle": false,
     "title": ""
    }
   },
   "source": [
    "\n",
    "### pull_request_milestone"
   ]
  },
  {
   "cell_type": "code",
   "execution_count": 0,
   "metadata": {
    "application/vnd.databricks.v1+cell": {
     "cellMetadata": {
      "byteLimit": 2048000,
      "rowLimit": 10000
     },
     "inputWidgets": {},
     "nuid": "18280d1b-9bfa-493e-9fe8-4c1bfb11269a",
     "showTitle": false,
     "title": ""
    }
   },
   "outputs": [],
   "source": [
    "# new milestone logic for issues\n",
    "\n",
    "\n",
    "\n",
    "pull_request_milestone = master_pull_requests.filter(col('pull_request_milestone').isNotNull())\n",
    "pull_request_milestone = subDFWithMasterID(pull_request_milestone, 'pull_request_milestone', 'pull_request')\n",
    "# pull_request_milestone = pull_request_milestone.withColumn('issue_milestone_id', lit(0))\n",
    "\n",
    "# create milestone's creator tables and links that with milestone table\n",
    "pull_request_milestone_creator = pull_request_milestone.filter(col('pull_request_milestone_creator').isNotNull())\n",
    "pull_request_milestone_creator = subDF(pull_request_milestone, 'pull_request_milestone_creator')\n",
    "\n",
    "pull_request_milestone_creator = add_index(pull_request_milestone_creator, 'interm', master_users_count).withColumnRenamed('event_id', 'pr_milestone_event_id')\n",
    "\n",
    "master_users = master_users.union(pull_request_milestone_creator).drop_duplicates(subset = ['issue_assignee_id'])\n",
    "master_users_count = master_users.count()\n",
    "\n",
    "pull_request_milestone = (\n",
    "            master_users.join(broadcast(pull_request_milestone), pull_request_milestone.pull_request_milestone_creator.id \n",
    "            == master_users.issue_assignee_id, how= 'right')\n",
    " )\n",
    "pull_request_milestone.cache()\n",
    "\n",
    "pull_request_milestone = pull_request_milestone.withColumnRenamed('user_id', 'creator_id').drop(*master_users.columns,'pull_request_milestone_creator').fillna(0, subset = ['creator_id'])\n",
    "\n",
    "pull_request_milestone.unpersist()\n",
    "\n",
    "\n",
    "write_df_to_adls(pull_request_milestone, 1, 'master_pull_request_id', 'pull_request_milestone', overwrite= True)\n",
    "\n",
    "\n"
   ]
  },
  {
   "cell_type": "markdown",
   "metadata": {
    "application/vnd.databricks.v1+cell": {
     "cellMetadata": {},
     "inputWidgets": {},
     "nuid": "6ea9d3d8-8902-4b9f-98db-25f099a4c646",
     "showTitle": false,
     "title": ""
    }
   },
   "source": [
    "\n",
    "### pull_request_labels"
   ]
  },
  {
   "cell_type": "code",
   "execution_count": 0,
   "metadata": {
    "application/vnd.databricks.v1+cell": {
     "cellMetadata": {
      "byteLimit": 2048000,
      "rowLimit": 10000
     },
     "inputWidgets": {},
     "nuid": "dee6717a-eff4-4b7d-a9b1-62744b5a0931",
     "showTitle": false,
     "title": ""
    }
   },
   "outputs": [],
   "source": [
    "# labels logic for pull_request_labels\n",
    "\n",
    "pull_request_labels = master_pull_requests.filter(size(col('pull_request_labels')) > 0).select('*', explode('pull_request_labels').alias('pull_request_label'))\n",
    "\n",
    "\n",
    "\n",
    "pull_request_labels = subDFWithMasterID(pull_request_labels, 'pull_request_label', 'pull_request')\n",
    "\n",
    "write_df_to_adls(pull_request_labels, 10, 'master_pull_request_id', 'pull_request_labels', overwrite= True)\n",
    "\n"
   ]
  },
  {
   "cell_type": "markdown",
   "metadata": {
    "application/vnd.databricks.v1+cell": {
     "cellMetadata": {},
     "inputWidgets": {},
     "nuid": "cf59f2b5-a7b5-4273-87af-e12e40d8a51e",
     "showTitle": false,
     "title": ""
    }
   },
   "source": [
    "\n",
    "### pull_request_requested_reviewers"
   ]
  },
  {
   "cell_type": "code",
   "execution_count": 0,
   "metadata": {
    "application/vnd.databricks.v1+cell": {
     "cellMetadata": {
      "byteLimit": 2048000,
      "rowLimit": 10000
     },
     "inputWidgets": {},
     "nuid": "02fcbd6e-4f30-4e0e-b7e3-718dd3e47165",
     "showTitle": false,
     "title": ""
    }
   },
   "outputs": [],
   "source": [
    "\n",
    "# master_pull_requests = master_pull_requests.drop('requested_reviewer')\n",
    "\n",
    "pull_request_requested_reviewers = master_pull_requests.filter(size(col('pull_request_requested_reviewers')) > 0).select('*', explode('pull_request_requested_reviewers').alias('pull_request_requested_reviewer'))\n",
    "\n",
    "pull_request_requested_reviewers = subDFWithMasterID(pull_request_requested_reviewers, 'pull_request_requested_reviewer', 'pull_request')\n",
    "\n",
    "\n",
    "pull_request_requested_reviewers = add_index(pull_request_requested_reviewers, 'user', master_users_count).withColumnRenamed('user_id', 'user_temp_id')\n",
    "\n",
    "pull_request_requested_reviewers_temp = pull_request_requested_reviewers.drop('master_pull_request_id')\n",
    "\n",
    "master_users = master_users.union(pull_request_requested_reviewers_temp).drop_duplicates(subset = ['issue_assignee_id'])\n",
    "\n",
    "master_users_count = master_users.count()\n",
    "\n",
    "pull_request_requested_reviewers = (\n",
    "            master_users.join(broadcast(pull_request_requested_reviewers), pull_request_requested_reviewers.pull_request_requested_reviewer_id == master_users.issue_assignee_id, how= 'right')\n",
    ")\n",
    "\n",
    "pull_request_requested_reviewers.cache()\n",
    "\n",
    "pull_request_requested_reviewers = pull_request_requested_reviewers.withColumnRenamed('user_id', 'requested_reviewer_id').drop(*master_users.columns, *pull_request_requested_reviewers_temp.columns).fillna(0, subset = ['requested_reviewer_id'])\n",
    "\n",
    "pull_request_requested_reviewers.unpersist()\n",
    "\n",
    "write_df_to_adls(pull_request_requested_reviewers, 4, 'master_pull_request_id', 'pull_request_requested_reviewers', overwrite= True)\n",
    "\n"
   ]
  },
  {
   "cell_type": "markdown",
   "metadata": {
    "application/vnd.databricks.v1+cell": {
     "cellMetadata": {},
     "inputWidgets": {},
     "nuid": "23cd77a5-f372-49b3-aab8-3ff7b6f3f0db",
     "showTitle": false,
     "title": ""
    }
   },
   "source": [
    "\n",
    "### pull_request_links \n",
    "- renaming columns from the nested link structure"
   ]
  },
  {
   "cell_type": "code",
   "execution_count": 0,
   "metadata": {
    "application/vnd.databricks.v1+cell": {
     "cellMetadata": {
      "byteLimit": 2048000,
      "rowLimit": 10000
     },
     "inputWidgets": {},
     "nuid": "d3f6bd91-2086-4281-bbd2-72b5ad1de16d",
     "showTitle": false,
     "title": ""
    }
   },
   "outputs": [],
   "source": [
    "# dealing with the links \n",
    "\n",
    "master_pull_requests = (\n",
    "    master_pull_requests.withColumn('pull_request_link_comments', col('pull_request__links.comments.href'))\n",
    "    .withColumn('pull_request_link_commits', col('pull_request__links.commits.href'))\n",
    "    .withColumn('pull_request_link_html', col('pull_request__links.html.href'))\n",
    "    .withColumn('pull_request_link_issue', col('pull_request__links.issue.href'))\n",
    "    .withColumn('pull_request_link_review_comment', col('pull_request__links.review_comment.href'))\n",
    "    .withColumn('pull_request_link_review', col('pull_request__links.review_comments.href'))\n",
    "    .withColumn('pull_request_link_self', col('pull_request__links.self.href'))\n",
    "    .withColumn('pull_request_link_statuses', col('pull_request__links.statuses.href')).drop('pull_request__links')\n",
    ")"
   ]
  },
  {
   "cell_type": "markdown",
   "metadata": {
    "application/vnd.databricks.v1+cell": {
     "cellMetadata": {},
     "inputWidgets": {},
     "nuid": "580a16b5-1977-4664-863b-b588f3a26f63",
     "showTitle": false,
     "title": ""
    }
   },
   "source": [
    "\n",
    "### pull_request_auto_merge"
   ]
  },
  {
   "cell_type": "code",
   "execution_count": 0,
   "metadata": {
    "application/vnd.databricks.v1+cell": {
     "cellMetadata": {
      "byteLimit": 2048000,
      "rowLimit": 10000
     },
     "inputWidgets": {},
     "nuid": "6158a080-ec8e-4185-9c09-d939ee6b6f01",
     "showTitle": false,
     "title": ""
    }
   },
   "outputs": [],
   "source": [
    "# auto merge \n",
    "\n",
    "pull_request_auto_merge = master_pull_requests.filter(col('pull_request_auto_merge').isNotNull())\n",
    "pull_request_auto_merge = subDFWithMasterID(pull_request_auto_merge, 'pull_request_auto_merge', 'pull_request')\n",
    "# pull_request_auto_merge = pull_request_auto_merge.withColumn('issue_milestone_id', lit(0))\n",
    "\n",
    "\n",
    "\n",
    "# create milestone's creator tables and links that with milestone table\n",
    "pull_request_auto_merge_enabled_by = pull_request_auto_merge.filter(col('pull_request_auto_merge_enabled_by').isNotNull())\n",
    "pull_request_auto_merge_enabled_by = subDF(pull_request_auto_merge, 'pull_request_auto_merge_enabled_by')\n",
    "\n",
    "pull_request_auto_merge_enabled_by = add_index(pull_request_auto_merge_enabled_by, 'interm', master_users_count).withColumnRenamed('event_id', 'pr_am_event_id')\n",
    "\n",
    "\n",
    "\n",
    "master_users = master_users.union(pull_request_auto_merge_enabled_by).drop_duplicates(subset = ['issue_assignee_id'])\n",
    "master_users_count = master_users.count()\n",
    "\n",
    "\n",
    "\n",
    "\n",
    "pull_request_auto_merge = (\n",
    "            pull_request_auto_merge.join(broadcast(master_users), pull_request_auto_merge.pull_request_auto_merge_enabled_by.id == master_users.issue_assignee_id, how= 'right')\n",
    " )\n",
    "pull_request_auto_merge.cache()\n",
    "\n",
    "pull_request_auto_merge= pull_request_auto_merge.withColumnRenamed('user_id', 'enabled_by_id').drop(*master_users.columns,'pull_request_auto_merge_enabled_by').fillna(0, subset = ['enabled_by_id'])\n",
    "\n",
    "pull_request_auto_merge.unpersist()\n",
    "\n",
    "write_df_to_adls(pull_request_auto_merge, 10, 'master_pull_request_id', 'pull_request_auto_merge', overwrite= True)\n",
    "\n",
    "\n"
   ]
  },
  {
   "cell_type": "markdown",
   "metadata": {
    "application/vnd.databricks.v1+cell": {
     "cellMetadata": {},
     "inputWidgets": {},
     "nuid": "c40ffba4-94bf-488f-8370-d9e8bbc09b99",
     "showTitle": false,
     "title": ""
    }
   },
   "source": [
    "\n",
    "### pull_request_base"
   ]
  },
  {
   "cell_type": "code",
   "execution_count": 0,
   "metadata": {
    "application/vnd.databricks.v1+cell": {
     "cellMetadata": {
      "byteLimit": 2048000,
      "rowLimit": 10000
     },
     "inputWidgets": {},
     "nuid": "8b64cc3d-ffcb-4ee3-9c39-3170030224e5",
     "showTitle": false,
     "title": ""
    }
   },
   "outputs": [],
   "source": [
    "pull_request_base = master_pull_requests.filter(col('pull_request_base').isNotNull())\n",
    "pull_request_base = subDFWithMasterID(pull_request_base, 'pull_request_base', 'pull_request')\n",
    "\n",
    "pull_request_base = add_index(pull_request_base, 'master_pull_request_base')\n",
    "\n",
    "\n"
   ]
  },
  {
   "cell_type": "markdown",
   "metadata": {
    "application/vnd.databricks.v1+cell": {
     "cellMetadata": {},
     "inputWidgets": {},
     "nuid": "66e2dfb0-752d-40f0-b971-4b42fce948b5",
     "showTitle": false,
     "title": ""
    }
   },
   "source": [
    "\n",
    "### pull_request_base_repo"
   ]
  },
  {
   "cell_type": "code",
   "execution_count": 0,
   "metadata": {
    "application/vnd.databricks.v1+cell": {
     "cellMetadata": {
      "byteLimit": 2048000,
      "rowLimit": 10000
     },
     "inputWidgets": {},
     "nuid": "573c7b6f-cae7-41e4-892c-05d4eb0023aa",
     "showTitle": false,
     "title": ""
    }
   },
   "outputs": [
    {
     "output_type": "execute_result",
     "data": {
      "text/plain": [
       "DataFrame[owner_id: int, master_pull_request_repo_base_id: int, event_id: string, master_pull_request_base_id: int, pull_request_base_repo_allow_forking: boolean, pull_request_base_repo_archive_url: string, pull_request_base_repo_archived: boolean, pull_request_base_repo_assignees_url: string, pull_request_base_repo_blobs_url: string, pull_request_base_repo_branches_url: string, pull_request_base_repo_clone_url: string, pull_request_base_repo_collaborators_url: string, pull_request_base_repo_comments_url: string, pull_request_base_repo_commits_url: string, pull_request_base_repo_compare_url: string, pull_request_base_repo_contents_url: string, pull_request_base_repo_contributors_url: string, pull_request_base_repo_created_at: string, pull_request_base_repo_default_branch: string, pull_request_base_repo_deployments_url: string, pull_request_base_repo_description: string, pull_request_base_repo_disabled: boolean, pull_request_base_repo_downloads_url: string, pull_request_base_repo_events_url: string, pull_request_base_repo_fork: boolean, pull_request_base_repo_forks: bigint, pull_request_base_repo_forks_count: bigint, pull_request_base_repo_forks_url: string, pull_request_base_repo_full_name: string, pull_request_base_repo_git_commits_url: string, pull_request_base_repo_git_refs_url: string, pull_request_base_repo_git_tags_url: string, pull_request_base_repo_git_url: string, pull_request_base_repo_has_downloads: boolean, pull_request_base_repo_has_issues: boolean, pull_request_base_repo_has_pages: boolean, pull_request_base_repo_has_projects: boolean, pull_request_base_repo_has_wiki: boolean, pull_request_base_repo_homepage: string, pull_request_base_repo_hooks_url: string, pull_request_base_repo_html_url: string, pull_request_base_repo_id: bigint, pull_request_base_repo_is_template: boolean, pull_request_base_repo_issue_comment_url: string, pull_request_base_repo_issue_events_url: string, pull_request_base_repo_issues_url: string, pull_request_base_repo_keys_url: string, pull_request_base_repo_labels_url: string, pull_request_base_repo_language: string, pull_request_base_repo_languages_url: string, pull_request_base_repo_license: struct<key:string,name:string,node_id:string,spdx_id:string,url:string>, pull_request_base_repo_merges_url: string, pull_request_base_repo_milestones_url: string, pull_request_base_repo_mirror_url: string, pull_request_base_repo_name: string, pull_request_base_repo_node_id: string, pull_request_base_repo_notifications_url: string, pull_request_base_repo_open_issues: bigint, pull_request_base_repo_open_issues_count: bigint, pull_request_base_repo_private: boolean, pull_request_base_repo_pulls_url: string, pull_request_base_repo_pushed_at: string, pull_request_base_repo_releases_url: string, pull_request_base_repo_size: bigint, pull_request_base_repo_ssh_url: string, pull_request_base_repo_stargazers_count: bigint, pull_request_base_repo_stargazers_url: string, pull_request_base_repo_statuses_url: string, pull_request_base_repo_subscribers_url: string, pull_request_base_repo_subscription_url: string, pull_request_base_repo_svn_url: string, pull_request_base_repo_tags_url: string, pull_request_base_repo_teams_url: string, pull_request_base_repo_topics: array<string>, pull_request_base_repo_trees_url: string, pull_request_base_repo_updated_at: string, pull_request_base_repo_url: string, pull_request_base_repo_visibility: string, pull_request_base_repo_watchers: bigint, pull_request_base_repo_watchers_count: bigint]"
      ]
     },
     "execution_count": 79,
     "metadata": {},
     "output_type": "execute_result"
    }
   ],
   "source": [
    "# create milestone's creator tables and links that with milestone table\n",
    "pull_request_base_repo = pull_request_base.filter(col('pull_request_base_repo').isNotNull())\n",
    "pull_request_base_repo = subDFWithMasterID(pull_request_base_repo, 'pull_request_base_repo', 'pull_request_base')\n",
    "pull_request_base_repo = add_index(pull_request_base_repo, 'master_pull_request_repo_base')\n",
    "\n",
    "pull_request_base_repo_owner = pull_request_base_repo.filter(col('pull_request_base_repo_owner').isNotNull())\n",
    "pull_request_base_repo_owner= subDF(pull_request_base_repo, 'pull_request_base_repo_owner')\n",
    "\n",
    "pull_request_base_repo_owner = add_index(pull_request_base_repo_owner, 'interm', master_users_count).withColumnRenamed('event_id', 'pr_base_repo_event_id')\n",
    "\n",
    "master_users = master_users.union(pull_request_base_repo_owner).drop_duplicates(subset = ['issue_assignee_id'])\n",
    "master_users_count = master_users.count()\n",
    "\n",
    "pull_request_base_repo = (\n",
    "            master_users.join(broadcast(pull_request_base_repo), pull_request_base_repo.pull_request_base_repo_owner.id\n",
    "            == master_users.issue_assignee_id, how= 'right')\n",
    " )\n",
    "\n",
    "pull_request_base_repo.cache()\n",
    "\n",
    "pull_request_base_repo= pull_request_base_repo.withColumnRenamed('user_id', 'owner_id').drop(*master_users.columns,'pull_request_base_repo_owner').fillna(0, subset = ['owner_id'])\n",
    "\n",
    "pull_request_base_repo.unpersist()"
   ]
  },
  {
   "cell_type": "markdown",
   "metadata": {
    "application/vnd.databricks.v1+cell": {
     "cellMetadata": {},
     "inputWidgets": {},
     "nuid": "9b783699-46a3-4662-805c-2674f916ec87",
     "showTitle": false,
     "title": ""
    }
   },
   "source": [
    "\n",
    "### pull_request_base_topics"
   ]
  },
  {
   "cell_type": "code",
   "execution_count": 0,
   "metadata": {
    "application/vnd.databricks.v1+cell": {
     "cellMetadata": {
      "byteLimit": 2048000,
      "rowLimit": 10000
     },
     "inputWidgets": {},
     "nuid": "f6cc5868-30bf-4b01-a524-a034acd8e4d3",
     "showTitle": false,
     "title": ""
    }
   },
   "outputs": [],
   "source": [
    "pull_request_base_repo_topics = pull_request_base_repo.filter(size(col('pull_request_base_repo_topics')) > 0)\n",
    "pull_request_base_repo_topics = pull_request_base_repo_topics.select('*', explode('pull_request_base_repo_topics').alias('pull_request_base_repo_topic'))\n",
    "\n",
    "pull_request_base_repo_topics = pull_request_base_repo_topics.select('master_pull_request_base_id', 'pull_request_base_repo_topic')\n",
    "\n",
    "pull_request_base_repo = pull_request_base_repo.drop('pull_request_base_repo_topics')\n",
    "pull_request_base = pull_request_base_repo.drop('pull_request_base_repo')\n"
   ]
  },
  {
   "cell_type": "markdown",
   "metadata": {
    "application/vnd.databricks.v1+cell": {
     "cellMetadata": {},
     "inputWidgets": {},
     "nuid": "0da3c28d-cc28-4384-97ee-9f179812e9da",
     "showTitle": false,
     "title": ""
    }
   },
   "source": [
    "\n",
    "### pull_request_base_licesne \n",
    "  - pulling nested Licence columns\n",
    "  - writing pull_request_base tables to the ADLS"
   ]
  },
  {
   "cell_type": "code",
   "execution_count": 0,
   "metadata": {
    "application/vnd.databricks.v1+cell": {
     "cellMetadata": {
      "byteLimit": 2048000,
      "rowLimit": 10000
     },
     "inputWidgets": {},
     "nuid": "b8af4d72-492b-4481-b7ac-431d73b8df05",
     "showTitle": false,
     "title": ""
    }
   },
   "outputs": [],
   "source": [
    "\n",
    "pull_request_base_repo = (\n",
    "    pull_request_base_repo.withColumn('pull_request_base_repo_license_key', col('pull_request_base_repo_license.key')).withColumn('pull_request_base_repo_license_name', col('pull_request_base_repo_license.name')).withColumn('pull_request_base_repo_license_node_id', col('pull_request_base_repo_license.node_id')).withColumn('pull_request_base_repo_license_spdx_id', col('pull_request_base_repo_license.spdx_id')).withColumn('pull_request_base_repo_license_url', col('pull_request_base_repo_license.url')).drop('pull_request_base_repo_license')\n",
    ")\n",
    "\n",
    "\n",
    "write_df_to_adls(pull_request_base, 10, 'master_pull_request_id', 'pull_request_base', overwrite= True)\n",
    "write_df_to_adls(pull_request_base_repo, 10, 'master_pull_request_base_id', 'pull_request_base_repo', overwrite= True)\n",
    "write_df_to_adls(pull_request_base_repo_topics, 10, 'master_pull_request_repo_base_id', 'pull_request_base_repo_topics', overwrite= True)\n",
    "\n"
   ]
  },
  {
   "cell_type": "markdown",
   "metadata": {
    "application/vnd.databricks.v1+cell": {
     "cellMetadata": {},
     "inputWidgets": {},
     "nuid": "a6ca3d55-956e-4680-98fa-57fa87633741",
     "showTitle": false,
     "title": ""
    }
   },
   "source": [
    "\n",
    "### pull_request_head"
   ]
  },
  {
   "cell_type": "code",
   "execution_count": 0,
   "metadata": {
    "application/vnd.databricks.v1+cell": {
     "cellMetadata": {
      "byteLimit": 2048000,
      "rowLimit": 10000
     },
     "inputWidgets": {},
     "nuid": "e4c26b79-b208-4fdf-88e5-e922853d03e9",
     "showTitle": false,
     "title": ""
    }
   },
   "outputs": [],
   "source": [
    "pull_request_head = master_pull_requests.filter(col('pull_request_head').isNotNull())\n",
    "pull_request_head = subDFWithMasterID(pull_request_head, 'pull_request_head', 'pull_request')\n",
    "pull_request_head = add_index(pull_request_head, 'master_pull_request_head')"
   ]
  },
  {
   "cell_type": "markdown",
   "metadata": {
    "application/vnd.databricks.v1+cell": {
     "cellMetadata": {},
     "inputWidgets": {},
     "nuid": "e17e1b74-7404-4982-b8f7-f0f2f9ff3dbf",
     "showTitle": false,
     "title": ""
    }
   },
   "source": [
    "\n",
    "### pull_request_head_repo"
   ]
  },
  {
   "cell_type": "code",
   "execution_count": 0,
   "metadata": {
    "application/vnd.databricks.v1+cell": {
     "cellMetadata": {
      "byteLimit": 2048000,
      "rowLimit": 10000
     },
     "inputWidgets": {},
     "nuid": "6f49a9f4-251c-4951-ac5b-bdc0db26d45b",
     "showTitle": false,
     "title": ""
    }
   },
   "outputs": [
    {
     "output_type": "execute_result",
     "data": {
      "text/plain": [
       "DataFrame[owner_id: int, master_pull_request_head_repo_id: int, event_id: string, master_pull_request_id: int, pull_request_head_repo_allow_forking: boolean, pull_request_head_repo_archive_url: string, pull_request_head_repo_archived: boolean, pull_request_head_repo_assignees_url: string, pull_request_head_repo_blobs_url: string, pull_request_head_repo_branches_url: string, pull_request_head_repo_clone_url: string, pull_request_head_repo_collaborators_url: string, pull_request_head_repo_comments_url: string, pull_request_head_repo_commits_url: string, pull_request_head_repo_compare_url: string, pull_request_head_repo_contents_url: string, pull_request_head_repo_contributors_url: string, pull_request_head_repo_created_at: string, pull_request_head_repo_default_branch: string, pull_request_head_repo_deployments_url: string, pull_request_head_repo_description: string, pull_request_head_repo_disabled: boolean, pull_request_head_repo_downloads_url: string, pull_request_head_repo_events_url: string, pull_request_head_repo_fork: boolean, pull_request_head_repo_forks: bigint, pull_request_head_repo_forks_count: bigint, pull_request_head_repo_forks_url: string, pull_request_head_repo_full_name: string, pull_request_head_repo_git_commits_url: string, pull_request_head_repo_git_refs_url: string, pull_request_head_repo_git_tags_url: string, pull_request_head_repo_git_url: string, pull_request_head_repo_has_downloads: boolean, pull_request_head_repo_has_issues: boolean, pull_request_head_repo_has_pages: boolean, pull_request_head_repo_has_projects: boolean, pull_request_head_repo_has_wiki: boolean, pull_request_head_repo_homepage: string, pull_request_head_repo_hooks_url: string, pull_request_head_repo_html_url: string, pull_request_head_repo_id: bigint, pull_request_head_repo_is_template: boolean, pull_request_head_repo_issue_comment_url: string, pull_request_head_repo_issue_events_url: string, pull_request_head_repo_issues_url: string, pull_request_head_repo_keys_url: string, pull_request_head_repo_labels_url: string, pull_request_head_repo_language: string, pull_request_head_repo_languages_url: string, pull_request_head_repo_license: struct<key:string,name:string,node_id:string,spdx_id:string,url:string>, pull_request_head_repo_merges_url: string, pull_request_head_repo_milestones_url: string, pull_request_head_repo_mirror_url: string, pull_request_head_repo_name: string, pull_request_head_repo_node_id: string, pull_request_head_repo_notifications_url: string, pull_request_head_repo_open_issues: bigint, pull_request_head_repo_open_issues_count: bigint, pull_request_head_repo_private: boolean, pull_request_head_repo_pulls_url: string, pull_request_head_repo_pushed_at: string, pull_request_head_repo_releases_url: string, pull_request_head_repo_size: bigint, pull_request_head_repo_ssh_url: string, pull_request_head_repo_stargazers_count: bigint, pull_request_head_repo_stargazers_url: string, pull_request_head_repo_statuses_url: string, pull_request_head_repo_subscribers_url: string, pull_request_head_repo_subscription_url: string, pull_request_head_repo_svn_url: string, pull_request_head_repo_tags_url: string, pull_request_head_repo_teams_url: string, pull_request_head_repo_topics: array<string>, pull_request_head_repo_trees_url: string, pull_request_head_repo_updated_at: string, pull_request_head_repo_url: string, pull_request_head_repo_visibility: string, pull_request_head_repo_watchers: bigint, pull_request_head_repo_watchers_count: bigint]"
      ]
     },
     "execution_count": 83,
     "metadata": {},
     "output_type": "execute_result"
    }
   ],
   "source": [
    "# create milestone's creator tables and links that with milestone table\n",
    "pull_request_head_repo = pull_request_head.filter(col('pull_request_head_repo').isNotNull())\n",
    "pull_request_head_repo = subDFWithMasterID(pull_request_head_repo, 'pull_request_head_repo', 'pull_request')\n",
    "pull_request_head_repo = add_index(pull_request_head_repo, 'master_pull_request_head_repo')\n",
    "\n",
    "pull_request_head_repo_owner = pull_request_head_repo.filter(col('pull_request_head_repo_owner').isNotNull())\n",
    "pull_request_head_repo_owner= subDF(pull_request_head_repo, 'pull_request_head_repo_owner')\n",
    "\n",
    "pull_request_head_repo_owner = add_index(pull_request_head_repo_owner, 'interm', master_users_count).withColumnRenamed('event_id', 'pr_head_repo_event_id')\n",
    "\n",
    "master_users = master_users.union(pull_request_head_repo_owner).drop_duplicates(subset = ['issue_assignee_id'])\n",
    "master_users_count = master_users.count()\n",
    "\n",
    "pull_request_head_repo = (\n",
    "            master_users.join(broadcast(pull_request_head_repo), pull_request_head_repo.pull_request_head_repo_owner.id\n",
    "            == master_users.issue_assignee_id, how= 'right') \n",
    "            )\n",
    "\n",
    "pull_request_head_repo.cache()\n",
    "\n",
    "pull_request_head_repo = pull_request_head_repo.withColumnRenamed('user_id', 'owner_id').drop(*master_users.columns,'pull_request_head_repo_owner').fillna(0, subset = ['owner_id'])\n",
    "\n",
    "pull_request_head_repo.unpersist()"
   ]
  },
  {
   "cell_type": "markdown",
   "metadata": {
    "application/vnd.databricks.v1+cell": {
     "cellMetadata": {},
     "inputWidgets": {},
     "nuid": "f0ea1ab2-ac98-465a-a23f-b5cc5922bb41",
     "showTitle": false,
     "title": ""
    }
   },
   "source": [
    "\n",
    "### pull_request_head_repo_topics"
   ]
  },
  {
   "cell_type": "code",
   "execution_count": 0,
   "metadata": {
    "application/vnd.databricks.v1+cell": {
     "cellMetadata": {
      "byteLimit": 2048000,
      "rowLimit": 10000
     },
     "inputWidgets": {},
     "nuid": "c4b3104a-970b-4329-baaf-36bfc8182f02",
     "showTitle": false,
     "title": ""
    }
   },
   "outputs": [],
   "source": [
    "pull_request_head_repo_topics = pull_request_head_repo.filter(size(col('pull_request_head_repo_topics')) > 0)\n",
    "pull_request_head_repo_topics = pull_request_head_repo_topics.select('*', explode('pull_request_head_repo_topics').alias('pull_request_head_repo_topic'))\n",
    "\n",
    "pull_request_head_repo_topics = pull_request_head_repo_topics.select('master_pull_request_head_repo_id', 'pull_request_head_repo_topic')\n",
    "\n",
    "pull_request_head_repo = pull_request_head_repo.drop('pull_request_head_repo_topics')\n",
    "pull_request_head = pull_request_head_repo.drop('pull_request_head_repo')\n"
   ]
  },
  {
   "cell_type": "markdown",
   "metadata": {
    "application/vnd.databricks.v1+cell": {
     "cellMetadata": {},
     "inputWidgets": {},
     "nuid": "add93b6b-b2a6-4062-9522-08e141ea7db1",
     "showTitle": false,
     "title": ""
    }
   },
   "source": [
    "\n",
    "### pull_request_head_licesne \n",
    "  - pulling nested Licence columns\n",
    "  - writing pull_request_head tables to the ADLS"
   ]
  },
  {
   "cell_type": "code",
   "execution_count": 0,
   "metadata": {
    "application/vnd.databricks.v1+cell": {
     "cellMetadata": {
      "byteLimit": 2048000,
      "rowLimit": 10000
     },
     "inputWidgets": {},
     "nuid": "59f4e92f-c851-4473-b45a-7c11c52d8e36",
     "showTitle": false,
     "title": ""
    }
   },
   "outputs": [
    {
     "output_type": "display_data",
     "data": {
      "text/html": [
       "<style scoped>\n",
       "  .ansiout {\n",
       "    display: block;\n",
       "    unicode-bidi: embed;\n",
       "    white-space: pre-wrap;\n",
       "    word-wrap: break-word;\n",
       "    word-break: break-all;\n",
       "    font-family: \"Source Code Pro\", \"Menlo\", monospace;;\n",
       "    font-size: 13px;\n",
       "    color: #555;\n",
       "    margin-left: 4px;\n",
       "    line-height: 19px;\n",
       "  }\n",
       "</style>"
      ]
     },
     "metadata": {
      "application/vnd.databricks.v1+output": {
       "arguments": {},
       "data": "",
       "errorSummary": "Cancelled",
       "errorTraceType": "html",
       "metadata": {},
       "type": "ipynbError"
      }
     },
     "output_type": "display_data"
    }
   ],
   "source": [
    "\n",
    "pull_request_head_repo = (\n",
    "    pull_request_head_repo.withColumn('pull_request_head_repo_license_key', col('pull_request_head_repo_license.key')).withColumn('pull_request_head_repo_license_name', col('pull_request_head_repo_license.name')).withColumn('pull_request_head_repo_license_node_id', col('pull_request_head_repo_license.node_id')).withColumn('pull_request_head_repo_license_spdx_id', col('pull_request_head_repo_license.spdx_id')).withColumn('pull_request_head_repo_license_url', col('pull_request_head_repo_license.url')).drop('pull_request_head_repo_license')\n",
    ")\n",
    "\n",
    "\n",
    "\n",
    "write_df_to_adls(pull_request_head, 10, 'master_pull_request_id', 'pull_request_head', overwrite= True)\n",
    "write_df_to_adls(pull_request_head_repo, 10, 'master_pull_request_head_id', 'pull_request_head_repo', overwrite= True)\n",
    "write_df_to_adls(pull_request_head_repo_topics, 10, 'master_pull_request_repo_head_id', 'pull_request_head_repo_topics', overwrite= True)"
   ]
  },
  {
   "cell_type": "markdown",
   "metadata": {
    "application/vnd.databricks.v1+cell": {
     "cellMetadata": {},
     "inputWidgets": {},
     "nuid": "971ce315-bd7a-482b-bc1b-ee335fd2ad35",
     "showTitle": false,
     "title": ""
    }
   },
   "source": [
    "\n",
    "### pull_request_requested_teams \n",
    "- seperating out parent table form the requesed teams"
   ]
  },
  {
   "cell_type": "code",
   "execution_count": 0,
   "metadata": {
    "application/vnd.databricks.v1+cell": {
     "cellMetadata": {
      "byteLimit": 2048000,
      "rowLimit": 10000
     },
     "inputWidgets": {},
     "nuid": "dc732e64-5a07-4a84-b5ab-2d6b3f7db9b1",
     "showTitle": false,
     "title": ""
    }
   },
   "outputs": [
    {
     "output_type": "display_data",
     "data": {
      "text/html": [
       "<style scoped>\n",
       "  .ansiout {\n",
       "    display: block;\n",
       "    unicode-bidi: embed;\n",
       "    white-space: pre-wrap;\n",
       "    word-wrap: break-word;\n",
       "    word-break: break-all;\n",
       "    font-family: \"Source Code Pro\", \"Menlo\", monospace;;\n",
       "    font-size: 13px;\n",
       "    color: #555;\n",
       "    margin-left: 4px;\n",
       "    line-height: 19px;\n",
       "  }\n",
       "</style>"
      ]
     },
     "metadata": {
      "application/vnd.databricks.v1+output": {
       "arguments": {},
       "data": "",
       "errorSummary": "Cancelled",
       "errorTraceType": "html",
       "metadata": {},
       "type": "ipynbError"
      }
     },
     "output_type": "display_data"
    }
   ],
   "source": [
    "pull_request_requested_teams = master_pull_requests.filter(size(col('pull_request_requested_teams')) > 0)\n",
    "pull_request_requested_teams = pull_request_requested_teams.select('*', explode('pull_request_requested_teams').alias('pull_request_requested_team'))\n",
    "\n",
    "pull_request_requested_teams = subDFWithMasterID(pull_request_requested_teams, 'pull_request_requested_team', 'pull_request')\n",
    "\n",
    "pull_request_requested_teams = add_index(pull_request_requested_teams, 'master_pull_request_requested_teams')\n",
    "\n",
    "pull_request_requested_teams_parent = pull_request_requested_teams.filter(col('pull_request_requested_team_parent').isNotNull())\n",
    "# pull_request_requested_teams_parent = subDFWithMasterID(pull_request_requested_teams, 'pull_request_requested_team_parent', 'pull_request')\n",
    "\n",
    "pull_request_requested_teams_parent= subDFWithMasterID(pull_request_requested_teams, 'pull_request_requested_team_parent', 'pull_request_requested_teams')\n",
    "\n",
    "pull_request_requested_teams = pull_request_requested_teams.drop('pull_request_requested_team_parent')\n",
    "\n",
    "write_df_to_adls(pull_request_requested_teams, 10, 'master_pull_request_id', 'pull_request_requested_teams', overwrite= True)\n",
    "write_df_to_adls(pull_request_requested_teams_parent, 10, 'master_pull_request_requested_teams_id', 'pull_request_requested_teams_parent', overwrite= True)\n"
   ]
  },
  {
   "cell_type": "markdown",
   "metadata": {
    "application/vnd.databricks.v1+cell": {
     "cellMetadata": {},
     "inputWidgets": {},
     "nuid": "d17ff2b7-334c-4833-bdc1-5ea92e735e05",
     "showTitle": false,
     "title": ""
    }
   },
   "source": [
    "\n",
    "### dropping pull_request cols"
   ]
  },
  {
   "cell_type": "code",
   "execution_count": 0,
   "metadata": {
    "application/vnd.databricks.v1+cell": {
     "cellMetadata": {
      "byteLimit": 2048000,
      "rowLimit": 10000
     },
     "inputWidgets": {},
     "nuid": "2d655d2e-ce41-4bc5-bcc8-9c2f4a97ffb0",
     "showTitle": false,
     "title": ""
    }
   },
   "outputs": [
    {
     "output_type": "display_data",
     "data": {
      "text/html": [
       "<style scoped>\n",
       "  .ansiout {\n",
       "    display: block;\n",
       "    unicode-bidi: embed;\n",
       "    white-space: pre-wrap;\n",
       "    word-wrap: break-word;\n",
       "    word-break: break-all;\n",
       "    font-family: \"Source Code Pro\", \"Menlo\", monospace;;\n",
       "    font-size: 13px;\n",
       "    color: #555;\n",
       "    margin-left: 4px;\n",
       "    line-height: 19px;\n",
       "  }\n",
       "</style>"
      ]
     },
     "metadata": {
      "application/vnd.databricks.v1+output": {
       "arguments": {},
       "data": "",
       "errorSummary": "Cancelled",
       "errorTraceType": "html",
       "metadata": {},
       "type": "ipynbError"
      }
     },
     "output_type": "display_data"
    }
   ],
   "source": [
    "\n",
    "master_pull_requests = master_pull_requests.drop('pull_request_requested_teams', 'pull_request_head', 'pull_request_base', 'pull_request_auto_merge', 'pull_request_requested_reviewers', 'pull_request_labels', 'pull_request_milestone', 'pull_request_assignees', 'pull_request_reactions', 'pull_request__links')\n"
   ]
  },
  {
   "cell_type": "markdown",
   "metadata": {
    "application/vnd.databricks.v1+cell": {
     "cellMetadata": {
      "byteLimit": 2048000,
      "rowLimit": 10000
     },
     "inputWidgets": {},
     "nuid": "34dd2f30-07ea-401d-a81f-47da1a0a3646",
     "showTitle": false,
     "title": ""
    }
   },
   "source": [
    "### master_reviews"
   ]
  },
  {
   "cell_type": "code",
   "execution_count": 0,
   "metadata": {
    "application/vnd.databricks.v1+cell": {
     "cellMetadata": {
      "byteLimit": 2048000,
      "rowLimit": 10000
     },
     "inputWidgets": {},
     "nuid": "98e16ba3-292e-486f-91ec-5510fc13b962",
     "showTitle": false,
     "title": ""
    }
   },
   "outputs": [
    {
     "output_type": "display_data",
     "data": {
      "text/html": [
       "<style scoped>\n",
       "  .ansiout {\n",
       "    display: block;\n",
       "    unicode-bidi: embed;\n",
       "    white-space: pre-wrap;\n",
       "    word-wrap: break-word;\n",
       "    word-break: break-all;\n",
       "    font-family: \"Source Code Pro\", \"Menlo\", monospace;;\n",
       "    font-size: 13px;\n",
       "    color: #555;\n",
       "    margin-left: 4px;\n",
       "    line-height: 19px;\n",
       "  }\n",
       "</style>"
      ]
     },
     "metadata": {
      "application/vnd.databricks.v1+output": {
       "arguments": {},
       "data": "",
       "errorSummary": "Cancelled",
       "errorTraceType": "html",
       "metadata": {},
       "type": "ipynbError"
      }
     },
     "output_type": "display_data"
    }
   ],
   "source": [
    "master_reviews = df.filter(col('payload.review').isNotNull())\n",
    "master_reviews = rename_payload_cols(master_reviews, 'review')\n",
    "master_reviews = add_index(master_reviews, 'master_reviews')"
   ]
  },
  {
   "cell_type": "markdown",
   "metadata": {
    "application/vnd.databricks.v1+cell": {
     "cellMetadata": {},
     "inputWidgets": {},
     "nuid": "7950bb55-4209-4c10-8e7a-354112455145",
     "showTitle": false,
     "title": ""
    }
   },
   "source": [
    "\n",
    "### Review users"
   ]
  },
  {
   "cell_type": "code",
   "execution_count": 0,
   "metadata": {
    "application/vnd.databricks.v1+cell": {
     "cellMetadata": {
      "byteLimit": 2048000,
      "rowLimit": 10000
     },
     "inputWidgets": {},
     "nuid": "91093177-eb90-4702-8c4f-b15c9a59a9f8",
     "showTitle": false,
     "title": ""
    }
   },
   "outputs": [
    {
     "output_type": "display_data",
     "data": {
      "text/html": [
       "<style scoped>\n",
       "  .ansiout {\n",
       "    display: block;\n",
       "    unicode-bidi: embed;\n",
       "    white-space: pre-wrap;\n",
       "    word-wrap: break-word;\n",
       "    word-break: break-all;\n",
       "    font-family: \"Source Code Pro\", \"Menlo\", monospace;;\n",
       "    font-size: 13px;\n",
       "    color: #555;\n",
       "    margin-left: 4px;\n",
       "    line-height: 19px;\n",
       "  }\n",
       "</style>"
      ]
     },
     "metadata": {
      "application/vnd.databricks.v1+output": {
       "arguments": {},
       "data": "",
       "errorSummary": "Cancelled",
       "errorTraceType": "html",
       "metadata": {},
       "type": "ipynbError"
      }
     },
     "output_type": "display_data"
    }
   ],
   "source": [
    "\n",
    "review_users = master_reviews.filter(col('review_user').isNotNull())\n",
    "review_users = subDF(review_users, 'review_user')\n",
    "\n",
    "review_users = add_index(review_users, 'user', master_users_count).withColumnRenamed('event_id', 'review_event_id')\n",
    "\n",
    "# Linking the review_users with the master user's table and addding new values to the count\n",
    "master_users = master_users.union(review_users).drop_duplicates(subset = ['issue_assignee_id'])\n",
    "master_users_count = master_users.count()\n",
    "\n",
    "# linking user_issues with master_issues table and setting null values to 0 \n",
    "master_reviews = (\n",
    "            master_users.join(broadcast(master_reviews), master_reviews.review_user.id \n",
    "            == master_users.issue_assignee_id, how= 'right')\n",
    " )\n",
    "\n",
    "master_reviews.cache()\n",
    "\n",
    "master_reviews = master_reviews.withColumnRenamed('user_id', 'users_id').drop(*master_users.columns,'review_user').fillna(0, subset = ['users_id'])\n",
    "\n",
    "master_reviews.unpersist()\n"
   ]
  },
  {
   "cell_type": "markdown",
   "metadata": {
    "application/vnd.databricks.v1+cell": {
     "cellMetadata": {},
     "inputWidgets": {},
     "nuid": "a954007a-6c18-4155-81ad-28d5f3a6a345",
     "showTitle": false,
     "title": ""
    }
   },
   "source": [
    "\n",
    "### renaming review links"
   ]
  },
  {
   "cell_type": "code",
   "execution_count": 0,
   "metadata": {
    "application/vnd.databricks.v1+cell": {
     "cellMetadata": {
      "byteLimit": 2048000,
      "rowLimit": 10000
     },
     "inputWidgets": {},
     "nuid": "715802fd-2b7f-478f-ab66-f41a3b0e1957",
     "showTitle": false,
     "title": ""
    }
   },
   "outputs": [
    {
     "output_type": "display_data",
     "data": {
      "text/html": [
       "<style scoped>\n",
       "  .ansiout {\n",
       "    display: block;\n",
       "    unicode-bidi: embed;\n",
       "    white-space: pre-wrap;\n",
       "    word-wrap: break-word;\n",
       "    word-break: break-all;\n",
       "    font-family: \"Source Code Pro\", \"Menlo\", monospace;;\n",
       "    font-size: 13px;\n",
       "    color: #555;\n",
       "    margin-left: 4px;\n",
       "    line-height: 19px;\n",
       "  }\n",
       "</style>"
      ]
     },
     "metadata": {
      "application/vnd.databricks.v1+output": {
       "arguments": {},
       "data": "",
       "errorSummary": "Cancelled",
       "errorTraceType": "html",
       "metadata": {},
       "type": "ipynbError"
      }
     },
     "output_type": "display_data"
    }
   ],
   "source": [
    "\n",
    "master_reviews = master_reviews.withColumn('review_link_html', col('review__links.html.href')).withColumn('review_link_pull_request', col('review__links.pull_request.href')).drop('review__links')\n",
    "\n",
    "master_reviews = master_reviews.drop('review_reactions')\n"
   ]
  },
  {
   "cell_type": "markdown",
   "metadata": {
    "application/vnd.databricks.v1+cell": {
     "cellMetadata": {
      "byteLimit": 2048000,
      "rowLimit": 10000
     },
     "inputWidgets": {},
     "nuid": "86e8401a-c92b-4130-9d60-1229f420563d",
     "showTitle": false,
     "title": ""
    }
   },
   "source": [
    "\n",
    "### Commit change event "
   ]
  },
  {
   "cell_type": "code",
   "execution_count": 0,
   "metadata": {
    "application/vnd.databricks.v1+cell": {
     "cellMetadata": {
      "byteLimit": 2048000,
      "rowLimit": 10000
     },
     "inputWidgets": {},
     "nuid": "55706af5-c106-4c60-9061-2b4a5abb26b5",
     "showTitle": false,
     "title": ""
    }
   },
   "outputs": [
    {
     "output_type": "execute_result",
     "data": {
      "text/plain": [
       "DataFrame[event_id: string, action: string, master_comment_id: int]"
      ]
     },
     "execution_count": 86,
     "metadata": {},
     "output_type": "execute_result"
    }
   ],
   "source": [
    "master_commit_comment_event = df.filter(col('type') == 'CommitCommentEvent').select('event_id' ,'payload.action')\n",
    "\n",
    "master_commit_comment_event = (\n",
    "    master_commit_comment_event.join(comments_master, 'event_id', 'left')\n",
    ")\n",
    "\n",
    "master_commit_comment_event.cache()\n",
    "master_commit_comment_event = master_commit_comment_event.select('event_id', 'action', 'master_comment_id')\n",
    "master_commit_comment_event.unpersist()"
   ]
  },
  {
   "cell_type": "code",
   "execution_count": 0,
   "metadata": {
    "application/vnd.databricks.v1+cell": {
     "cellMetadata": {
      "byteLimit": 2048000,
      "rowLimit": 10000
     },
     "inputWidgets": {},
     "nuid": "b5ba8e24-47f4-444a-8837-d92f7f136995",
     "showTitle": false,
     "title": ""
    }
   },
   "outputs": [
    {
     "output_type": "display_data",
     "data": {
      "text/html": [
       "<style scoped>\n",
       "  .ansiout {\n",
       "    display: block;\n",
       "    unicode-bidi: embed;\n",
       "    white-space: pre-wrap;\n",
       "    word-wrap: break-word;\n",
       "    word-break: break-all;\n",
       "    font-family: \"Source Code Pro\", \"Menlo\", monospace;;\n",
       "    font-size: 13px;\n",
       "    color: #555;\n",
       "    margin-left: 4px;\n",
       "    line-height: 19px;\n",
       "  }\n",
       "</style>"
      ]
     },
     "metadata": {
      "application/vnd.databricks.v1+output": {
       "arguments": {},
       "data": "",
       "errorSummary": "Cancelled",
       "errorTraceType": "html",
       "metadata": {},
       "type": "ipynbError"
      }
     },
     "output_type": "display_data"
    }
   ],
   "source": [
    "master_commit_comment_event = add_index(master_commit_comment_event, 'master_commit_comment_event')\n",
    "\n",
    "master_commit_comment_event = master_commit_comment_event.withColumnRenamed('event_id', 'master_event_id').withColumnRenamed('type', 'type_temp')\n",
    "\n",
    "\n",
    "df = (\n",
    "    df.join(master_commit_comment_event, master_commit_comment_event.master_event_id == df.event_id, \"left\")\n",
    "    )\n",
    "\n",
    "df.cache()\n",
    "\n",
    "df = df.withColumnRenamed(\"master_commit_comment_event\", 'commit_comment_event_id').drop(*master_commit_comment_event.columns).fillna(0, subset = ['commit_comment_event_id'])\n",
    "\n",
    "df.unpersist()\n",
    "\n",
    "write_df_to_adls(master_commit_comment_event, 10, 'master_commit_comment_event_id', 'master_commit_comment_event', overwrite= True)\n"
   ]
  },
  {
   "cell_type": "markdown",
   "metadata": {
    "application/vnd.databricks.v1+cell": {
     "cellMetadata": {
      "byteLimit": 2048000,
      "rowLimit": 10000
     },
     "inputWidgets": {},
     "nuid": "806be095-06ee-4308-87fd-bd57d65c30aa",
     "showTitle": false,
     "title": ""
    }
   },
   "source": [
    "\n",
    "### issues event table"
   ]
  },
  {
   "cell_type": "code",
   "execution_count": 0,
   "metadata": {
    "application/vnd.databricks.v1+cell": {
     "cellMetadata": {
      "byteLimit": 2048000,
      "rowLimit": 10000
     },
     "inputWidgets": {},
     "nuid": "125c2c37-db2c-4fd9-b8d9-e28498627951",
     "showTitle": false,
     "title": ""
    }
   },
   "outputs": [
    {
     "output_type": "display_data",
     "data": {
      "text/html": [
       "<style scoped>\n",
       "  .ansiout {\n",
       "    display: block;\n",
       "    unicode-bidi: embed;\n",
       "    white-space: pre-wrap;\n",
       "    word-wrap: break-word;\n",
       "    word-break: break-all;\n",
       "    font-family: \"Source Code Pro\", \"Menlo\", monospace;;\n",
       "    font-size: 13px;\n",
       "    color: #555;\n",
       "    margin-left: 4px;\n",
       "    line-height: 19px;\n",
       "  }\n",
       "</style>"
      ]
     },
     "metadata": {
      "application/vnd.databricks.v1+output": {
       "arguments": {},
       "data": "",
       "errorSummary": "Cancelled",
       "errorTraceType": "html",
       "metadata": {},
       "type": "ipynbError"
      }
     },
     "output_type": "display_data"
    }
   ],
   "source": [
    "master_issues_event = df.filter(col('type') == 'IssuesEvent').select('event_id', 'type' ,'payload.action')\n",
    "\n",
    "master_issues_event = (\n",
    "    master_issues_event.join(master_issues, 'event_id')\n",
    ")\n",
    "master_issues_event.cache()\n",
    "master_issues_event = master_issues_event.select('event_id', 'action', 'master_issue_id')\n",
    "master_issues_event.unpersist()\n"
   ]
  },
  {
   "cell_type": "code",
   "execution_count": 0,
   "metadata": {
    "application/vnd.databricks.v1+cell": {
     "cellMetadata": {
      "byteLimit": 2048000,
      "rowLimit": 10000
     },
     "inputWidgets": {},
     "nuid": "1d0be0e3-c8aa-4304-b8bf-498ea50d16e4",
     "showTitle": false,
     "title": ""
    }
   },
   "outputs": [
    {
     "output_type": "display_data",
     "data": {
      "text/html": [
       "<style scoped>\n",
       "  .ansiout {\n",
       "    display: block;\n",
       "    unicode-bidi: embed;\n",
       "    white-space: pre-wrap;\n",
       "    word-wrap: break-word;\n",
       "    word-break: break-all;\n",
       "    font-family: \"Source Code Pro\", \"Menlo\", monospace;;\n",
       "    font-size: 13px;\n",
       "    color: #555;\n",
       "    margin-left: 4px;\n",
       "    line-height: 19px;\n",
       "  }\n",
       "</style>"
      ]
     },
     "metadata": {
      "application/vnd.databricks.v1+output": {
       "arguments": {},
       "data": "",
       "errorSummary": "Cancelled",
       "errorTraceType": "html",
       "metadata": {},
       "type": "ipynbError"
      }
     },
     "output_type": "display_data"
    }
   ],
   "source": [
    "master_issues_event = add_index(master_issues_event, 'master_issues_event')\n",
    "\n",
    "master_issues_event = master_issues_event.withColumnRenamed('event_id', 'master_event_id').withColumnRenamed('type', 'type_temp')\n",
    "\n",
    "\n",
    "df = (\n",
    "    df.join(broadcast(master_issues_event),master_issues_event.master_event_id == df.event_id,\"left\")\n",
    "    )\n",
    "\n",
    "df.cache()\n",
    "\n",
    "df = df.withColumnRenamed(\"master_issue_event_id\", 'final_issue_event_id').drop(*master_issues_event.columns)\n",
    "df = df.fillna(0, subset = ['final_issue_event_id'])\n",
    "\n",
    "df.unpersist()\n",
    "\n",
    "\n",
    "write_df_to_adls(master_issues_event, 10, 'master_issues_event_id', 'master_issues_event', overwrite= True)"
   ]
  },
  {
   "cell_type": "markdown",
   "metadata": {
    "application/vnd.databricks.v1+cell": {
     "cellMetadata": {
      "byteLimit": 2048000,
      "rowLimit": 10000
     },
     "inputWidgets": {},
     "nuid": "8acd7c66-d845-4807-ac94-e7b381e8a09e",
     "showTitle": false,
     "title": ""
    }
   },
   "source": [
    "\n",
    "### pull_request_event table"
   ]
  },
  {
   "cell_type": "code",
   "execution_count": 0,
   "metadata": {
    "application/vnd.databricks.v1+cell": {
     "cellMetadata": {
      "byteLimit": 2048000,
      "rowLimit": 10000
     },
     "inputWidgets": {},
     "nuid": "1ed6e5eb-23dc-471a-a75e-e9618f7c0487",
     "showTitle": false,
     "title": ""
    }
   },
   "outputs": [
    {
     "output_type": "display_data",
     "data": {
      "text/html": [
       "<style scoped>\n",
       "  .ansiout {\n",
       "    display: block;\n",
       "    unicode-bidi: embed;\n",
       "    white-space: pre-wrap;\n",
       "    word-wrap: break-word;\n",
       "    word-break: break-all;\n",
       "    font-family: \"Source Code Pro\", \"Menlo\", monospace;;\n",
       "    font-size: 13px;\n",
       "    color: #555;\n",
       "    margin-left: 4px;\n",
       "    line-height: 19px;\n",
       "  }\n",
       "</style>"
      ]
     },
     "metadata": {
      "application/vnd.databricks.v1+output": {
       "arguments": {},
       "data": "",
       "errorSummary": "Cancelled",
       "errorTraceType": "html",
       "metadata": {},
       "type": "ipynbError"
      }
     },
     "output_type": "display_data"
    }
   ],
   "source": [
    "master_pull_requests.printSchema()"
   ]
  },
  {
   "cell_type": "code",
   "execution_count": 0,
   "metadata": {
    "application/vnd.databricks.v1+cell": {
     "cellMetadata": {
      "byteLimit": 2048000,
      "rowLimit": 10000
     },
     "inputWidgets": {},
     "nuid": "0fce98b2-1961-474e-a484-a4d18cf572e2",
     "showTitle": false,
     "title": ""
    }
   },
   "outputs": [
    {
     "output_type": "display_data",
     "data": {
      "text/html": [
       "<style scoped>\n",
       "  .ansiout {\n",
       "    display: block;\n",
       "    unicode-bidi: embed;\n",
       "    white-space: pre-wrap;\n",
       "    word-wrap: break-word;\n",
       "    word-break: break-all;\n",
       "    font-family: \"Source Code Pro\", \"Menlo\", monospace;;\n",
       "    font-size: 13px;\n",
       "    color: #555;\n",
       "    margin-left: 4px;\n",
       "    line-height: 19px;\n",
       "  }\n",
       "</style>"
      ]
     },
     "metadata": {
      "application/vnd.databricks.v1+output": {
       "arguments": {},
       "data": "",
       "errorSummary": "Cancelled",
       "errorTraceType": "html",
       "metadata": {},
       "type": "ipynbError"
      }
     },
     "output_type": "display_data"
    }
   ],
   "source": [
    "master_pull_request_event = df.filter(col('type') == 'PullRequestEvent').select('event_id', 'type' ,'payload.action', 'payload.number')\n",
    "\n",
    "master_pull_request_event = (\n",
    "    master_pull_request_event.join(master_pull_requests, 'event_id'))\n",
    "\n",
    "master_pull_request_event.cache()\n",
    "master_pull_request_event = master_pull_request_event.select('event_id', 'action', 'number', 'master_pull_request_id')\n",
    "master_pull_request_event.unpersist()"
   ]
  },
  {
   "cell_type": "code",
   "execution_count": 0,
   "metadata": {
    "application/vnd.databricks.v1+cell": {
     "cellMetadata": {
      "byteLimit": 2048000,
      "rowLimit": 10000
     },
     "inputWidgets": {},
     "nuid": "9ea58762-2d70-4f04-b6f2-e8dc897851cf",
     "showTitle": false,
     "title": ""
    }
   },
   "outputs": [
    {
     "output_type": "display_data",
     "data": {
      "text/html": [
       "<style scoped>\n",
       "  .ansiout {\n",
       "    display: block;\n",
       "    unicode-bidi: embed;\n",
       "    white-space: pre-wrap;\n",
       "    word-wrap: break-word;\n",
       "    word-break: break-all;\n",
       "    font-family: \"Source Code Pro\", \"Menlo\", monospace;;\n",
       "    font-size: 13px;\n",
       "    color: #555;\n",
       "    margin-left: 4px;\n",
       "    line-height: 19px;\n",
       "  }\n",
       "</style>"
      ]
     },
     "metadata": {
      "application/vnd.databricks.v1+output": {
       "arguments": {},
       "data": "",
       "errorSummary": "Cancelled",
       "errorTraceType": "html",
       "metadata": {},
       "type": "ipynbError"
      }
     },
     "output_type": "display_data"
    }
   ],
   "source": [
    "master_pull_request_event = add_index(master_pull_request_event, 'master_pull_request_event')\n",
    "\n",
    "master_pull_request_event = master_pull_request_event.withColumnRenamed('event_id', 'master_event_id').withColumnRenamed('type', 'type_temp')\n",
    "\n",
    "\n",
    "df = (\n",
    "    df.join(broadcast(master_pull_request_event), master_pull_request_event.master_event_id == df.event_id, \"left\")\n",
    "    )\n",
    "df.cache()\n",
    "\n",
    "df = df.withColumnRenamed(\"master_pull_request_event_id\", 'pull_request_event_id').drop(*master_pull_request_event.columns).fillna(0, subset = ['pull_request_event_id'])\n",
    "\n",
    "df.unpersist()\n",
    "\n",
    "write_df_to_adls(master_pull_request_event, 10, 'master_pull_request_event_id', 'master_pull_request_event', overwrite= True)"
   ]
  },
  {
   "cell_type": "markdown",
   "metadata": {
    "application/vnd.databricks.v1+cell": {
     "cellMetadata": {
      "byteLimit": 2048000,
      "rowLimit": 10000
     },
     "inputWidgets": {},
     "nuid": "ada339b9-174a-4287-959e-2c384058e50d",
     "showTitle": false,
     "title": ""
    }
   },
   "source": [
    "\n",
    "### issue_comment"
   ]
  },
  {
   "cell_type": "code",
   "execution_count": 0,
   "metadata": {
    "application/vnd.databricks.v1+cell": {
     "cellMetadata": {
      "byteLimit": 2048000,
      "rowLimit": 10000
     },
     "inputWidgets": {},
     "nuid": "4726ce51-2b26-489b-aaf3-d0769befedc0",
     "showTitle": false,
     "title": ""
    }
   },
   "outputs": [
    {
     "output_type": "display_data",
     "data": {
      "text/html": [
       "<style scoped>\n",
       "  .ansiout {\n",
       "    display: block;\n",
       "    unicode-bidi: embed;\n",
       "    white-space: pre-wrap;\n",
       "    word-wrap: break-word;\n",
       "    word-break: break-all;\n",
       "    font-family: \"Source Code Pro\", \"Menlo\", monospace;;\n",
       "    font-size: 13px;\n",
       "    color: #555;\n",
       "    margin-left: 4px;\n",
       "    line-height: 19px;\n",
       "  }\n",
       "</style>"
      ]
     },
     "metadata": {
      "application/vnd.databricks.v1+output": {
       "arguments": {},
       "data": "",
       "errorSummary": "Cancelled",
       "errorTraceType": "html",
       "metadata": {},
       "type": "ipynbError"
      }
     },
     "output_type": "display_data"
    }
   ],
   "source": [
    "master_issues_comment_event = df.filter(col('type') == 'IssueCommentEvent').select('event_id', 'type' ,'payload.action')\n",
    "\n",
    "master_issues_comment_event = (\n",
    "    master_issues_comment_event.join(master_issues, 'event_id')\n",
    ")\n",
    "master_issues_comment_event.cache()\n",
    "\n",
    "master_issues_comment_event = master_issues_comment_event.select('event_id', 'action', 'master_issue_id')\n",
    "\n",
    "master_issues_comment_event = (\n",
    "    master_comments.join(broadcast(master_issues_comment_event), 'event_id')\n",
    ")\n",
    "\n",
    "master_issues_comment_event = master_issues_comment_event.select('event_id', 'action', 'master_issue_id', 'master_comment_id')\n",
    "master_issues_comment_event.unpersist()\n"
   ]
  },
  {
   "cell_type": "code",
   "execution_count": 0,
   "metadata": {
    "application/vnd.databricks.v1+cell": {
     "cellMetadata": {
      "byteLimit": 2048000,
      "rowLimit": 10000
     },
     "inputWidgets": {},
     "nuid": "0c53dcb7-b938-4e0a-91e5-99f667eba07b",
     "showTitle": false,
     "title": ""
    }
   },
   "outputs": [
    {
     "output_type": "display_data",
     "data": {
      "text/html": [
       "<style scoped>\n",
       "  .ansiout {\n",
       "    display: block;\n",
       "    unicode-bidi: embed;\n",
       "    white-space: pre-wrap;\n",
       "    word-wrap: break-word;\n",
       "    word-break: break-all;\n",
       "    font-family: \"Source Code Pro\", \"Menlo\", monospace;;\n",
       "    font-size: 13px;\n",
       "    color: #555;\n",
       "    margin-left: 4px;\n",
       "    line-height: 19px;\n",
       "  }\n",
       "</style>"
      ]
     },
     "metadata": {
      "application/vnd.databricks.v1+output": {
       "arguments": {},
       "data": "",
       "errorSummary": "Cancelled",
       "errorTraceType": "html",
       "metadata": {},
       "type": "ipynbError"
      }
     },
     "output_type": "display_data"
    }
   ],
   "source": [
    "master_issues_comment_event = add_index(master_issues_comment_event, 'master_issue_comment_event')\n",
    "\n",
    "master_issues_comment_event = master_issues_comment_event.withColumnRenamed('event_id', 'master_event_id').withColumnRenamed('type', 'type_temp')\n",
    "\n",
    "# master_issues_comment_event.printSchema()\n",
    "\n",
    "df = (\n",
    "    df.join(master_issues_comment_event, master_issues_comment_event.master_event_id == df.event_id, \"left\")\n",
    "    )\n",
    "\n",
    "df.cache()\n",
    "\n",
    "df = df.withColumnRenamed(\"master_issue_comment_event_id\", 'issue_comment_event_id').drop(*master_issues_comment_event.columns)\n",
    "\n",
    "df.unpersist()\n",
    "\n",
    "\n",
    "write_df_to_adls(master_issues_comment_event, 10, 'issue_comment_event_id', 'master_issues_comment_event', overwrite= True)"
   ]
  },
  {
   "cell_type": "markdown",
   "metadata": {
    "application/vnd.databricks.v1+cell": {
     "cellMetadata": {
      "byteLimit": 2048000,
      "rowLimit": 10000
     },
     "inputWidgets": {},
     "nuid": "2d16c008-c6f2-4bf5-a7c7-0a2820753dc8",
     "showTitle": false,
     "title": ""
    }
   },
   "source": [
    "\n",
    "### pull_request_comments table"
   ]
  },
  {
   "cell_type": "code",
   "execution_count": 0,
   "metadata": {
    "application/vnd.databricks.v1+cell": {
     "cellMetadata": {
      "byteLimit": 2048000,
      "rowLimit": 10000
     },
     "inputWidgets": {},
     "nuid": "b786e56a-6bf1-4bc8-8675-7738aa328250",
     "showTitle": false,
     "title": ""
    }
   },
   "outputs": [
    {
     "output_type": "display_data",
     "data": {
      "text/html": [
       "<style scoped>\n",
       "  .ansiout {\n",
       "    display: block;\n",
       "    unicode-bidi: embed;\n",
       "    white-space: pre-wrap;\n",
       "    word-wrap: break-word;\n",
       "    word-break: break-all;\n",
       "    font-family: \"Source Code Pro\", \"Menlo\", monospace;;\n",
       "    font-size: 13px;\n",
       "    color: #555;\n",
       "    margin-left: 4px;\n",
       "    line-height: 19px;\n",
       "  }\n",
       "</style>"
      ]
     },
     "metadata": {
      "application/vnd.databricks.v1+output": {
       "arguments": {},
       "data": "",
       "errorSummary": "Cancelled",
       "errorTraceType": "html",
       "metadata": {},
       "type": "ipynbError"
      }
     },
     "output_type": "display_data"
    }
   ],
   "source": [
    "\n",
    "master_pull_request_comment_event = df.filter(col('type') == 'PullRequestReviewCommentEvent').select('event_id', 'type' ,'payload.action')\n",
    "\n",
    "master_pull_request_comment_event = (\n",
    "    master_pull_request_comment_event.join(master_pull_requests, 'event_id')\n",
    ")\n",
    "master_pull_request_comment_event.cache()\n",
    "\n",
    "master_pull_request_comment_event = master_pull_request_comment_event.select('event_id', 'action', 'master_pull_request_id')\n",
    "\n",
    "master_pull_request_comment_event = (\n",
    "    master_pull_request_comment_event.join(comments_master, 'event_id')\n",
    ")\n",
    "\n",
    "master_pull_request_comment_event = master_pull_request_comment_event.select('event_id', 'action', 'master_pull_request_id', 'master_comment_id')   \n",
    "\n",
    "master_pull_request_comment_event.unpersist()\n"
   ]
  },
  {
   "cell_type": "code",
   "execution_count": 0,
   "metadata": {
    "application/vnd.databricks.v1+cell": {
     "cellMetadata": {
      "byteLimit": 2048000,
      "rowLimit": 10000
     },
     "inputWidgets": {},
     "nuid": "113e6a46-1d3d-475a-b20e-dbb0594adcaa",
     "showTitle": false,
     "title": ""
    }
   },
   "outputs": [
    {
     "output_type": "display_data",
     "data": {
      "text/html": [
       "<style scoped>\n",
       "  .ansiout {\n",
       "    display: block;\n",
       "    unicode-bidi: embed;\n",
       "    white-space: pre-wrap;\n",
       "    word-wrap: break-word;\n",
       "    word-break: break-all;\n",
       "    font-family: \"Source Code Pro\", \"Menlo\", monospace;;\n",
       "    font-size: 13px;\n",
       "    color: #555;\n",
       "    margin-left: 4px;\n",
       "    line-height: 19px;\n",
       "  }\n",
       "</style>"
      ]
     },
     "metadata": {
      "application/vnd.databricks.v1+output": {
       "arguments": {},
       "data": "",
       "errorSummary": "Cancelled",
       "errorTraceType": "html",
       "metadata": {},
       "type": "ipynbError"
      }
     },
     "output_type": "display_data"
    }
   ],
   "source": [
    "master_pull_request_comment_event = add_index(master_pull_request_comment_event, 'master_pull_request_comment_event')\n",
    "\n",
    "master_pull_request_comment_event = master_pull_request_comment_event.withColumnRenamed('event_id', 'master_event_id').withColumnRenamed('type', 'type_temp')\n",
    "\n",
    "\n",
    "df = (\n",
    "    df.join(master_pull_request_comment_event, master_pull_request_comment_event.master_event_id == df.event_id, \"left\")\n",
    "    )\n",
    "\n",
    "df.cache()\n",
    "\n",
    "df = df.withColumnRenamed(\"master_pull_request_comment_event_id\", 'pull_request_comment_event_id').drop(*master_pull_request_comment_event.columns).fillna(0, subset = ['pull_request_comment_event_id'])\n",
    "\n",
    "df.unpersist()\n",
    "\n",
    "write_df_to_adls(master_pull_request_comment_event, 10, 'master_pull_request_comment_event_id', 'master_pull_request_comment_event', overwrite= True)"
   ]
  },
  {
   "cell_type": "markdown",
   "metadata": {
    "application/vnd.databricks.v1+cell": {
     "cellMetadata": {
      "byteLimit": 2048000,
      "rowLimit": 10000
     },
     "inputWidgets": {},
     "nuid": "ace392a3-87bb-4652-925e-6ca652ee79ae",
     "showTitle": false,
     "title": ""
    }
   },
   "source": [
    "\n",
    "### pull_request_review table"
   ]
  },
  {
   "cell_type": "code",
   "execution_count": 0,
   "metadata": {
    "application/vnd.databricks.v1+cell": {
     "cellMetadata": {
      "byteLimit": 2048000,
      "rowLimit": 10000
     },
     "inputWidgets": {},
     "nuid": "95688426-8081-49a4-b51d-29c60439c061",
     "showTitle": false,
     "title": ""
    }
   },
   "outputs": [
    {
     "output_type": "display_data",
     "data": {
      "text/html": [
       "<style scoped>\n",
       "  .ansiout {\n",
       "    display: block;\n",
       "    unicode-bidi: embed;\n",
       "    white-space: pre-wrap;\n",
       "    word-wrap: break-word;\n",
       "    word-break: break-all;\n",
       "    font-family: \"Source Code Pro\", \"Menlo\", monospace;;\n",
       "    font-size: 13px;\n",
       "    color: #555;\n",
       "    margin-left: 4px;\n",
       "    line-height: 19px;\n",
       "  }\n",
       "</style>"
      ]
     },
     "metadata": {
      "application/vnd.databricks.v1+output": {
       "arguments": {},
       "data": "",
       "errorSummary": "Cancelled",
       "errorTraceType": "html",
       "metadata": {},
       "type": "ipynbError"
      }
     },
     "output_type": "display_data"
    }
   ],
   "source": [
    "\n",
    "master_pull_request_review_event = df.filter(col('type') == 'PullRequestReviewEvent').select('event_id', 'type' ,'payload.action')\n",
    "\n",
    "master_pull_request_review_event = (\n",
    "    master_pull_request_review_event.join(master_pull_requests, 'event_id')\n",
    ")\n",
    "master_pull_request_review_event.cache()\n",
    "\n",
    "master_pull_request_review_event = master_pull_request_review_event.select('event_id', 'action', 'master_pull_request_id')\n",
    "\n",
    "master_pull_request_review_event = (\n",
    "    master_pull_request_review_event.join(master_reviews, 'event_id')\n",
    ")\n",
    "\n",
    "master_pull_request_review_event.select('event_id', 'action', 'master_pull_request_id', 'master_reviews_id')   \n",
    "\n",
    "master_pull_request_review_event.unpersist()"
   ]
  },
  {
   "cell_type": "code",
   "execution_count": 0,
   "metadata": {
    "application/vnd.databricks.v1+cell": {
     "cellMetadata": {
      "byteLimit": 2048000,
      "rowLimit": 10000
     },
     "inputWidgets": {},
     "nuid": "6fada6b3-72d5-4256-987c-5b20acd2deda",
     "showTitle": false,
     "title": ""
    }
   },
   "outputs": [
    {
     "output_type": "display_data",
     "data": {
      "text/html": [
       "<style scoped>\n",
       "  .ansiout {\n",
       "    display: block;\n",
       "    unicode-bidi: embed;\n",
       "    white-space: pre-wrap;\n",
       "    word-wrap: break-word;\n",
       "    word-break: break-all;\n",
       "    font-family: \"Source Code Pro\", \"Menlo\", monospace;;\n",
       "    font-size: 13px;\n",
       "    color: #555;\n",
       "    margin-left: 4px;\n",
       "    line-height: 19px;\n",
       "  }\n",
       "</style>"
      ]
     },
     "metadata": {
      "application/vnd.databricks.v1+output": {
       "arguments": {},
       "data": "",
       "errorSummary": "Cancelled",
       "errorTraceType": "html",
       "metadata": {},
       "type": "ipynbError"
      }
     },
     "output_type": "display_data"
    }
   ],
   "source": [
    "master_pull_request_review_event = add_index(master_pull_request_review_event, 'master_pull_request_review_event')\n",
    "\n",
    "master_pull_request_review_event = master_pull_request_review_event.withColumnRenamed('event_id', 'master_event_id').withColumnRenamed('type', 'type_temp')\n",
    "\n",
    "\n",
    "df = (\n",
    "    df.join(master_pull_request_review_event, master_pull_request_review_event.master_event_id == df.event_id, \"left\")\n",
    "    )\n",
    "\n",
    "df.cache()\n",
    "\n",
    "df = df.withColumnRenamed(\"master_pull_request_review_event_id\", 'pull_request_review_event_id').drop(*master_pull_request_review_event.columns).fillna(0, subset = ['pull_request_review_event_id'])\n",
    "\n",
    "df.unpersist()\n",
    "\n",
    "write_df_to_adls(master_pull_request_review_event, 10, 'master_pull_request_review_event_id', 'master_pull_request_review_event', overwrite= True)\n"
   ]
  },
  {
   "cell_type": "markdown",
   "metadata": {
    "application/vnd.databricks.v1+cell": {
     "cellMetadata": {},
     "inputWidgets": {},
     "nuid": "a9561500-e7bf-48c0-a3a2-4e20622d51ba",
     "showTitle": false,
     "title": ""
    }
   },
   "source": [
    "\n",
    "### writing issues, comments, pull_requests and reviews \n",
    "- dropping the event_id because linked with our created clustered index"
   ]
  },
  {
   "cell_type": "code",
   "execution_count": 0,
   "metadata": {
    "application/vnd.databricks.v1+cell": {
     "cellMetadata": {
      "byteLimit": 2048000,
      "rowLimit": 10000
     },
     "inputWidgets": {},
     "nuid": "4697e73e-e008-4d5b-90b1-3fa80b84b8d3",
     "showTitle": false,
     "title": ""
    }
   },
   "outputs": [
    {
     "output_type": "display_data",
     "data": {
      "text/html": [
       "<style scoped>\n",
       "  .ansiout {\n",
       "    display: block;\n",
       "    unicode-bidi: embed;\n",
       "    white-space: pre-wrap;\n",
       "    word-wrap: break-word;\n",
       "    word-break: break-all;\n",
       "    font-family: \"Source Code Pro\", \"Menlo\", monospace;;\n",
       "    font-size: 13px;\n",
       "    color: #555;\n",
       "    margin-left: 4px;\n",
       "    line-height: 19px;\n",
       "  }\n",
       "</style>"
      ]
     },
     "metadata": {
      "application/vnd.databricks.v1+output": {
       "arguments": {},
       "data": "",
       "errorSummary": "Cancelled",
       "errorTraceType": "html",
       "metadata": {},
       "type": "ipynbError"
      }
     },
     "output_type": "display_data"
    }
   ],
   "source": [
    "# todo \n",
    "\n",
    "master_issues = master_issues.drop('event_id')\n",
    "comments_master = comments_master.drop('event_id')\n",
    "master_pull_requests = master_pull_requests.drop('event_id')\n",
    "master_reviews = master_reviews.drop('event_id')\n",
    "\n",
    "\n",
    "write_df_to_adls(master_issues, 10, 'master_issues_id', 'master_issues', overwrite= True)\n",
    "write_df_to_adls(comments_master, 10, 'comment_master_id', 'comments_master', overwrite= True)\n",
    "write_df_to_adls(master_pull_requests, 10, 'master_pull_requests_id', 'master_pull_requests', overwrite= True)\n",
    "write_df_to_adls(master_reviews, 10, 'master_reviews_id', 'master_reviews', overwrite= True)\n",
    "\n",
    "\n",
    "\n",
    "# 1) replace milestone logic \n",
    "# 2) do comments logic and related tables\n",
    "# 3) look at head and body tables for pull_request\n",
    "\n",
    "\n"
   ]
  },
  {
   "cell_type": "markdown",
   "metadata": {
    "application/vnd.databricks.v1+cell": {
     "cellMetadata": {
      "byteLimit": 2048000,
      "rowLimit": 10000
     },
     "inputWidgets": {},
     "nuid": "8711c929-b2fe-45eb-9971-9e2e7702df99",
     "showTitle": false,
     "title": ""
    }
   },
   "source": [
    "\n",
    "### Fork Events"
   ]
  },
  {
   "cell_type": "code",
   "execution_count": 0,
   "metadata": {
    "application/vnd.databricks.v1+cell": {
     "cellMetadata": {
      "byteLimit": 2048000,
      "rowLimit": 10000
     },
     "inputWidgets": {},
     "nuid": "48e30d21-69e7-43f6-9f96-31ce09b2389d",
     "showTitle": false,
     "title": ""
    }
   },
   "outputs": [
    {
     "output_type": "display_data",
     "data": {
      "text/html": [
       "<style scoped>\n",
       "  .ansiout {\n",
       "    display: block;\n",
       "    unicode-bidi: embed;\n",
       "    white-space: pre-wrap;\n",
       "    word-wrap: break-word;\n",
       "    word-break: break-all;\n",
       "    font-family: \"Source Code Pro\", \"Menlo\", monospace;;\n",
       "    font-size: 13px;\n",
       "    color: #555;\n",
       "    margin-left: 4px;\n",
       "    line-height: 19px;\n",
       "  }\n",
       "</style>"
      ]
     },
     "metadata": {
      "application/vnd.databricks.v1+output": {
       "arguments": {},
       "data": "",
       "errorSummary": "Cancelled",
       "errorTraceType": "html",
       "metadata": {},
       "type": "ipynbError"
      }
     },
     "output_type": "display_data"
    }
   ],
   "source": [
    "fork_events_df = df.where(df.type == 'ForkEvent')\n",
    "fork_events_df = rename_payload_cols(fork_events_df, 'forkee')\n",
    "fork_events_df = add_index(fork_events_df, 'master_fork_event')"
   ]
  },
  {
   "cell_type": "code",
   "execution_count": 0,
   "metadata": {
    "application/vnd.databricks.v1+cell": {
     "cellMetadata": {
      "byteLimit": 2048000,
      "rowLimit": 10000
     },
     "inputWidgets": {},
     "nuid": "438c8834-e1b7-4d9e-8fc3-40c216a03297",
     "showTitle": false,
     "title": ""
    }
   },
   "outputs": [
    {
     "output_type": "display_data",
     "data": {
      "text/html": [
       "<style scoped>\n",
       "  .ansiout {\n",
       "    display: block;\n",
       "    unicode-bidi: embed;\n",
       "    white-space: pre-wrap;\n",
       "    word-wrap: break-word;\n",
       "    word-break: break-all;\n",
       "    font-family: \"Source Code Pro\", \"Menlo\", monospace;;\n",
       "    font-size: 13px;\n",
       "    color: #555;\n",
       "    margin-left: 4px;\n",
       "    line-height: 19px;\n",
       "  }\n",
       "</style>"
      ]
     },
     "metadata": {
      "application/vnd.databricks.v1+output": {
       "arguments": {},
       "data": "",
       "errorSummary": "Cancelled",
       "errorTraceType": "html",
       "metadata": {},
       "type": "ipynbError"
      }
     },
     "output_type": "display_data"
    }
   ],
   "source": [
    "fork_event_df = fork_events_df.withColumn('forkee_license_key', col('forkee_license.key')).withColumn('forkee_license_name', col('forkee_license.name')).withColumn('forkee_license_node_id', col('forkee_license.node_id')).withColumn('forkee_license_spdx_id', col('forkee_license.spdx_id')).withColumn('forkee_license_url', col('forkee_license.url')).drop('forkee_license')\n",
    "\n",
    "\n",
    "\n",
    "fork_event_topics = fork_event_df.filter(size(col('forkee_topics')) > 0)\n",
    "fork_event_topics = fork_event_topics.select('*', explode('forkee_topics').alias('forkee_topic'))\n",
    "\n",
    "\n",
    "fork_event_topics = fork_event_topics.select('master_fork_event_id', 'forkee_topic')\n",
    "fork_event_df = fork_event_df.drop('forkee_topics')\n",
    "\n",
    "\n",
    "write_df_to_adls(fork_event_topics, 10, 'forkee_topic', 'fork_event_topics', True)\n"
   ]
  },
  {
   "cell_type": "code",
   "execution_count": 0,
   "metadata": {
    "application/vnd.databricks.v1+cell": {
     "cellMetadata": {
      "byteLimit": 2048000,
      "rowLimit": 10000
     },
     "inputWidgets": {},
     "nuid": "5e348609-4a76-42f3-b919-09b64f67aae4",
     "showTitle": false,
     "title": ""
    }
   },
   "outputs": [
    {
     "output_type": "display_data",
     "data": {
      "text/html": [
       "<style scoped>\n",
       "  .ansiout {\n",
       "    display: block;\n",
       "    unicode-bidi: embed;\n",
       "    white-space: pre-wrap;\n",
       "    word-wrap: break-word;\n",
       "    word-break: break-all;\n",
       "    font-family: \"Source Code Pro\", \"Menlo\", monospace;;\n",
       "    font-size: 13px;\n",
       "    color: #555;\n",
       "    margin-left: 4px;\n",
       "    line-height: 19px;\n",
       "  }\n",
       "</style>"
      ]
     },
     "metadata": {
      "application/vnd.databricks.v1+output": {
       "arguments": {},
       "data": "",
       "errorSummary": "Cancelled",
       "errorTraceType": "html",
       "metadata": {},
       "type": "ipynbError"
      }
     },
     "output_type": "display_data"
    }
   ],
   "source": [
    "# Seperates Issues Users tables from the main issues table and joins to the master Users \n",
    "# and back to the fork_events table\n",
    "\n",
    "forkee_owner = fork_events_df.filter(col('forkee_owner').isNotNull())\n",
    "forkee_owner = subDF(forkee_owner, 'forkee_owner')\n",
    "\n",
    "forkee_owner = add_index(forkee_owner, 'user', master_users_count).withColumnRenamed('event_id', 'issue_event_id')\n",
    "\n",
    "\n",
    "# Linking the forkee_owner with the master user's table and addding new values to the count\n",
    "master_users = master_users.union(forkee_owner).drop_duplicates(subset = ['issue_assignee_id'])\n",
    "master_users_count = master_users.count()\n",
    "\n",
    "\n",
    "# linking user_issues with fork_events table and setting null values to 0 \n",
    "fork_events_df = (\n",
    "            fork_events_df.join(master_users, fork_events_df.forkee_owner.id \n",
    "            == master_users.issue_assignee_id, how= 'left')\n",
    " )\n",
    " \n",
    "fork_events_df.cache()\n",
    "\n",
    "fork_events_df.withColumnRenamed('user_id', 'owner_id').drop(*master_users.columns, 'forkee_owner').fillna(0, subset = ['owner_id'])\n",
    "\n",
    "fork_events_df.unpersist()\n",
    "\n"
   ]
  },
  {
   "cell_type": "code",
   "execution_count": 0,
   "metadata": {
    "application/vnd.databricks.v1+cell": {
     "cellMetadata": {
      "byteLimit": 2048000,
      "rowLimit": 10000
     },
     "inputWidgets": {},
     "nuid": "e3a747c5-bdbc-4797-bce6-d48827cc8ecb",
     "showTitle": false,
     "title": ""
    }
   },
   "outputs": [
    {
     "output_type": "display_data",
     "data": {
      "text/html": [
       "<style scoped>\n",
       "  .ansiout {\n",
       "    display: block;\n",
       "    unicode-bidi: embed;\n",
       "    white-space: pre-wrap;\n",
       "    word-wrap: break-word;\n",
       "    word-break: break-all;\n",
       "    font-family: \"Source Code Pro\", \"Menlo\", monospace;;\n",
       "    font-size: 13px;\n",
       "    color: #555;\n",
       "    margin-left: 4px;\n",
       "    line-height: 19px;\n",
       "  }\n",
       "</style>"
      ]
     },
     "metadata": {
      "application/vnd.databricks.v1+output": {
       "arguments": {},
       "data": "",
       "errorSummary": "Cancelled",
       "errorTraceType": "html",
       "metadata": {},
       "type": "ipynbError"
      }
     },
     "output_type": "display_data"
    }
   ],
   "source": [
    "fork_event_df = fork_event_df.withColumnRenamed('event_id', 'master_event_id').withColumnRenamed('type', 'type_temp')\n",
    "\n",
    "\n",
    "df = df.join(fork_event_df,fork_event_df.master_event_id == df.event_id,\"left\")\n",
    "\n",
    "df.cache()\n",
    "\n",
    "df = df.withColumnRenamed(\"master_fork_event_id\", 'fork_event_id').drop(*fork_event_df.columns).fillna(0, subset = ['fork_event_id'])\n",
    "\n",
    "df.unpersist()\n",
    "\n",
    "write_df_to_adls(fork_event_df, 10, 'master_event_id', 'fork_event', True)"
   ]
  },
  {
   "cell_type": "markdown",
   "metadata": {
    "application/vnd.databricks.v1+cell": {
     "cellMetadata": {
      "byteLimit": 2048000,
      "rowLimit": 10000
     },
     "inputWidgets": {},
     "nuid": "3cc10123-fb8e-4137-8abb-5c774f581462",
     "showTitle": false,
     "title": ""
    }
   },
   "source": [
    "\n",
    "### watch_events"
   ]
  },
  {
   "cell_type": "code",
   "execution_count": 0,
   "metadata": {
    "application/vnd.databricks.v1+cell": {
     "cellMetadata": {
      "byteLimit": 2048000,
      "rowLimit": 10000
     },
     "inputWidgets": {},
     "nuid": "80bea500-7d3e-42d9-8f37-4128344b785b",
     "showTitle": false,
     "title": ""
    }
   },
   "outputs": [
    {
     "output_type": "display_data",
     "data": {
      "text/html": [
       "<style scoped>\n",
       "  .ansiout {\n",
       "    display: block;\n",
       "    unicode-bidi: embed;\n",
       "    white-space: pre-wrap;\n",
       "    word-wrap: break-word;\n",
       "    word-break: break-all;\n",
       "    font-family: \"Source Code Pro\", \"Menlo\", monospace;;\n",
       "    font-size: 13px;\n",
       "    color: #555;\n",
       "    margin-left: 4px;\n",
       "    line-height: 19px;\n",
       "  }\n",
       "</style>"
      ]
     },
     "metadata": {
      "application/vnd.databricks.v1+output": {
       "arguments": {},
       "data": "",
       "errorSummary": "Cancelled",
       "errorTraceType": "html",
       "metadata": {},
       "type": "ipynbError"
      }
     },
     "output_type": "display_data"
    }
   ],
   "source": [
    "watch_events = df.select('event_id', 'payload.action').where(df.type == 'WatchEvent').withColumn('event_id', df.event_id.cast(LongType()))\n",
    "\n",
    "# add index\n",
    "watch_events = add_index(watch_events, 'watch_event', 1)\n",
    "\n",
    "# add watch_events_df empty row\n",
    "temp_watch_events = spark.createDataFrame([(0,  0, None)], watch_events.schema)\n",
    "\n",
    "watch_events = temp_watch_events.union(watch_events)\n",
    "\n",
    "watch_events.printSchema()\n"
   ]
  },
  {
   "cell_type": "code",
   "execution_count": 0,
   "metadata": {
    "application/vnd.databricks.v1+cell": {
     "cellMetadata": {
      "byteLimit": 2048000,
      "rowLimit": 10000
     },
     "inputWidgets": {},
     "nuid": "ae8e2975-a49a-4201-b543-71550433248d",
     "showTitle": false,
     "title": ""
    }
   },
   "outputs": [
    {
     "output_type": "display_data",
     "data": {
      "text/html": [
       "<style scoped>\n",
       "  .ansiout {\n",
       "    display: block;\n",
       "    unicode-bidi: embed;\n",
       "    white-space: pre-wrap;\n",
       "    word-wrap: break-word;\n",
       "    word-break: break-all;\n",
       "    font-family: \"Source Code Pro\", \"Menlo\", monospace;;\n",
       "    font-size: 13px;\n",
       "    color: #555;\n",
       "    margin-left: 4px;\n",
       "    line-height: 19px;\n",
       "  }\n",
       "</style>"
      ]
     },
     "metadata": {
      "application/vnd.databricks.v1+output": {
       "arguments": {},
       "data": "",
       "errorSummary": "Cancelled",
       "errorTraceType": "html",
       "metadata": {},
       "type": "ipynbError"
      }
     },
     "output_type": "display_data"
    }
   ],
   "source": [
    "watch_events = watch_events.withColumnRenamed('event_id', 'master_event_id').withColumnRenamed('type', 'type_temp').withColumnRenamed('watch_event_id', 'master_watch_event_id')\n",
    "\n",
    "\n",
    "df = df.join(watch_events,watch_events.master_event_id == df.event_id,\"left\")\n",
    "\n",
    "df.cache()\n",
    "\n",
    "df = df.withColumnRenamed(\"master_watch_event_id\", 'watch_event_id').drop(*watch_events.columns).fillna(0, subset = ['watch_event_id'])\n",
    "\n",
    "df.unpersist()\n",
    "\n",
    "write_df_to_adls(watch_events, 10, 'master_event_id', 'watch_events', True)"
   ]
  },
  {
   "cell_type": "markdown",
   "metadata": {
    "application/vnd.databricks.v1+cell": {
     "cellMetadata": {
      "byteLimit": 2048000,
      "rowLimit": 10000
     },
     "inputWidgets": {},
     "nuid": "42ecb30b-ea88-4459-b983-149ed9032f9c",
     "showTitle": false,
     "title": ""
    }
   },
   "source": [
    "\n",
    "### Member Events"
   ]
  },
  {
   "cell_type": "code",
   "execution_count": 0,
   "metadata": {
    "application/vnd.databricks.v1+cell": {
     "cellMetadata": {
      "byteLimit": 2048000,
      "rowLimit": 10000
     },
     "inputWidgets": {},
     "nuid": "ef2f7040-97f8-4d7f-86f5-12d2ed98a9ed",
     "showTitle": false,
     "title": ""
    }
   },
   "outputs": [
    {
     "output_type": "display_data",
     "data": {
      "text/html": [
       "<style scoped>\n",
       "  .ansiout {\n",
       "    display: block;\n",
       "    unicode-bidi: embed;\n",
       "    white-space: pre-wrap;\n",
       "    word-wrap: break-word;\n",
       "    word-break: break-all;\n",
       "    font-family: \"Source Code Pro\", \"Menlo\", monospace;;\n",
       "    font-size: 13px;\n",
       "    color: #555;\n",
       "    margin-left: 4px;\n",
       "    line-height: 19px;\n",
       "  }\n",
       "</style>"
      ]
     },
     "metadata": {
      "application/vnd.databricks.v1+output": {
       "arguments": {},
       "data": "",
       "errorSummary": "Cancelled",
       "errorTraceType": "html",
       "metadata": {},
       "type": "ipynbError"
      }
     },
     "output_type": "display_data"
    }
   ],
   "source": [
    "member_event_df = df.select('event_id', 'payload.action', 'payload.member').where(df.type == 'MemberEvent')\n",
    "member_event_df = add_index(member_event_df, 'member_event')\n",
    "\n",
    "member_users = subDF(member_event_df, 'member')\n",
    "\n",
    "member_users = add_index(member_users, 'user', master_users_count).withColumnRenamed('event_id', 'issue_event_id')\n",
    "\n",
    "# Linking the issue_users with the master user's table and addding new values to the count\n",
    "master_users = master_users.union(member_users).drop_duplicates(subset = ['issue_assignee_id'])\n",
    "\n",
    "master_users_count = master_users.count()\n",
    "\n",
    "\n",
    "# linking user_issues with master_issues table and setting null values to 0 \n",
    "member_event_df = (\n",
    "            member_event_df.join(master_users, member_event_df.member.id \n",
    "            == master_users.issue_assignee_id, how= 'left')\n",
    ")\n",
    "\n",
    "\n",
    "member_event_df.cache()\n",
    "\n",
    "member_event_df = member_event_df.withColumnRenamed('user_id', 'members_id').drop(*master_users.columns).drop('member').fillna(0, 'members_id')\n",
    "\n",
    "member_event_df = member_event_df.withColumnRenamed('event_id', 'master_event_id').withColumnRenamed('type', 'type_temp').withColumnRenamed('member_event_id', 'master_member_event_id')\n",
    "\n",
    "member_event_df.unpersist()\n",
    "\n",
    "\n",
    "# df = df.join(watch_events,watch_events.master_event_id == df.event_id,\"left\").withColumn(\"watch_event_id\", col('master_watch_event_id')).drop(*watch_events.columns).fillna(0, subset = ['watch_event_id'])\n",
    "\n",
    "\n",
    "df = df.join(member_event_df,member_event_df.master_event_id == df.event_id,\"left\")\n",
    "\n",
    "df.cache()\n",
    "\n",
    "df = df.withColumn(\"member_event_id\", col('master_member_event_id')).drop(*member_event_df.columns).fillna(0, subset = ['member_event_id'])\n",
    "\n",
    "df.unpersist()\n",
    "\n",
    "write_df_to_adls(member_event_df, 10, 'master_event_id', 'member_event', True)\n"
   ]
  },
  {
   "cell_type": "markdown",
   "metadata": {
    "application/vnd.databricks.v1+cell": {
     "cellMetadata": {
      "byteLimit": 2048000,
      "rowLimit": 10000
     },
     "inputWidgets": {},
     "nuid": "57d45ce8-02b1-483c-bb6c-94851f549da9",
     "showTitle": false,
     "title": ""
    }
   },
   "source": [
    "# Azim's "
   ]
  },
  {
   "cell_type": "markdown",
   "metadata": {
    "application/vnd.databricks.v1+cell": {
     "cellMetadata": {
      "byteLimit": 2048000,
      "rowLimit": 10000
     },
     "inputWidgets": {},
     "nuid": "878ac423-3d53-4519-9ba6-76d1ea499039",
     "showTitle": false,
     "title": ""
    }
   },
   "source": [
    "### Create Event"
   ]
  },
  {
   "cell_type": "code",
   "execution_count": 0,
   "metadata": {
    "application/vnd.databricks.v1+cell": {
     "cellMetadata": {
      "byteLimit": 2048000,
      "rowLimit": 10000
     },
     "inputWidgets": {},
     "nuid": "da71c046-52ad-4a95-90de-5d5d8ebbfc09",
     "showTitle": false,
     "title": ""
    }
   },
   "outputs": [
    {
     "output_type": "display_data",
     "data": {
      "text/html": [
       "<style scoped>\n",
       "  .ansiout {\n",
       "    display: block;\n",
       "    unicode-bidi: embed;\n",
       "    white-space: pre-wrap;\n",
       "    word-wrap: break-word;\n",
       "    word-break: break-all;\n",
       "    font-family: \"Source Code Pro\", \"Menlo\", monospace;;\n",
       "    font-size: 13px;\n",
       "    color: #555;\n",
       "    margin-left: 4px;\n",
       "    line-height: 19px;\n",
       "  }\n",
       "</style>"
      ]
     },
     "metadata": {
      "application/vnd.databricks.v1+output": {
       "arguments": {},
       "data": "",
       "errorSummary": "Cancelled",
       "errorTraceType": "html",
       "metadata": {},
       "type": "ipynbError"
      }
     },
     "output_type": "display_data"
    }
   ],
   "source": [
    "df_ce = df.filter(df.type==\"CreateEvent\")\n",
    "df_ce = add_index(df_ce,\"create_event\")\n",
    "df_ce = subDFWithMasterID2(df_ce,\"payload\",\"create_event_id\")\n",
    "df_ce = drop_null_columns(df_ce)\n",
    "tempToDrop = df_ce.select(\"event_id\",\"create_event_id\")\n",
    "df = df.join(tempToDrop,\"event_id\",\"left\")\n",
    "df.cache()\n",
    "df = df.fillna(0,subset=\"create_event_id\")\n",
    "df.unpersist()\n",
    "df_ce = df_ce.drop(\"event_id\")"
   ]
  },
  {
   "cell_type": "code",
   "execution_count": 0,
   "metadata": {
    "application/vnd.databricks.v1+cell": {
     "cellMetadata": {
      "byteLimit": 2048000,
      "rowLimit": 10000
     },
     "inputWidgets": {},
     "nuid": "458fa797-5e09-4bc1-b6d2-27b736661c24",
     "showTitle": false,
     "title": ""
    }
   },
   "outputs": [
    {
     "output_type": "display_data",
     "data": {
      "text/html": [
       "<style scoped>\n",
       "  .ansiout {\n",
       "    display: block;\n",
       "    unicode-bidi: embed;\n",
       "    white-space: pre-wrap;\n",
       "    word-wrap: break-word;\n",
       "    word-break: break-all;\n",
       "    font-family: \"Source Code Pro\", \"Menlo\", monospace;;\n",
       "    font-size: 13px;\n",
       "    color: #555;\n",
       "    margin-left: 4px;\n",
       "    line-height: 19px;\n",
       "  }\n",
       "</style>"
      ]
     },
     "metadata": {
      "application/vnd.databricks.v1+output": {
       "arguments": {},
       "data": "",
       "errorSummary": "Cancelled",
       "errorTraceType": "html",
       "metadata": {},
       "type": "ipynbError"
      }
     },
     "output_type": "display_data"
    }
   ],
   "source": [
    "write_df_to_adls(df_ce,10,\"create_event_id\", 'create_event',True)\n"
   ]
  },
  {
   "cell_type": "code",
   "execution_count": 0,
   "metadata": {
    "application/vnd.databricks.v1+cell": {
     "cellMetadata": {
      "byteLimit": 2048000,
      "rowLimit": 10000
     },
     "inputWidgets": {},
     "nuid": "0c414e1e-1659-48a9-a73e-06670535a103",
     "showTitle": false,
     "title": ""
    }
   },
   "outputs": [
    {
     "output_type": "display_data",
     "data": {
      "text/html": [
       "<style scoped>\n",
       "  .ansiout {\n",
       "    display: block;\n",
       "    unicode-bidi: embed;\n",
       "    white-space: pre-wrap;\n",
       "    word-wrap: break-word;\n",
       "    word-break: break-all;\n",
       "    font-family: \"Source Code Pro\", \"Menlo\", monospace;;\n",
       "    font-size: 13px;\n",
       "    color: #555;\n",
       "    margin-left: 4px;\n",
       "    line-height: 19px;\n",
       "  }\n",
       "</style>"
      ]
     },
     "metadata": {
      "application/vnd.databricks.v1+output": {
       "arguments": {},
       "data": "",
       "errorSummary": "Cancelled",
       "errorTraceType": "html",
       "metadata": {},
       "type": "ipynbError"
      }
     },
     "output_type": "display_data"
    }
   ],
   "source": [
    "#dbutils.notebook.exit(\"Create Event finished\")\n",
    "print(\"Create Event finished\")"
   ]
  },
  {
   "cell_type": "markdown",
   "metadata": {
    "application/vnd.databricks.v1+cell": {
     "cellMetadata": {
      "byteLimit": 2048000,
      "rowLimit": 10000
     },
     "inputWidgets": {},
     "nuid": "51aadc13-3844-48f7-a825-fcb41952c668",
     "showTitle": false,
     "title": ""
    }
   },
   "source": [
    "### Delete Event"
   ]
  },
  {
   "cell_type": "code",
   "execution_count": 0,
   "metadata": {
    "application/vnd.databricks.v1+cell": {
     "cellMetadata": {
      "byteLimit": 2048000,
      "rowLimit": 10000
     },
     "inputWidgets": {},
     "nuid": "4288f2c1-bf3d-4f22-b850-4eecaa2356fe",
     "showTitle": false,
     "title": ""
    }
   },
   "outputs": [
    {
     "output_type": "display_data",
     "data": {
      "text/html": [
       "<style scoped>\n",
       "  .ansiout {\n",
       "    display: block;\n",
       "    unicode-bidi: embed;\n",
       "    white-space: pre-wrap;\n",
       "    word-wrap: break-word;\n",
       "    word-break: break-all;\n",
       "    font-family: \"Source Code Pro\", \"Menlo\", monospace;;\n",
       "    font-size: 13px;\n",
       "    color: #555;\n",
       "    margin-left: 4px;\n",
       "    line-height: 19px;\n",
       "  }\n",
       "</style>"
      ]
     },
     "metadata": {
      "application/vnd.databricks.v1+output": {
       "arguments": {},
       "data": "",
       "errorSummary": "Cancelled",
       "errorTraceType": "html",
       "metadata": {},
       "type": "ipynbError"
      }
     },
     "output_type": "display_data"
    }
   ],
   "source": [
    "df_del = df.filter(df.type==\"DeleteEvent\")\n",
    "df_del = add_index(df_del,\"delete_event\")\n",
    "df_del = drop_null_columns(subDFWithMasterID2(df_del,\"payload\",\"delete_event_id\"))\n",
    "tempToDrop = df_del.select(\"event_id\",\"delete_event_id\")\n",
    "df = df.join(tempToDrop,\"event_id\",\"left\")\n",
    "df.cache()\n",
    "df = df.fillna(0,subset=\"delete_event_id\")\n",
    "df.unpersist()\n",
    "df_del = df_del.drop(\"event_id\")"
   ]
  },
  {
   "cell_type": "code",
   "execution_count": 0,
   "metadata": {
    "application/vnd.databricks.v1+cell": {
     "cellMetadata": {
      "byteLimit": 2048000,
      "rowLimit": 10000
     },
     "inputWidgets": {},
     "nuid": "332fa98a-8e72-4647-adde-9babf8eed349",
     "showTitle": false,
     "title": ""
    }
   },
   "outputs": [
    {
     "output_type": "display_data",
     "data": {
      "text/html": [
       "<style scoped>\n",
       "  .ansiout {\n",
       "    display: block;\n",
       "    unicode-bidi: embed;\n",
       "    white-space: pre-wrap;\n",
       "    word-wrap: break-word;\n",
       "    word-break: break-all;\n",
       "    font-family: \"Source Code Pro\", \"Menlo\", monospace;;\n",
       "    font-size: 13px;\n",
       "    color: #555;\n",
       "    margin-left: 4px;\n",
       "    line-height: 19px;\n",
       "  }\n",
       "</style>"
      ]
     },
     "metadata": {
      "application/vnd.databricks.v1+output": {
       "arguments": {},
       "data": "",
       "errorSummary": "Cancelled",
       "errorTraceType": "html",
       "metadata": {},
       "type": "ipynbError"
      }
     },
     "output_type": "display_data"
    }
   ],
   "source": [
    "write_df_to_adls(df_del,10,\"delete_event_id\",'delete_event',True)"
   ]
  },
  {
   "cell_type": "code",
   "execution_count": 0,
   "metadata": {
    "application/vnd.databricks.v1+cell": {
     "cellMetadata": {
      "byteLimit": 2048000,
      "rowLimit": 10000
     },
     "inputWidgets": {},
     "nuid": "2a3ca05b-ba13-406d-a6ae-9250524a2fd7",
     "showTitle": false,
     "title": ""
    }
   },
   "outputs": [
    {
     "output_type": "display_data",
     "data": {
      "text/html": [
       "<style scoped>\n",
       "  .ansiout {\n",
       "    display: block;\n",
       "    unicode-bidi: embed;\n",
       "    white-space: pre-wrap;\n",
       "    word-wrap: break-word;\n",
       "    word-break: break-all;\n",
       "    font-family: \"Source Code Pro\", \"Menlo\", monospace;;\n",
       "    font-size: 13px;\n",
       "    color: #555;\n",
       "    margin-left: 4px;\n",
       "    line-height: 19px;\n",
       "  }\n",
       "</style>"
      ]
     },
     "metadata": {
      "application/vnd.databricks.v1+output": {
       "arguments": {},
       "data": "",
       "errorSummary": "Cancelled",
       "errorTraceType": "html",
       "metadata": {},
       "type": "ipynbError"
      }
     },
     "output_type": "display_data"
    }
   ],
   "source": [
    "#TODO\n",
    "# Save the df_del to the parquet file. This has details about all the DeleteEvents\n",
    "#dbutils.notebook.exit(\"Delete Event finished\")\n",
    "print(\"Delete Event finished\")"
   ]
  },
  {
   "cell_type": "markdown",
   "metadata": {
    "application/vnd.databricks.v1+cell": {
     "cellMetadata": {
      "byteLimit": 2048000,
      "rowLimit": 10000
     },
     "inputWidgets": {},
     "nuid": "bbf2bc6b-2e14-413b-a548-865a81802ee0",
     "showTitle": false,
     "title": ""
    }
   },
   "source": [
    "### Gollum Event"
   ]
  },
  {
   "cell_type": "code",
   "execution_count": 0,
   "metadata": {
    "application/vnd.databricks.v1+cell": {
     "cellMetadata": {
      "byteLimit": 2048000,
      "rowLimit": 10000
     },
     "inputWidgets": {},
     "nuid": "8182daec-8cb7-419d-a5eb-6063744127b2",
     "showTitle": false,
     "title": ""
    }
   },
   "outputs": [
    {
     "output_type": "display_data",
     "data": {
      "text/html": [
       "<style scoped>\n",
       "  .ansiout {\n",
       "    display: block;\n",
       "    unicode-bidi: embed;\n",
       "    white-space: pre-wrap;\n",
       "    word-wrap: break-word;\n",
       "    word-break: break-all;\n",
       "    font-family: \"Source Code Pro\", \"Menlo\", monospace;;\n",
       "    font-size: 13px;\n",
       "    color: #555;\n",
       "    margin-left: 4px;\n",
       "    line-height: 19px;\n",
       "  }\n",
       "</style>"
      ]
     },
     "metadata": {
      "application/vnd.databricks.v1+output": {
       "arguments": {},
       "data": "",
       "errorSummary": "Cancelled",
       "errorTraceType": "html",
       "metadata": {},
       "type": "ipynbError"
      }
     },
     "output_type": "display_data"
    }
   ],
   "source": [
    "df_gol = df.filter(df.type==\"GollumEvent\")\n",
    "df_gol = add_index(df_gol,\"gollum_event\")\n",
    "df_gol = subDFWithMasterID2(df_gol,\"payload\",\"gollum_event_id\")\n",
    "df_gol = drop_null_columns(df_gol)\n",
    "df_pages_gol = df_gol.select(\"event_id\",\"gollum_event_id\",explode(\"payload_pages\").alias(\"payload_pages\"))\n",
    "df_pages_gol = add_index(df_pages_gol,\"gollum_page\")\n",
    "df_pages_gol = subDFWithMasterID2(df_pages_gol,\"payload_pages\",\"gollum_page_id\",\"gollum_event_id\")\n",
    "tempToDrop = df_gol.select(\"event_id\",\"gollum_event_id\")\n",
    "df = df.join(tempToDrop,\"event_id\",\"left\")\n",
    "df.cache()\n",
    "df = df.fillna(0,subset=\"gollum_event_id\")\n",
    "df.unpersist()\n",
    "df_pages_gol = df_pages_gol.drop(\"event_id\")\n",
    "df_gol = df_gol.drop(\"event_id\")"
   ]
  },
  {
   "cell_type": "code",
   "execution_count": 0,
   "metadata": {
    "application/vnd.databricks.v1+cell": {
     "cellMetadata": {
      "byteLimit": 2048000,
      "rowLimit": 10000
     },
     "inputWidgets": {},
     "nuid": "5fa23c9b-2cf1-491a-9167-bad541cc5d13",
     "showTitle": false,
     "title": ""
    }
   },
   "outputs": [
    {
     "output_type": "display_data",
     "data": {
      "text/html": [
       "<style scoped>\n",
       "  .ansiout {\n",
       "    display: block;\n",
       "    unicode-bidi: embed;\n",
       "    white-space: pre-wrap;\n",
       "    word-wrap: break-word;\n",
       "    word-break: break-all;\n",
       "    font-family: \"Source Code Pro\", \"Menlo\", monospace;;\n",
       "    font-size: 13px;\n",
       "    color: #555;\n",
       "    margin-left: 4px;\n",
       "    line-height: 19px;\n",
       "  }\n",
       "</style>"
      ]
     },
     "metadata": {
      "application/vnd.databricks.v1+output": {
       "arguments": {},
       "data": "",
       "errorSummary": "Cancelled",
       "errorTraceType": "html",
       "metadata": {},
       "type": "ipynbError"
      }
     },
     "output_type": "display_data"
    }
   ],
   "source": [
    "write_df_to_adls(df_pages_gol,10,\"gollum_page_id\",\"gollum_page\",True)"
   ]
  },
  {
   "cell_type": "code",
   "execution_count": 0,
   "metadata": {
    "application/vnd.databricks.v1+cell": {
     "cellMetadata": {
      "byteLimit": 2048000,
      "rowLimit": 10000
     },
     "inputWidgets": {},
     "nuid": "fab074dc-e079-4ba0-a9aa-7b034aabae28",
     "showTitle": false,
     "title": ""
    }
   },
   "outputs": [
    {
     "output_type": "display_data",
     "data": {
      "text/html": [
       "<style scoped>\n",
       "  .ansiout {\n",
       "    display: block;\n",
       "    unicode-bidi: embed;\n",
       "    white-space: pre-wrap;\n",
       "    word-wrap: break-word;\n",
       "    word-break: break-all;\n",
       "    font-family: \"Source Code Pro\", \"Menlo\", monospace;;\n",
       "    font-size: 13px;\n",
       "    color: #555;\n",
       "    margin-left: 4px;\n",
       "    line-height: 19px;\n",
       "  }\n",
       "</style>"
      ]
     },
     "metadata": {
      "application/vnd.databricks.v1+output": {
       "arguments": {},
       "data": "",
       "errorSummary": "Cancelled",
       "errorTraceType": "html",
       "metadata": {},
       "type": "ipynbError"
      }
     },
     "output_type": "display_data"
    }
   ],
   "source": [
    "#TODO\n",
    "#Save the df df_pages_gol to a parquet file\n",
    "#dbutils.notebook.exit(\"Gollum Event finished\")\n",
    "print(\"Gollum Event finished\")"
   ]
  },
  {
   "cell_type": "markdown",
   "metadata": {
    "application/vnd.databricks.v1+cell": {
     "cellMetadata": {
      "byteLimit": 2048000,
      "rowLimit": 10000
     },
     "inputWidgets": {},
     "nuid": "18a4d611-fba1-4e52-bceb-2383854deccd",
     "showTitle": false,
     "title": ""
    }
   },
   "source": [
    "### Release Event"
   ]
  },
  {
   "cell_type": "code",
   "execution_count": 0,
   "metadata": {
    "application/vnd.databricks.v1+cell": {
     "cellMetadata": {
      "byteLimit": 2048000,
      "rowLimit": 10000
     },
     "inputWidgets": {},
     "nuid": "cfb801df-55ad-4318-b5b0-7fea0cbfbfe9",
     "showTitle": false,
     "title": ""
    }
   },
   "outputs": [
    {
     "output_type": "display_data",
     "data": {
      "text/html": [
       "<style scoped>\n",
       "  .ansiout {\n",
       "    display: block;\n",
       "    unicode-bidi: embed;\n",
       "    white-space: pre-wrap;\n",
       "    word-wrap: break-word;\n",
       "    word-break: break-all;\n",
       "    font-family: \"Source Code Pro\", \"Menlo\", monospace;;\n",
       "    font-size: 13px;\n",
       "    color: #555;\n",
       "    margin-left: 4px;\n",
       "    line-height: 19px;\n",
       "  }\n",
       "</style>"
      ]
     },
     "metadata": {
      "application/vnd.databricks.v1+output": {
       "arguments": {},
       "data": "",
       "errorSummary": "Cancelled",
       "errorTraceType": "html",
       "metadata": {},
       "type": "ipynbError"
      }
     },
     "output_type": "display_data"
    }
   ],
   "source": [
    "df_release = df.filter(col('type') == 'ReleaseEvent')\n",
    "df_release = rename_payload_cols(df_release, 'release')\n",
    "df_release = add_index(df_release, 'master_release')"
   ]
  },
  {
   "cell_type": "code",
   "execution_count": 0,
   "metadata": {
    "application/vnd.databricks.v1+cell": {
     "cellMetadata": {
      "byteLimit": 2048000,
      "rowLimit": 10000
     },
     "inputWidgets": {},
     "nuid": "8ba7c98a-4bb1-4e81-8419-299c8e755db0",
     "showTitle": false,
     "title": ""
    }
   },
   "outputs": [
    {
     "output_type": "display_data",
     "data": {
      "text/html": [
       "<style scoped>\n",
       "  .ansiout {\n",
       "    display: block;\n",
       "    unicode-bidi: embed;\n",
       "    white-space: pre-wrap;\n",
       "    word-wrap: break-word;\n",
       "    word-break: break-all;\n",
       "    font-family: \"Source Code Pro\", \"Menlo\", monospace;;\n",
       "    font-size: 13px;\n",
       "    color: #555;\n",
       "    margin-left: 4px;\n",
       "    line-height: 19px;\n",
       "  }\n",
       "</style>"
      ]
     },
     "metadata": {
      "application/vnd.databricks.v1+output": {
       "arguments": {},
       "data": "",
       "errorSummary": "Cancelled",
       "errorTraceType": "html",
       "metadata": {},
       "type": "ipynbError"
      }
     },
     "output_type": "display_data"
    }
   ],
   "source": [
    "\n",
    "df_release_assets = df_release.filter(size(col('release_assets')) > 0)\n",
    "df_release_assets = df_release_assets.select('*', explode('release_assets').alias('release_asset'))\n",
    "\n",
    "df_release_assets = subDFWithMasterID(df_release_assets, 'release_asset', 'release')\n",
    "\n",
    "df_release_assets = add_index(df_release_assets, 'release_assets')\n",
    "\n",
    "\n"
   ]
  },
  {
   "cell_type": "code",
   "execution_count": 0,
   "metadata": {
    "application/vnd.databricks.v1+cell": {
     "cellMetadata": {
      "byteLimit": 2048000,
      "rowLimit": 10000
     },
     "inputWidgets": {},
     "nuid": "80483e41-0868-4a1c-b2ec-50755efdb59e",
     "showTitle": false,
     "title": ""
    }
   },
   "outputs": [
    {
     "output_type": "display_data",
     "data": {
      "text/html": [
       "<style scoped>\n",
       "  .ansiout {\n",
       "    display: block;\n",
       "    unicode-bidi: embed;\n",
       "    white-space: pre-wrap;\n",
       "    word-wrap: break-word;\n",
       "    word-break: break-all;\n",
       "    font-family: \"Source Code Pro\", \"Menlo\", monospace;;\n",
       "    font-size: 13px;\n",
       "    color: #555;\n",
       "    margin-left: 4px;\n",
       "    line-height: 19px;\n",
       "  }\n",
       "</style>"
      ]
     },
     "metadata": {
      "application/vnd.databricks.v1+output": {
       "arguments": {},
       "data": "",
       "errorSummary": "Cancelled",
       "errorTraceType": "html",
       "metadata": {},
       "type": "ipynbError"
      }
     },
     "output_type": "display_data"
    }
   ],
   "source": [
    "release_asset_uploader = df_release_assets.filter(col('release_asset_uploader').isNotNull())\n",
    "release_asset_uploader = subDF(release_asset_uploader, 'release_asset_uploader')\n",
    "\n",
    "release_asset_uploader = add_index(release_asset_uploader, 'user', master_users_count).withColumnRenamed('event_id', 'pr_event_id')\n",
    "\n",
    "# Linking the release_asset_uploader with the master user's table and addding new values to the count\n",
    "master_users = master_users.union(release_asset_uploader).drop_duplicates(subset = ['issue_assignee_id'])\n",
    "master_users_count = master_users.count()\n",
    "\n",
    "# linking user_issues with master_issues table and setting null values to 0 \n",
    "df_release_assets = (\n",
    "            df_release_assets.join(master_users, df_release_assets.release_asset_uploader.id \n",
    "            == master_users.issue_assignee_id, how= 'left')\n",
    " )\n",
    "\n",
    "df_release_assets.cache()\n",
    "\n",
    "df_release_assets =df_release_assets.withColumnRenamed('user_id', 'release_asset_uploader_id').drop(*master_users.columns,'release_asset_uploader').fillna(0, subset = ['release_asset_uploader_id'])\n",
    "\n",
    "df_release_assets.unpersist()\n",
    "\n"
   ]
  },
  {
   "cell_type": "code",
   "execution_count": 0,
   "metadata": {
    "application/vnd.databricks.v1+cell": {
     "cellMetadata": {
      "byteLimit": 2048000,
      "rowLimit": 10000
     },
     "inputWidgets": {},
     "nuid": "53c1ecf2-9f9c-4416-8f95-fa7a08303355",
     "showTitle": false,
     "title": ""
    }
   },
   "outputs": [
    {
     "output_type": "display_data",
     "data": {
      "text/html": [
       "<style scoped>\n",
       "  .ansiout {\n",
       "    display: block;\n",
       "    unicode-bidi: embed;\n",
       "    white-space: pre-wrap;\n",
       "    word-wrap: break-word;\n",
       "    word-break: break-all;\n",
       "    font-family: \"Source Code Pro\", \"Menlo\", monospace;;\n",
       "    font-size: 13px;\n",
       "    color: #555;\n",
       "    margin-left: 4px;\n",
       "    line-height: 19px;\n",
       "  }\n",
       "</style>"
      ]
     },
     "metadata": {
      "application/vnd.databricks.v1+output": {
       "arguments": {},
       "data": "",
       "errorSummary": "Cancelled",
       "errorTraceType": "html",
       "metadata": {},
       "type": "ipynbError"
      }
     },
     "output_type": "display_data"
    }
   ],
   "source": [
    "\n",
    "\n",
    "df_release_mentions = df_release.filter(size(col('release_mentions')) > 0).select('*', explode('release_mentions').alias('release_mention'))\n",
    "\n",
    "df_release_mentions = subDFWithMasterID(df_release_mentions, 'release_mention', 'release')\n",
    "\n"
   ]
  },
  {
   "cell_type": "code",
   "execution_count": 0,
   "metadata": {
    "application/vnd.databricks.v1+cell": {
     "cellMetadata": {
      "byteLimit": 2048000,
      "rowLimit": 10000
     },
     "inputWidgets": {},
     "nuid": "c8a71ac6-0dc4-4d30-b52d-bc4201c09e1b",
     "showTitle": false,
     "title": ""
    }
   },
   "outputs": [
    {
     "output_type": "display_data",
     "data": {
      "text/html": [
       "<style scoped>\n",
       "  .ansiout {\n",
       "    display: block;\n",
       "    unicode-bidi: embed;\n",
       "    white-space: pre-wrap;\n",
       "    word-wrap: break-word;\n",
       "    word-break: break-all;\n",
       "    font-family: \"Source Code Pro\", \"Menlo\", monospace;;\n",
       "    font-size: 13px;\n",
       "    color: #555;\n",
       "    margin-left: 4px;\n",
       "    line-height: 19px;\n",
       "  }\n",
       "</style>"
      ]
     },
     "metadata": {
      "application/vnd.databricks.v1+output": {
       "arguments": {},
       "data": "",
       "errorSummary": "Cancelled",
       "errorTraceType": "html",
       "metadata": {},
       "type": "ipynbError"
      }
     },
     "output_type": "display_data"
    }
   ],
   "source": [
    "release_author = df_release.filter(col('release_author').isNotNull())\n",
    "release_author = subDF(release_author, 'release_author')\n",
    "\n",
    "release_author = add_index(release_author, 'user', master_users_count).withColumnRenamed('event_id', 'pr_event_id')\n",
    "\n",
    "# Linking the release_author with the master user's table and addding new values to the count\n",
    "master_users = master_users.union(release_author).drop_duplicates(subset = ['issue_assignee_id'])\n",
    "master_users_count = master_users.count()\n",
    "# linking user_issues with master_issues table and setting null values to 0 \n",
    "df_release = (\n",
    "            df_release.join(master_users, df_release.release_author.id \n",
    "            == master_users.issue_assignee_id, how= 'left'))\n",
    "df_release.cache()\n",
    "\n",
    "df_release = df_release.withColumnRenamed('user_id', 'release_author_id').drop(*master_users.columns,'release_author').fillna(0, subset = ['release_author_id'])\n",
    "\n",
    "df_release.unpersist()"
   ]
  },
  {
   "cell_type": "code",
   "execution_count": 0,
   "metadata": {
    "application/vnd.databricks.v1+cell": {
     "cellMetadata": {
      "byteLimit": 2048000,
      "rowLimit": 10000
     },
     "inputWidgets": {},
     "nuid": "a934ceeb-c242-48af-8d13-b01cba9b4286",
     "showTitle": false,
     "title": ""
    }
   },
   "outputs": [
    {
     "output_type": "display_data",
     "data": {
      "text/html": [
       "<style scoped>\n",
       "  .ansiout {\n",
       "    display: block;\n",
       "    unicode-bidi: embed;\n",
       "    white-space: pre-wrap;\n",
       "    word-wrap: break-word;\n",
       "    word-break: break-all;\n",
       "    font-family: \"Source Code Pro\", \"Menlo\", monospace;;\n",
       "    font-size: 13px;\n",
       "    color: #555;\n",
       "    margin-left: 4px;\n",
       "    line-height: 19px;\n",
       "  }\n",
       "</style>"
      ]
     },
     "metadata": {
      "application/vnd.databricks.v1+output": {
       "arguments": {},
       "data": "",
       "errorSummary": "Cancelled",
       "errorTraceType": "html",
       "metadata": {},
       "type": "ipynbError"
      }
     },
     "output_type": "display_data"
    }
   ],
   "source": [
    "df_release = df_release.drop('release_mentions', 'release_assets', 'release_reactions')"
   ]
  },
  {
   "cell_type": "code",
   "execution_count": 0,
   "metadata": {
    "application/vnd.databricks.v1+cell": {
     "cellMetadata": {
      "byteLimit": 2048000,
      "rowLimit": 10000
     },
     "inputWidgets": {},
     "nuid": "f708c7b8-8117-4834-a498-dcb3a01abf70",
     "showTitle": false,
     "title": ""
    }
   },
   "outputs": [
    {
     "output_type": "display_data",
     "data": {
      "text/html": [
       "<style scoped>\n",
       "  .ansiout {\n",
       "    display: block;\n",
       "    unicode-bidi: embed;\n",
       "    white-space: pre-wrap;\n",
       "    word-wrap: break-word;\n",
       "    word-break: break-all;\n",
       "    font-family: \"Source Code Pro\", \"Menlo\", monospace;;\n",
       "    font-size: 13px;\n",
       "    color: #555;\n",
       "    margin-left: 4px;\n",
       "    line-height: 19px;\n",
       "  }\n",
       "</style>"
      ]
     },
     "metadata": {
      "application/vnd.databricks.v1+output": {
       "arguments": {},
       "data": "",
       "errorSummary": "Cancelled",
       "errorTraceType": "html",
       "metadata": {},
       "type": "ipynbError"
      }
     },
     "output_type": "display_data"
    }
   ],
   "source": [
    "write_df_to_adls(df_release,10,\"master_event_id\",'release_event',True)\n",
    "write_df_to_adls(df_release_mentions,10, \"master_release_id\", 'release_mentions',True)\n",
    "write_df_to_adls(df_release_assets,10,\"master_release_id\",'release_assets',True)\n"
   ]
  },
  {
   "cell_type": "markdown",
   "metadata": {
    "application/vnd.databricks.v1+cell": {
     "cellMetadata": {
      "byteLimit": 2048000,
      "rowLimit": 10000
     },
     "inputWidgets": {},
     "nuid": "3d81d757-8173-4573-9cac-c55c96c05212",
     "showTitle": false,
     "title": ""
    }
   },
   "source": [
    "\n",
    "### Push Event "
   ]
  },
  {
   "cell_type": "code",
   "execution_count": 0,
   "metadata": {
    "application/vnd.databricks.v1+cell": {
     "cellMetadata": {
      "byteLimit": 2048000,
      "rowLimit": 10000
     },
     "inputWidgets": {},
     "nuid": "4abc9b6d-3367-41e7-b8a4-78002165f288",
     "showTitle": false,
     "title": ""
    }
   },
   "outputs": [
    {
     "output_type": "display_data",
     "data": {
      "text/html": [
       "<style scoped>\n",
       "  .ansiout {\n",
       "    display: block;\n",
       "    unicode-bidi: embed;\n",
       "    white-space: pre-wrap;\n",
       "    word-wrap: break-word;\n",
       "    word-break: break-all;\n",
       "    font-family: \"Source Code Pro\", \"Menlo\", monospace;;\n",
       "    font-size: 13px;\n",
       "    color: #555;\n",
       "    margin-left: 4px;\n",
       "    line-height: 19px;\n",
       "  }\n",
       "</style>"
      ]
     },
     "metadata": {
      "application/vnd.databricks.v1+output": {
       "arguments": {},
       "data": "",
       "errorSummary": "Cancelled",
       "errorTraceType": "html",
       "metadata": {},
       "type": "ipynbError"
      }
     },
     "output_type": "display_data"
    }
   ],
   "source": [
    "df_push = df.filter(df.type==\"PushEvent\")\n",
    "df_push = add_index(df_push,\"push_event\")\n",
    "df_push = subDFWithMasterID2(df_push,\"payload\",\"push_event_id\")\n",
    "df_push = drop_null_columns(df_push)\n",
    "df_commits = df_push.select(\"push_event_id\",\"event_id\",explode(\"payload_commits\").alias(\"commits\"))\n",
    "df_commits = add_index(df_commits,\"push_commit\")\n",
    "df_commits = subDFWithMasterID2(df_commits,\"commits\",\"push_commit_id\",\"push_event_id\")\n",
    "df_commits = subDFWithMasterID2(df_commits,\"commits_author\",\"push_commit_id\",\"commits_distinct\",\"commits_message\",\"commits_sha\",\"commits_url\",\"push_event_id\")\n",
    "df_push = df_push.drop(\"commits\",\"distinct_size\")\n",
    "temp = df_push.select(\"push_event_id\",\"event_id\")\n",
    "df = df.join(temp,\"event_id\",\"left\")\n",
    "df.cache()\n",
    "df = df.fillna(0,subset=\"push_event_id\")\n",
    "df.unpersist()\n",
    "df_commits.drop(\"event_id\")\n",
    "df_push.drop(\"event_id\")"
   ]
  },
  {
   "cell_type": "code",
   "execution_count": 0,
   "metadata": {
    "application/vnd.databricks.v1+cell": {
     "cellMetadata": {
      "byteLimit": 2048000,
      "rowLimit": 10000
     },
     "inputWidgets": {},
     "nuid": "ee2033df-0bab-44be-9bf2-eca7040d7f05",
     "showTitle": false,
     "title": ""
    }
   },
   "outputs": [
    {
     "output_type": "display_data",
     "data": {
      "text/html": [
       "<style scoped>\n",
       "  .ansiout {\n",
       "    display: block;\n",
       "    unicode-bidi: embed;\n",
       "    white-space: pre-wrap;\n",
       "    word-wrap: break-word;\n",
       "    word-break: break-all;\n",
       "    font-family: \"Source Code Pro\", \"Menlo\", monospace;;\n",
       "    font-size: 13px;\n",
       "    color: #555;\n",
       "    margin-left: 4px;\n",
       "    line-height: 19px;\n",
       "  }\n",
       "</style>"
      ]
     },
     "metadata": {
      "application/vnd.databricks.v1+output": {
       "arguments": {},
       "data": "",
       "errorSummary": "Cancelled",
       "errorTraceType": "html",
       "metadata": {},
       "type": "ipynbError"
      }
     },
     "output_type": "display_data"
    }
   ],
   "source": [
    "write_df_to_adls(df_push,10,\"push_event_id\",\"push_event\",True)\n",
    "write_df_to_adls(df_commits,10,\"push_commit_id\",\"push_commits\",True)"
   ]
  },
  {
   "cell_type": "markdown",
   "metadata": {
    "application/vnd.databricks.v1+cell": {
     "cellMetadata": {
      "byteLimit": 2048000,
      "rowLimit": 10000
     },
     "inputWidgets": {},
     "nuid": "d1df3690-27c9-404a-967e-6141780ce6e8",
     "showTitle": false,
     "title": ""
    }
   },
   "source": [
    "# Public Event"
   ]
  },
  {
   "cell_type": "code",
   "execution_count": 0,
   "metadata": {
    "application/vnd.databricks.v1+cell": {
     "cellMetadata": {
      "byteLimit": 2048000,
      "rowLimit": 10000
     },
     "inputWidgets": {},
     "nuid": "1aa158ab-e42c-4599-bd93-33bec9b51980",
     "showTitle": false,
     "title": ""
    }
   },
   "outputs": [
    {
     "output_type": "display_data",
     "data": {
      "text/html": [
       "<style scoped>\n",
       "  .ansiout {\n",
       "    display: block;\n",
       "    unicode-bidi: embed;\n",
       "    white-space: pre-wrap;\n",
       "    word-wrap: break-word;\n",
       "    word-break: break-all;\n",
       "    font-family: \"Source Code Pro\", \"Menlo\", monospace;;\n",
       "    font-size: 13px;\n",
       "    color: #555;\n",
       "    margin-left: 4px;\n",
       "    line-height: 19px;\n",
       "  }\n",
       "</style>"
      ]
     },
     "metadata": {
      "application/vnd.databricks.v1+output": {
       "arguments": {},
       "data": "",
       "errorSummary": "Cancelled",
       "errorTraceType": "html",
       "metadata": {},
       "type": "ipynbError"
      }
     },
     "output_type": "display_data"
    }
   ],
   "source": [
    "df = df.withColumn(\"made_public_via_event\",when(col(\"type\") == \"Public Event\", True).otherwise(False))"
   ]
  },
  {
   "cell_type": "markdown",
   "metadata": {
    "application/vnd.databricks.v1+cell": {
     "cellMetadata": {
      "byteLimit": 2048000,
      "rowLimit": 10000
     },
     "inputWidgets": {},
     "nuid": "f84a97b0-10fd-4fde-b9f7-aa587a51b495",
     "showTitle": false,
     "title": ""
    }
   },
   "source": [
    "\n",
    "Saving Main Table"
   ]
  },
  {
   "cell_type": "code",
   "execution_count": 0,
   "metadata": {
    "application/vnd.databricks.v1+cell": {
     "cellMetadata": {
      "byteLimit": 2048000,
      "rowLimit": 10000
     },
     "inputWidgets": {},
     "nuid": "750bdc69-c7be-4bfb-bdc1-ab05cdc3d024",
     "showTitle": false,
     "title": ""
    }
   },
   "outputs": [
    {
     "output_type": "display_data",
     "data": {
      "text/html": [
       "<style scoped>\n",
       "  .ansiout {\n",
       "    display: block;\n",
       "    unicode-bidi: embed;\n",
       "    white-space: pre-wrap;\n",
       "    word-wrap: break-word;\n",
       "    word-break: break-all;\n",
       "    font-family: \"Source Code Pro\", \"Menlo\", monospace;;\n",
       "    font-size: 13px;\n",
       "    color: #555;\n",
       "    margin-left: 4px;\n",
       "    line-height: 19px;\n",
       "  }\n",
       "</style>"
      ]
     },
     "metadata": {
      "application/vnd.databricks.v1+output": {
       "arguments": {},
       "data": "",
       "errorSummary": "Cancelled",
       "errorTraceType": "html",
       "metadata": {},
       "type": "ipynbError"
      }
     },
     "output_type": "display_data"
    }
   ],
   "source": [
    "\n",
    "\n",
    "df = df.drop('payload')\n",
    "\n",
    "write_df_to_adls(df,10,\"event_id\",'master_events',True)\n",
    "write_df_to_adls(master_users,10,\"user_id\",'master_users',True)\n"
   ]
  }
 ],
 "metadata": {
  "application/vnd.databricks.v1+notebook": {
   "dashboards": [],
   "language": "python",
   "notebookMetadata": {
    "pythonIndentUnit": 4
   },
   "notebookName": "Rough AAA Project 2- Silver Layer",
   "widgets": {}
  }
 },
 "nbformat": 4,
 "nbformat_minor": 0
}
