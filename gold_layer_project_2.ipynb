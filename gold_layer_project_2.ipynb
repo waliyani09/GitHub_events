{
 "cells": [
  {
   "cell_type": "markdown",
   "metadata": {
    "application/vnd.databricks.v1+cell": {
     "cellMetadata": {},
     "inputWidgets": {},
     "nuid": "de626e24-49bc-4337-ae00-c41dbba0eb0a",
     "showTitle": false,
     "title": ""
    }
   },
   "source": [
    "\n",
    "### Setting storage account info"
   ]
  },
  {
   "cell_type": "code",
   "execution_count": null,
   "metadata": {
    "application/vnd.databricks.v1+cell": {
     "cellMetadata": {},
     "inputWidgets": {},
     "nuid": "d9a820f5-ca5d-4655-b6cb-1249826fb470",
     "showTitle": false,
     "title": ""
    }
   },
   "outputs": [],
   "source": [
    "contname = 'team4-project2' #azure storage account container\n",
    "storage_acct_name = '20230821desa'\n",
    "\n",
    "file_pattern = f\"abfss://{contname}@{storage_acct_name}.dfs.core.windows.net/SilverLayer\"\n",
    "import os\n"
   ]
  },
  {
   "cell_type": "markdown",
   "metadata": {
    "application/vnd.databricks.v1+cell": {
     "cellMetadata": {},
     "inputWidgets": {},
     "nuid": "8101aa05-c660-4fee-bff5-c60b93dac6eb",
     "showTitle": false,
     "title": ""
    }
   },
   "source": [
    "\n",
    "### Loading in tables \n",
    "\n",
    "- these are the tables for the gold layer"
   ]
  },
  {
   "cell_type": "code",
   "execution_count": null,
   "metadata": {
    "application/vnd.databricks.v1+cell": {
     "cellMetadata": {},
     "inputWidgets": {},
     "nuid": "93ec70e4-edb9-4b2d-a419-109f531f7cc5",
     "showTitle": false,
     "title": ""
    }
   },
   "outputs": [],
   "source": [
    "master_df = spark.read.format('parquet').load(f'{file_pattern}/master_events').withColumnRenamed('id', 'event_id')\n",
    "actor_df = spark.read.format('parquet').load(f'{file_pattern}/actors')\n",
    "repo_df = spark.read.format('parquet').load(f'{file_pattern}/repo')\n",
    "push_df = spark.read.format('parquet').load(f'{file_pattern}/push_event')\n",
    "commits_df = spark.read.format('parquet').load(f'{file_pattern}/push_commits')\n",
    "create_event_df = spark.read.format('parquet').load(f'{file_pattern}/create_event')\n",
    "watch_df = spark.read.format('parquet').load(f'{file_pattern}/watch_events')\n"
   ]
  },
  {
   "cell_type": "markdown",
   "metadata": {
    "application/vnd.databricks.v1+cell": {
     "cellMetadata": {},
     "inputWidgets": {},
     "nuid": "a8fa4279-6f0b-4686-8ee8-1404774b3525",
     "showTitle": false,
     "title": ""
    }
   },
   "source": [
    "\n",
    "### Storage Account Settings"
   ]
  },
  {
   "cell_type": "code",
   "execution_count": null,
   "metadata": {
    "application/vnd.databricks.v1+cell": {
     "cellMetadata": {},
     "inputWidgets": {},
     "nuid": "133869f6-03ee-4394-b0fb-53d9084f21fa",
     "showTitle": false,
     "title": ""
    }
   },
   "outputs": [],
   "source": [
    "\n",
    "adls_container = os.getenv('ADLS_CONTAINER_NAME') #azure storage account container\n",
    "adls_account_name = os.getenv('ADLS_ACCOUNT_NAME')\n",
    "client_id = os.getenv('ADLS_CLIENT_ID') #aka: app id\n",
    "tenant_id = os.getenv('ADLS_TENANT_ID') #aka: directory ids\n",
    "\n",
    "service_credential = dbutils.secrets.get(scope=\"databricks-app-kv\",key=\"databricks-application\")\n",
    "\n",
    "spark.conf.set(f\"fs.azure.account.auth.type.{adls_account_name}.dfs.core.windows.net\", \"OAuth\")\n",
    "spark.conf.set(f\"fs.azure.account.oauth.provider.type.{adls_account_name}.dfs.core.windows.net\", \"org.apache.hadoop.fs.azurebfs.oauth2.ClientCredsTokenProvider\")\n",
    "spark.conf.set(f\"fs.azure.account.oauth2.client.id.{adls_account_name}.dfs.core.windows.net\", f\"{client_id}\")\n",
    "spark.conf.set(f\"fs.azure.account.oauth2.client.secret.{adls_account_name}.dfs.core.windows.net\", service_credential)\n",
    "spark.conf.set(f\"fs.azure.account.oauth2.client.endpoint.{adls_account_name}.dfs.core.windows.net\", f\"https://login.microsoftonline.com/{tenant_id}/oauth2/token\")\n"
   ]
  },
  {
   "cell_type": "markdown",
   "metadata": {
    "application/vnd.databricks.v1+cell": {
     "cellMetadata": {},
     "inputWidgets": {},
     "nuid": "e6fe0470-5af0-40dd-ab28-d69fd71b3387",
     "showTitle": false,
     "title": ""
    }
   },
   "source": [
    "\n",
    "### Writing tables \n",
    "\n",
    "- these are the tables written to the gold layer"
   ]
  },
  {
   "cell_type": "code",
   "execution_count": null,
   "metadata": {
    "application/vnd.databricks.v1+cell": {
     "cellMetadata": {
      "byteLimit": 2048000,
      "rowLimit": 10000
     },
     "inputWidgets": {},
     "nuid": "8b494d80-4285-46a3-8d0d-b2dd34c70501",
     "showTitle": false,
     "title": ""
    }
   },
   "outputs": [
    {
     "data": {
      "text/plain": [
       "\u001b[0;31m---------------------------------------------------------------------------\u001b[0m\n",
       "\u001b[0;31mNameError\u001b[0m                                 Traceback (most recent call last)\n",
       "File \u001b[0;32m<command-173403117479033>:1\u001b[0m\n",
       "\u001b[0;32m----> 1\u001b[0m master_df\u001b[38;5;241m.\u001b[39mrepartition(X)\u001b[38;5;241m.\u001b[39mwrite\u001b[38;5;241m.\u001b[39mmode(\u001b[38;5;124m\"\u001b[39m\u001b[38;5;124moverwrite\u001b[39m\u001b[38;5;124m\"\u001b[39m)\u001b[38;5;241m.\u001b[39mparquet(\u001b[38;5;124mf\u001b[39m\u001b[38;5;124m'\u001b[39m\u001b[38;5;124mabfss://\u001b[39m\u001b[38;5;132;01m{\u001b[39;00mcontname\u001b[38;5;132;01m}\u001b[39;00m\u001b[38;5;124m@\u001b[39m\u001b[38;5;132;01m{\u001b[39;00mstorage_acct_name\u001b[38;5;132;01m}\u001b[39;00m\u001b[38;5;124m.dfs.core.windows.net/GoldLayer/master_events\u001b[39m\u001b[38;5;124m'\u001b[39m)\n",
       "\u001b[1;32m      2\u001b[0m actor_df\u001b[38;5;241m.\u001b[39mrepartition(X)\u001b[38;5;241m.\u001b[39mwrite\u001b[38;5;241m.\u001b[39mmode(\u001b[38;5;124m\"\u001b[39m\u001b[38;5;124moverwrite\u001b[39m\u001b[38;5;124m\"\u001b[39m)\u001b[38;5;241m.\u001b[39mparquet(\u001b[38;5;124mf\u001b[39m\u001b[38;5;124m'\u001b[39m\u001b[38;5;124mabfss://\u001b[39m\u001b[38;5;132;01m{\u001b[39;00mcontname\u001b[38;5;132;01m}\u001b[39;00m\u001b[38;5;124m@\u001b[39m\u001b[38;5;132;01m{\u001b[39;00mstorage_acct_name\u001b[38;5;132;01m}\u001b[39;00m\u001b[38;5;124m.dfs.core.windows.net/GoldLayer/actor\u001b[39m\u001b[38;5;124m'\u001b[39m)\n",
       "\u001b[1;32m      3\u001b[0m repo_df\u001b[38;5;241m.\u001b[39mrepartition(X)\u001b[38;5;241m.\u001b[39mwrite\u001b[38;5;241m.\u001b[39mmode(\u001b[38;5;124m\"\u001b[39m\u001b[38;5;124moverwrite\u001b[39m\u001b[38;5;124m\"\u001b[39m)\u001b[38;5;241m.\u001b[39mparquet(\u001b[38;5;124mf\u001b[39m\u001b[38;5;124m'\u001b[39m\u001b[38;5;124mabfss://\u001b[39m\u001b[38;5;132;01m{\u001b[39;00mcontname\u001b[38;5;132;01m}\u001b[39;00m\u001b[38;5;124m@\u001b[39m\u001b[38;5;132;01m{\u001b[39;00mstorage_acct_name\u001b[38;5;132;01m}\u001b[39;00m\u001b[38;5;124m.dfs.core.windows.net/GoldLayer/repo\u001b[39m\u001b[38;5;124m'\u001b[39m)\n",
       "\n",
       "\u001b[0;31mNameError\u001b[0m: name 'master_df' is not defined"
      ]
     },
     "metadata": {
      "application/vnd.databricks.v1+output": {
       "arguments": {},
       "data": "\u001b[0;31m---------------------------------------------------------------------------\u001b[0m\n\u001b[0;31mNameError\u001b[0m                                 Traceback (most recent call last)\nFile \u001b[0;32m<command-173403117479033>:1\u001b[0m\n\u001b[0;32m----> 1\u001b[0m master_df\u001b[38;5;241m.\u001b[39mrepartition(X)\u001b[38;5;241m.\u001b[39mwrite\u001b[38;5;241m.\u001b[39mmode(\u001b[38;5;124m\"\u001b[39m\u001b[38;5;124moverwrite\u001b[39m\u001b[38;5;124m\"\u001b[39m)\u001b[38;5;241m.\u001b[39mparquet(\u001b[38;5;124mf\u001b[39m\u001b[38;5;124m'\u001b[39m\u001b[38;5;124mabfss://\u001b[39m\u001b[38;5;132;01m{\u001b[39;00mcontname\u001b[38;5;132;01m}\u001b[39;00m\u001b[38;5;124m@\u001b[39m\u001b[38;5;132;01m{\u001b[39;00mstorage_acct_name\u001b[38;5;132;01m}\u001b[39;00m\u001b[38;5;124m.dfs.core.windows.net/GoldLayer/master_events\u001b[39m\u001b[38;5;124m'\u001b[39m)\n\u001b[1;32m      2\u001b[0m actor_df\u001b[38;5;241m.\u001b[39mrepartition(X)\u001b[38;5;241m.\u001b[39mwrite\u001b[38;5;241m.\u001b[39mmode(\u001b[38;5;124m\"\u001b[39m\u001b[38;5;124moverwrite\u001b[39m\u001b[38;5;124m\"\u001b[39m)\u001b[38;5;241m.\u001b[39mparquet(\u001b[38;5;124mf\u001b[39m\u001b[38;5;124m'\u001b[39m\u001b[38;5;124mabfss://\u001b[39m\u001b[38;5;132;01m{\u001b[39;00mcontname\u001b[38;5;132;01m}\u001b[39;00m\u001b[38;5;124m@\u001b[39m\u001b[38;5;132;01m{\u001b[39;00mstorage_acct_name\u001b[38;5;132;01m}\u001b[39;00m\u001b[38;5;124m.dfs.core.windows.net/GoldLayer/actor\u001b[39m\u001b[38;5;124m'\u001b[39m)\n\u001b[1;32m      3\u001b[0m repo_df\u001b[38;5;241m.\u001b[39mrepartition(X)\u001b[38;5;241m.\u001b[39mwrite\u001b[38;5;241m.\u001b[39mmode(\u001b[38;5;124m\"\u001b[39m\u001b[38;5;124moverwrite\u001b[39m\u001b[38;5;124m\"\u001b[39m)\u001b[38;5;241m.\u001b[39mparquet(\u001b[38;5;124mf\u001b[39m\u001b[38;5;124m'\u001b[39m\u001b[38;5;124mabfss://\u001b[39m\u001b[38;5;132;01m{\u001b[39;00mcontname\u001b[38;5;132;01m}\u001b[39;00m\u001b[38;5;124m@\u001b[39m\u001b[38;5;132;01m{\u001b[39;00mstorage_acct_name\u001b[38;5;132;01m}\u001b[39;00m\u001b[38;5;124m.dfs.core.windows.net/GoldLayer/repo\u001b[39m\u001b[38;5;124m'\u001b[39m)\n\n\u001b[0;31mNameError\u001b[0m: name 'master_df' is not defined",
       "errorSummary": "<span class='ansi-red-fg'>NameError</span>: name 'master_df' is not defined",
       "errorTraceType": "ansi",
       "metadata": {},
       "type": "ipynbError"
      }
     },
     "output_type": "display_data"
    }
   ],
   "source": [
    "\n",
    "master_df.repartition(23).write.mode(\"overwrite\").parquet(f'abfss://{contname}@{storage_acct_name}.dfs.core.windows.net/GoldLayer/master_events')\n",
    "\n",
    "\n",
    "actor_df.repartition(7).write.mode(\"overwrite\").parquet(f'abfss://{contname}@{storage_acct_name}.dfs.core.windows.net/GoldLayer/actor')\n",
    "\n",
    "\n",
    "repo_df.repartition(1).write.mode(\"overwrite\").parquet(f'abfss://{contname}@{storage_acct_name}.dfs.core.windows.net/GoldLayer/repo')\n",
    "\n",
    "\n",
    "push_df.repartition(18).write.mode(\"overwrite\").parquet(f'abfss://{contname}@{storage_acct_name}.dfs.core.windows.net/GoldLayer/push')\n",
    "\n",
    "\n",
    "commits_df.repartition(7).write.mode(\"overwrite\").parquet(f'abfss://{contname}@{storage_acct_name}.dfs.core.windows.net/GoldLayer/commits')\n",
    "\n",
    "create_event_df.repartition(3).write.mode(\"overwrite\").parquet(f'abfss://{contname}@{storage_acct_name}.dfs.core.windows.net/GoldLayer/create_event')\n",
    "\n",
    "watch_df.repartition(3).write.mode(\"overwrite\").parquet(f'abfss://{contname}@{storage_acct_name}.dfs.core.windows.net/GoldLayer/watch_event')\n"
   ]
  },
  {
   "cell_type": "markdown",
   "metadata": {
    "application/vnd.databricks.v1+cell": {
     "cellMetadata": {},
     "inputWidgets": {},
     "nuid": "b652911f-3a28-447a-a60d-5643150fa058",
     "showTitle": false,
     "title": ""
    }
   },
   "source": [
    "\n",
    "#### Specific Use Case:\n",
    "\n",
    "Analyze the number of watchers a repositiory has to see the new up and coming coding projects."
   ]
  }
 ],
 "metadata": {
  "application/vnd.databricks.v1+notebook": {
   "dashboards": [],
   "language": "python",
   "notebookMetadata": {
    "pythonIndentUnit": 4
   },
   "notebookName": "gold_layer_project_2",
   "widgets": {}
  },
  "language_info": {
   "name": "python"
  }
 },
 "nbformat": 4,
 "nbformat_minor": 0
}
